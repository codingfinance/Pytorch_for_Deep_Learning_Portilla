{
  "nbformat": 4,
  "nbformat_minor": 0,
  "metadata": {
    "colab": {
      "name": "01-Linear-Regression-with-PyTorch.ipynb",
      "provenance": [],
      "collapsed_sections": []
    },
    "kernelspec": {
      "name": "python3",
      "display_name": "Python 3"
    }
  },
  "cells": [
    {
      "cell_type": "markdown",
      "metadata": {
        "id": "ymGABOYfBndd",
        "colab_type": "text"
      },
      "source": [
        "# Linear Regression with PyTorch\n",
        "In this section we'll use PyTorch's machine learning model to progressively develop a best-fit line for a given set of data points. Like most linear regression algorithms, we're seeking to minimize the error between our model and the actual data, using a <em>loss function</em> like mean-squared-error.\n",
        "\n",
        "<img src='https://upload.wikimedia.org/wikipedia/commons/e/ed/Residuals_for_Linear_Regression_Fit.png' width='400' style=\"display: inline-block\"><br>\n",
        "\n",
        "Image source: <a href='https://commons.wikimedia.org/wiki/File:Residuals_for_Linear_Regression_Fit.png'>https://commons.wikimedia.org/wiki/File:Residuals_for_Linear_Regression_Fit.png</a>\n",
        "\n",
        "To start, we'll develop a collection of data points that appear random, but that fit a known linear equation $y = 2x+1$"
      ]
    },
    {
      "cell_type": "markdown",
      "metadata": {
        "id": "3co2NiPiB3jJ",
        "colab_type": "text"
      },
      "source": [
        "## Perform standard imports"
      ]
    },
    {
      "cell_type": "code",
      "metadata": {
        "id": "4EEaaQgGoNLu",
        "colab_type": "code",
        "colab": {}
      },
      "source": [
        "import torch\n",
        "from torch import nn\n",
        "import numpy as np\n",
        "import matplotlib.pyplot as plt\n",
        "import seaborn as sns\n",
        "sns.set_style('whitegrid')"
      ],
      "execution_count": 0,
      "outputs": []
    },
    {
      "cell_type": "markdown",
      "metadata": {
        "id": "eE_3MbJhB9nK",
        "colab_type": "text"
      },
      "source": [
        "## Create a column matrix of X values\n",
        "We can create tensors right away rather than convert from NumPy arrays."
      ]
    },
    {
      "cell_type": "code",
      "metadata": {
        "id": "spee3HOtoXWQ",
        "colab_type": "code",
        "colab": {}
      },
      "source": [
        "X = torch.linspace(1,50,50).reshape(-1,1)"
      ],
      "execution_count": 0,
      "outputs": []
    },
    {
      "cell_type": "markdown",
      "metadata": {
        "id": "YGiVl-IfCI91",
        "colab_type": "text"
      },
      "source": [
        "## Create a \"random\" array of error values\n",
        "We want 50 random integer values that collectively cancel each other out."
      ]
    },
    {
      "cell_type": "code",
      "metadata": {
        "id": "2BnB1ct0oytk",
        "colab_type": "code",
        "colab": {
          "base_uri": "https://localhost:8080/",
          "height": 35
        },
        "outputId": "a7732695-c9d1-472f-fb80-0ada9e78d1eb"
      },
      "source": [
        "torch.manual_seed(71)\n",
        "e = torch.randint(-8,9,(50,1), dtype=torch.float)\n",
        "print(e.sum())"
      ],
      "execution_count": 3,
      "outputs": [
        {
          "output_type": "stream",
          "text": [
            "tensor(0.)\n"
          ],
          "name": "stdout"
        }
      ]
    },
    {
      "cell_type": "markdown",
      "metadata": {
        "id": "9Ph_WSGpCmX8",
        "colab_type": "text"
      },
      "source": [
        "## Create a column matrix of y values\n",
        "Here we'll set our own parameters of $\\mathrm {weight} = 2,\\; \\mathrm {bias} = 1$, plus the error amount.<br><strong><tt>y</tt></strong> will have the same shape as <strong><tt>X</tt></strong> and <strong><tt>e</tt></strong>"
      ]
    },
    {
      "cell_type": "code",
      "metadata": {
        "id": "3MbcKTmkqVyh",
        "colab_type": "code",
        "colab": {
          "base_uri": "https://localhost:8080/",
          "height": 35
        },
        "outputId": "3c76d9cf-26a6-44cb-8609-25cece36843d"
      },
      "source": [
        "y = 2*X + 1 + e\n",
        "print(y.shape)"
      ],
      "execution_count": 4,
      "outputs": [
        {
          "output_type": "stream",
          "text": [
            "torch.Size([50, 1])\n"
          ],
          "name": "stdout"
        }
      ]
    },
    {
      "cell_type": "markdown",
      "metadata": {
        "id": "JesGAfvLCzmE",
        "colab_type": "text"
      },
      "source": [
        "## Plot the results\n"
      ]
    },
    {
      "cell_type": "code",
      "metadata": {
        "id": "Gr5AcapiqsGG",
        "colab_type": "code",
        "outputId": "d9463aef-0e9f-435b-d5f5-d8ee1bf805de",
        "colab": {
          "base_uri": "https://localhost:8080/",
          "height": 297
        }
      },
      "source": [
        "plt.scatter(X,y)\n",
        "plt.ylabel('y')\n",
        "plt.xlabel('x')"
      ],
      "execution_count": 5,
      "outputs": [
        {
          "output_type": "execute_result",
          "data": {
            "text/plain": [
              "Text(0.5, 0, 'x')"
            ]
          },
          "metadata": {
            "tags": []
          },
          "execution_count": 5
        },
        {
          "output_type": "display_data",
          "data": {
            "image/png": "[encoded data removed]",
            "text/plain": [
              "<Figure size 432x288 with 1 Axes>"
            ]
          },
          "metadata": {
            "tags": []
          }
        }
      ]
    },
    {
      "cell_type": "markdown",
      "metadata": {
        "id": "YzNQRX51DDww",
        "colab_type": "text"
      },
      "source": [
        "Note that when we created tensor $X$, we did <em>not</em> pass <tt>requires_grad=True</tt>. This means that $y$ doesn't have a gradient function, and <tt>y.backward()</tt> won't work. Since PyTorch is not tracking operations, it doesn't know the relationship between $X$ and $y$."
      ]
    },
    {
      "cell_type": "markdown",
      "metadata": {
        "id": "B-nMHsR2DLY5",
        "colab_type": "text"
      },
      "source": [
        "## Simple linear model\n",
        "As a quick demonstration we'll show how the built-in <tt>nn.Linear()</tt> model preselects weight and bias values at random."
      ]
    },
    {
      "cell_type": "code",
      "metadata": {
        "id": "FSx2CiMZqtAz",
        "colab_type": "code",
        "outputId": "131f39a2-4f76-45db-d2b2-8dff9a1a5767",
        "colab": {
          "base_uri": "https://localhost:8080/",
          "height": 90
        }
      },
      "source": [
        "# Fit a simple linear regression line\n",
        "torch.manual_seed(59)\n",
        "\n",
        "model = nn.Linear(in_features=1,\n",
        "                  out_features = 1)\n",
        "print(model.weight)\n",
        "print(model.bias)"
      ],
      "execution_count": 6,
      "outputs": [
        {
          "output_type": "stream",
          "text": [
            "Parameter containing:\n",
            "tensor([[0.1060]], requires_grad=True)\n",
            "Parameter containing:\n",
            "tensor([0.9638], requires_grad=True)\n"
          ],
          "name": "stdout"
        }
      ]
    },
    {
      "cell_type": "markdown",
      "metadata": {
        "id": "0hq05vOpDY8n",
        "colab_type": "text"
      },
      "source": [
        "Without seeing any data, the model sets a random weight of 0.1060 and a bias of 0.9638."
      ]
    },
    {
      "cell_type": "markdown",
      "metadata": {
        "id": "l0SkEZagrLGL",
        "colab_type": "text"
      },
      "source": [
        "## Model classes\n",
        "PyTorch lets us define models as object classes that can store multiple model layers. In upcoming notebooks we'll set up several neural network layers, and determine how each layer should perform its forward pass to the next layer. For now, though, we only need a single <tt>linear</tt> layer."
      ]
    },
    {
      "cell_type": "code",
      "metadata": {
        "id": "ocy_i0H0rkq8",
        "colab_type": "code",
        "colab": {}
      },
      "source": [
        "class Model(nn.Module):\n",
        "\n",
        "  def __init__(self, in_features, out_features):\n",
        "\n",
        "    super().__init__()\n",
        "    self.linear = nn.Linear(in_features, out_features)\n",
        "\n",
        "  def forward(self, x):\n",
        "\n",
        "    y_pred = self.linear(x)\n",
        "    return y_pred"
      ],
      "execution_count": 0,
      "outputs": []
    },
    {
      "cell_type": "markdown",
      "metadata": {
        "id": "2SZ94rIOFlc5",
        "colab_type": "text"
      },
      "source": [
        "<div class=\"alert alert-info\"><strong>NOTE:</strong> The \"Linear\" model layer used here doesn't really refer to linear regression. Instead, it describes the type of neural network layer employed. Linear layers are also called \"fully connected\" or \"dense\" layers. Going forward our models may contain linear layers, convolutional layers, and more.</div>"
      ]
    },
    {
      "cell_type": "code",
      "metadata": {
        "id": "N5EpKsLsseTq",
        "colab_type": "code",
        "outputId": "928aa4d0-9312-487e-820c-648288cf14f3",
        "colab": {
          "base_uri": "https://localhost:8080/",
          "height": 54
        }
      },
      "source": [
        "torch.manual_seed(59)\n",
        "\n",
        "model = Model(1,1)\n",
        "\n",
        "print(model.linear.weight.item())\n",
        "print(model.linear.bias.item())"
      ],
      "execution_count": 8,
      "outputs": [
        {
          "output_type": "stream",
          "text": [
            "0.10597813129425049\n",
            "0.9637961387634277\n"
          ],
          "name": "stdout"
        }
      ]
    },
    {
      "cell_type": "markdown",
      "metadata": {
        "id": "_gFC-L-UFsT5",
        "colab_type": "text"
      },
      "source": [
        "As models become more complex, it may be better to iterate over all the model parameters:"
      ]
    },
    {
      "cell_type": "code",
      "metadata": {
        "id": "XiNgFgbtskUn",
        "colab_type": "code",
        "outputId": "2e960dd9-abe0-45a0-87fe-16c8f02d98b6",
        "colab": {
          "base_uri": "https://localhost:8080/",
          "height": 54
        }
      },
      "source": [
        "for name, param in model.named_parameters():\n",
        "  print(name, '\\t', param.item())"
      ],
      "execution_count": 9,
      "outputs": [
        {
          "output_type": "stream",
          "text": [
            "linear.weight \t 0.10597813129425049\n",
            "linear.bias \t 0.9637961387634277\n"
          ],
          "name": "stdout"
        }
      ]
    },
    {
      "cell_type": "markdown",
      "metadata": {
        "id": "EfJkkKRZFvGn",
        "colab_type": "text"
      },
      "source": [
        "<div class=\"alert alert-info\"><strong>NOTE:</strong> In the above example we had our Model class accept arguments for the number of input and output features.<br>For simplicity we can hardcode them into the Model:\n",
        "         \n",
        "<tt><font color=black>\n",
        "class Model(torch.nn.Module):<br>\n",
        "&nbsp;&nbsp;&nbsp;&nbsp;def \\_\\_init\\_\\_(self):<br>\n",
        "&nbsp;&nbsp;&nbsp;&nbsp;&nbsp;&nbsp;&nbsp;&nbsp;super().\\_\\_init\\_\\_()<br>\n",
        "&nbsp;&nbsp;&nbsp;&nbsp;&nbsp;&nbsp;&nbsp;&nbsp;self.linear = Linear(1,1)<br><br>\n",
        "model = Model()\n",
        "</font></tt><br><br>\n",
        "\n",
        "Alternatively we can use default arguments:\n",
        "\n",
        "<tt><font color=black>\n",
        "class Model(torch.nn.Module):<br>\n",
        "&nbsp;&nbsp;&nbsp;&nbsp;def \\_\\_init\\_\\_(self, in_dim=1, out_dim=1):<br>\n",
        "&nbsp;&nbsp;&nbsp;&nbsp;&nbsp;&nbsp;&nbsp;&nbsp;super().\\_\\_init\\_\\_()<br>\n",
        "&nbsp;&nbsp;&nbsp;&nbsp;&nbsp;&nbsp;&nbsp;&nbsp;self.linear = Linear(in_dim,out_dim)<br><br>\n",
        "model = Model()<br>\n",
        "<em>\\# or</em><br>\n",
        "model = Model(i,o)</font></tt>\n",
        "</div>"
      ]
    },
    {
      "cell_type": "markdown",
      "metadata": {
        "id": "kavaj5zSF9sT",
        "colab_type": "text"
      },
      "source": [
        "Now let's see the result when we pass a tensor into the model."
      ]
    },
    {
      "cell_type": "code",
      "metadata": {
        "id": "WwH5cCfP1Kyq",
        "colab_type": "code",
        "outputId": "8e95586a-2045-43a5-f07e-387d9685e7ec",
        "colab": {
          "base_uri": "https://localhost:8080/",
          "height": 35
        }
      },
      "source": [
        "x = torch.tensor([2.0])\n",
        "print(model.forward(x))"
      ],
      "execution_count": 10,
      "outputs": [
        {
          "output_type": "stream",
          "text": [
            "tensor([1.1758], grad_fn=<AddBackward0>)\n"
          ],
          "name": "stdout"
        }
      ]
    },
    {
      "cell_type": "markdown",
      "metadata": {
        "id": "Fq7EUo38GDKg",
        "colab_type": "text"
      },
      "source": [
        "which is confirmed with $f(x) = (0.1060)(2.0)+(0.9638) = 1.1758$"
      ]
    },
    {
      "cell_type": "markdown",
      "metadata": {
        "id": "8ejSO-c5GIEf",
        "colab_type": "text"
      },
      "source": [
        "## Plot the initial model\n",
        "We can plot the untrained model against our dataset to get an idea of our starting point."
      ]
    },
    {
      "cell_type": "code",
      "metadata": {
        "id": "DkBgOxBM1dvV",
        "colab_type": "code",
        "outputId": "9c6fd859-bc17-4252-e3c6-2682733f5471",
        "colab": {
          "base_uri": "https://localhost:8080/",
          "height": 72
        }
      },
      "source": [
        "x1 = np.array([X.min(), X.max()])\n",
        "\n",
        "w1,b1 = model.linear.weight.item(), model.linear.bias.item()\n",
        "\n",
        "print(f'Initial weight: {w1:.8f}, Initial bias: {b1:.8f}')\n",
        "print()\n",
        "\n",
        "y1 = x1*w1 + b1\n",
        "print(y1)"
      ],
      "execution_count": 11,
      "outputs": [
        {
          "output_type": "stream",
          "text": [
            "Initial weight: 0.10597813, Initial bias: 0.96379614\n",
            "\n",
            "[1.0697743 6.2627025]\n"
          ],
          "name": "stdout"
        }
      ]
    },
    {
      "cell_type": "code",
      "metadata": {
        "id": "bvaMM4SU2O1b",
        "colab_type": "code",
        "outputId": "a92b34a5-43a8-4de7-8935-0d6a4c3b9a49",
        "colab": {
          "base_uri": "https://localhost:8080/",
          "height": 295
        }
      },
      "source": [
        "plt.scatter(X,y)\n",
        "plt.plot(x1,y1,'r')\n",
        "plt.title('Initial Model')\n",
        "plt.ylabel('y')\n",
        "plt.xlabel('x');"
      ],
      "execution_count": 12,
      "outputs": [
        {
          "output_type": "display_data",
          "data": {
            "image/png": "[encoded data removed]",
            "text/plain": [
              "<Figure size 432x288 with 1 Axes>"
            ]
          },
          "metadata": {
            "tags": []
          }
        }
      ]
    },
    {
      "cell_type": "markdown",
      "metadata": {
        "id": "NbOZ2gRTGYFu",
        "colab_type": "text"
      },
      "source": [
        "## Set the loss function\n",
        "We could write our own function to apply a Mean Squared Error (MSE) that follows<br>\n",
        "\n",
        "$\\begin{split}MSE &= \\frac {1} {n} \\sum_{i=1}^n {(y_i - \\hat y_i)}^2 \\\\\n",
        "&= \\frac {1} {n} \\sum_{i=1}^n {(y_i - (wx_i + b))}^2\\end{split}$<br>\n",
        "\n",
        "Fortunately PyTorch has it built in.<br>\n",
        "<em>By convention, you'll see the variable name \"criterion\" used, but feel free to use something like \"linear_loss_func\" if that's clearer.</em>"
      ]
    },
    {
      "cell_type": "code",
      "metadata": {
        "id": "E3OJwO7O3kyg",
        "colab_type": "code",
        "colab": {}
      },
      "source": [
        "criterion = nn.MSELoss()"
      ],
      "execution_count": 0,
      "outputs": []
    },
    {
      "cell_type": "markdown",
      "metadata": {
        "id": "NBZQ5BB7GhBB",
        "colab_type": "text"
      },
      "source": [
        "## Set the optimization\n",
        "Here we'll use <a href='https://en.wikipedia.org/wiki/Stochastic_gradient_descent'>Stochastic Gradient Descent</a> (SGD) with an applied <a href='https://en.wikipedia.org/wiki/Learning_rate'>learning rate</a> (lr) of 0.001. Recall that the learning rate tells the optimizer how much to adjust each parameter on the next round of calculations. Too large a step and we run the risk of overshooting the minimum, causing the algorithm to diverge. Too small and it will take a long time to converge.\n",
        "\n",
        "For more complicated (multivariate) data, you might also consider passing optional <a href='https://en.wikipedia.org/wiki/Stochastic_gradient_descent#Momentum'><tt>momentum</tt></a> and <a href='https://en.wikipedia.org/wiki/Tikhonov_regularization'><tt>weight_decay</tt></a> arguments. Momentum allows the algorithm to \"roll over\" small bumps to avoid local minima that can cause convergence too soon. Weight decay (also called an L2 penalty) applies to biases.\n",
        "\n",
        "For more information, see <a href='https://pytorch.org/docs/stable/optim.html'><strong><tt>torch.optim</tt></strong></a>"
      ]
    },
    {
      "cell_type": "code",
      "metadata": {
        "id": "r8haBupA3tqV",
        "colab_type": "code",
        "colab": {}
      },
      "source": [
        "optimizer = torch.optim.SGD(model.parameters(),\n",
        "                           lr = 0.001)"
      ],
      "execution_count": 0,
      "outputs": []
    },
    {
      "cell_type": "markdown",
      "metadata": {
        "id": "fonUCH_KGuSk",
        "colab_type": "text"
      },
      "source": [
        "## Train the model\n",
        "An <em>epoch</em> is a single pass through the entire dataset. We want to pick a sufficiently large number of epochs to reach a plateau close to our known parameters of $\\mathrm {weight} = 2,\\; \\mathrm {bias} = 1$"
      ]
    },
    {
      "cell_type": "markdown",
      "metadata": {
        "id": "HVw_Qg_ZGvPX",
        "colab_type": "text"
      },
      "source": [
        "<div class=\"alert alert-info\"><strong>Let's walk through the steps we're about to take:</strong><br>\n",
        "\n",
        "1. Set a reasonably large number of passes<br>\n",
        "<tt><font color=black>epochs = 50</font></tt><br>\n",
        "2. Create a list to store loss values. This will let us view our progress afterward.<br>\n",
        "<tt><font color=black>losses = []</font></tt><br>\n",
        "<tt><font color=black>for i in range(epochs):</font></tt><br>\n",
        "3. Bump \"i\" so that the printed report starts at 1<br>\n",
        "<tt><font color=black>&nbsp;&nbsp;&nbsp;&nbsp;i+=1</font></tt><br>\n",
        "4. Create a prediction set by running \"X\" through the current model parameters<br>\n",
        "<tt><font color=black>&nbsp;&nbsp;&nbsp;&nbsp;y_pred = model.forward(X)</font></tt><br>\n",
        "5. Calculate the loss<br>\n",
        "<tt><font color=black>&nbsp;&nbsp;&nbsp;&nbsp;loss = criterion(y_pred, y)</font></tt><br>\n",
        "6. Add the loss value to our tracking list<br>\n",
        "<tt><font color=black>&nbsp;&nbsp;&nbsp;&nbsp;losses.append(loss)</font></tt><br>\n",
        "7. Print the current line of results<br>\n",
        "<tt><font color=black>&nbsp;&nbsp;&nbsp;&nbsp;print(f'epoch: {i:2} loss: {loss.item():10.8f}')</font></tt><br>\n",
        "8. Gradients accumulate with every backprop. To prevent compounding we need to reset the stored gradient for each new epoch.<br>\n",
        "<tt><font color=black>&nbsp;&nbsp;&nbsp;&nbsp;optimizer.zero_grad()</font></tt><br>\n",
        "9. Now we can backprop<br>\n",
        "<tt><font color=black>&nbsp;&nbsp;&nbsp;&nbsp;loss.backward()</font></tt><br>\n",
        "10. Finally, we can update the hyperparameters of our model<br>\n",
        "<tt><font color=black>&nbsp;&nbsp;&nbsp;&nbsp;optimizer.step()</font></tt>\n",
        "</div>"
      ]
    },
    {
      "cell_type": "code",
      "metadata": {
        "id": "KFyppUx638Ab",
        "colab_type": "code",
        "outputId": "f89708b7-f88c-40dc-d3e6-efcf66fc3254",
        "colab": {
          "base_uri": "https://localhost:8080/",
          "height": 935
        }
      },
      "source": [
        "# Set a reasonably large number of passes\n",
        "epochs = 50\n",
        "\n",
        "# Create a list to store loss values.\n",
        "losses = []\n",
        "\n",
        "# Run our loop\n",
        "for i in range(epochs):\n",
        "\n",
        "  i+=1\n",
        "\n",
        "# Create a prediction by running \"X\" through current model parameter\n",
        "  y_pred = model.forward(X)\n",
        "\n",
        "# Calculate the loss\n",
        "  loss = criterion(y_pred, y)\n",
        "\n",
        "# Add the loss value to our tracking list\n",
        "  losses.append(loss)\n",
        "\n",
        "# Print the current line of result\n",
        "  print(f'epoch: {i:2}  loss: {loss.item():10.8f}  weight: {model.linear.weight.item():10.8f}  \\\n",
        "bias: {model.linear.bias.item():10.8f}') \n",
        "\n",
        "# Gradients accumulate with every backprop. To prevent compounding we need to \n",
        "# reset the stored gradient for each new epoch.\n",
        "  optimizer.zero_grad()\n",
        "\n",
        "# Now we can backdrop\n",
        "\n",
        "  loss.backward()\n",
        "\n",
        "# Finally update the hyperparameters of our model\n",
        "  optimizer.step()\n",
        "\n",
        "\n",
        "\n"
      ],
      "execution_count": 15,
      "outputs": [
        {
          "output_type": "stream",
          "text": [
            "epoch:  1  loss: 3057.21679688  weight: 0.10597813  bias: 0.96379614\n",
            "epoch:  2  loss: 1588.53076172  weight: 3.33490014  bias: 1.06046367\n",
            "epoch:  3  loss: 830.29992676  weight: 1.01483285  bias: 0.99226284\n",
            "epoch:  4  loss: 438.85214233  weight: 2.68179941  bias: 1.04252183\n",
            "epoch:  5  loss: 236.76144409  weight: 1.48402131  bias: 1.00766504\n",
            "epoch:  6  loss: 132.42912292  weight: 2.34460592  bias: 1.03396463\n",
            "epoch:  7  loss: 78.56573486  weight: 1.72622538  bias: 1.01632178\n",
            "epoch:  8  loss: 50.75775909  weight: 2.17050409  bias: 1.03025162\n",
            "epoch:  9  loss: 36.40123367  weight: 1.85124576  bias: 1.02149546\n",
            "epoch: 10  loss: 28.98923111  weight: 2.08060074  bias: 1.02903891\n",
            "epoch: 11  loss: 25.16238785  weight: 1.91576838  bias: 1.02487016\n",
            "epoch: 12  loss: 23.18647385  weight: 2.03416562  bias: 1.02911627\n",
            "epoch: 13  loss: 22.16612244  weight: 1.94905841  bias: 1.02731562\n",
            "epoch: 14  loss: 21.63911057  weight: 2.01017213  bias: 1.02985907\n",
            "epoch: 15  loss: 21.36676979  weight: 1.96622372  bias: 1.02928054\n",
            "epoch: 16  loss: 21.22591972  weight: 1.99776423  bias: 1.03094459\n",
            "epoch: 17  loss: 21.15294456  weight: 1.97506487  bias: 1.03099668\n",
            "epoch: 18  loss: 21.11501312  weight: 1.99133754  bias: 1.03220642\n",
            "epoch: 19  loss: 21.09518051  weight: 1.97960854  bias: 1.03258383\n",
            "epoch: 20  loss: 21.08468437  weight: 1.98799884  bias: 1.03355861\n",
            "epoch: 21  loss: 21.07901382  weight: 1.98193336  bias: 1.03410351\n",
            "epoch: 22  loss: 21.07583046  weight: 1.98625445  bias: 1.03495669\n",
            "epoch: 23  loss: 21.07394028  weight: 1.98311269  bias: 1.03558779\n",
            "epoch: 24  loss: 21.07270241  weight: 1.98533309  bias: 1.03637791\n",
            "epoch: 25  loss: 21.07181931  weight: 1.98370099  bias: 1.03705311\n",
            "epoch: 26  loss: 21.07110596  weight: 1.98483658  bias: 1.03781021\n",
            "epoch: 27  loss: 21.07048416  weight: 1.98398376  bias: 1.03850794\n",
            "epoch: 28  loss: 21.06991386  weight: 1.98455977  bias: 1.03924775\n",
            "epoch: 29  loss: 21.06937027  weight: 1.98410904  bias: 1.03995669\n",
            "epoch: 30  loss: 21.06883812  weight: 1.98439610  bias: 1.04068720\n",
            "epoch: 31  loss: 21.06830788  weight: 1.98415291  bias: 1.04140162\n",
            "epoch: 32  loss: 21.06778145  weight: 1.98429084  bias: 1.04212701\n",
            "epoch: 33  loss: 21.06726646  weight: 1.98415494  bias: 1.04284394\n",
            "epoch: 34  loss: 21.06674004  weight: 1.98421574  bias: 1.04356635\n",
            "epoch: 35  loss: 21.06622505  weight: 1.98413551  bias: 1.04428422\n",
            "epoch: 36  loss: 21.06570625  weight: 1.98415649  bias: 1.04500473\n",
            "epoch: 37  loss: 21.06518555  weight: 1.98410451  bias: 1.04572272\n",
            "epoch: 38  loss: 21.06467056  weight: 1.98410523  bias: 1.04644191\n",
            "epoch: 39  loss: 21.06415749  weight: 1.98406804  bias: 1.04715967\n",
            "epoch: 40  loss: 21.06364059  weight: 1.98405814  bias: 1.04787791\n",
            "epoch: 41  loss: 21.06312180  weight: 1.98402870  bias: 1.04859519\n",
            "epoch: 42  loss: 21.06260490  weight: 1.98401320  bias: 1.04931259\n",
            "epoch: 43  loss: 21.06209564  weight: 1.98398757  bias: 1.05002928\n",
            "epoch: 44  loss: 21.06157494  weight: 1.98396957  bias: 1.05074584\n",
            "epoch: 45  loss: 21.06107140  weight: 1.98394585  bias: 1.05146194\n",
            "epoch: 46  loss: 21.06055450  weight: 1.98392630  bias: 1.05217779\n",
            "epoch: 47  loss: 21.06004333  weight: 1.98390377  bias: 1.05289316\n",
            "epoch: 48  loss: 21.05953407  weight: 1.98388338  bias: 1.05360830\n",
            "epoch: 49  loss: 21.05901527  weight: 1.98386145  bias: 1.05432308\n",
            "epoch: 50  loss: 21.05850792  weight: 1.98384094  bias: 1.05503750\n"
          ],
          "name": "stdout"
        }
      ]
    },
    {
      "cell_type": "markdown",
      "metadata": {
        "id": "L4m5GbYNHKgf",
        "colab_type": "text"
      },
      "source": [
        "## Plot the loss values\n",
        "Let's see how loss changed over time"
      ]
    },
    {
      "cell_type": "code",
      "metadata": {
        "id": "Z-AeDxUlIvmx",
        "colab_type": "code",
        "colab": {
          "base_uri": "https://localhost:8080/",
          "height": 279
        },
        "outputId": "bb445035-0cd0-40bf-e984-4a6d741d92ae"
      },
      "source": [
        "plt.plot(range(epochs), losses)\n",
        "plt.ylabel('Loss')\n",
        "plt.xlabel('epoch');"
      ],
      "execution_count": 16,
      "outputs": [
        {
          "output_type": "display_data",
          "data": {
            "image/png": "[encoded data removed]",
            "text/plain": [
              "<Figure size 432x288 with 1 Axes>"
            ]
          },
          "metadata": {
            "tags": []
          }
        }
      ]
    },
    {
      "cell_type": "markdown",
      "metadata": {
        "id": "qs-n3WOYI9jb",
        "colab_type": "text"
      },
      "source": [
        "## Plot the result\n",
        "Now we'll derive <tt>y1</tt> from the new model to plot the most recent best-fit line."
      ]
    },
    {
      "cell_type": "code",
      "metadata": {
        "id": "fppkjWeOJPir",
        "colab_type": "code",
        "colab": {
          "base_uri": "https://localhost:8080/",
          "height": 90
        },
        "outputId": "e90338f7-d559-48cb-f9c2-b28205e8b587"
      },
      "source": [
        "w1,b1 = model.linear.weight.item(), model.linear.bias.item()\n",
        "print(f'Current weight: {w1:.8f}, Current bias: {b1:.8f}')\n",
        "print()\n",
        "\n",
        "y1 = x1*w1 + b1\n",
        "print(x1)\n",
        "print(y1)"
      ],
      "execution_count": 17,
      "outputs": [
        {
          "output_type": "stream",
          "text": [
            "Current weight: 1.98381913, Current bias: 1.05575156\n",
            "\n",
            "[ 1. 50.]\n",
            "[  3.0395708 100.246704 ]\n"
          ],
          "name": "stdout"
        }
      ]
    },
    {
      "cell_type": "code",
      "metadata": {
        "id": "z93efvcNJReD",
        "colab_type": "code",
        "colab": {
          "base_uri": "https://localhost:8080/",
          "height": 295
        },
        "outputId": "29cc62aa-f0f3-4aa8-e21e-314d78b2a2ea"
      },
      "source": [
        "plt.scatter(X.numpy(), y.numpy())\n",
        "plt.plot(x1,y1,'r')\n",
        "plt.title('Current Model')\n",
        "plt.ylabel('y')\n",
        "plt.xlabel('x');"
      ],
      "execution_count": 18,
      "outputs": [
        {
          "output_type": "display_data",
          "data": {
            "image/png": "[encoded data removed]",
            "text/plain": [
              "<Figure size 432x288 with 1 Axes>"
            ]
          },
          "metadata": {
            "tags": []
          }
        }
      ]
    },
    {
      "cell_type": "code",
      "metadata": {
        "id": "eB_0AH9EJdO1",
        "colab_type": "code",
        "colab": {}
      },
      "source": [
        ""
      ],
      "execution_count": 0,
      "outputs": []
    }
  ]
}