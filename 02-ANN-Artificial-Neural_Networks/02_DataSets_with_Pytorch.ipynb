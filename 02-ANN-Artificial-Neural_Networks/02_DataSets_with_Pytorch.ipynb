{
  "nbformat": 4,
  "nbformat_minor": 0,
  "metadata": {
    "colab": {
      "name": "02-DataSets_with_Pytorch.ipynb",
      "provenance": []
    },
    "kernelspec": {
      "name": "python3",
      "display_name": "Python 3"
    }
  },
  "cells": [
    {
      "cell_type": "markdown",
      "metadata": {
        "id": "jDRtN8KtJ9g7",
        "colab_type": "text"
      },
      "source": [
        "# Datasets with PyTorch\n",
        "In this section we'll show how to:\n",
        "* load data from outside files\n",
        "* build random batches using PyTorch's <a href='https://pytorch.org/docs/stable/data.html'><strong><tt>data</tt></strong></a> utilities<br>\n",
        "\n",
        "At the end we'll briefly mention <a href='https://pytorch.org/docs/stable/torchvision/index.html'><tt><strong>torchvision</strong></tt></a>."
      ]
    },
    {
      "cell_type": "markdown",
      "metadata": {
        "id": "WR7gTs3yKFHF",
        "colab_type": "text"
      },
      "source": [
        "## Perform standard imports"
      ]
    },
    {
      "cell_type": "code",
      "metadata": {
        "id": "45y_QLIzKI5u",
        "colab_type": "code",
        "colab": {}
      },
      "source": [
        "import torch\n",
        "import numpy as np\n",
        "import pandas as pd\n",
        "import matplotlib.pyplot as plt\n",
        "import io\n",
        "import seaborn as sns\n",
        "sns.set_style('whitegrid')"
      ],
      "execution_count": 0,
      "outputs": []
    },
    {
      "cell_type": "markdown",
      "metadata": {
        "id": "WPf6UThxKLOO",
        "colab_type": "text"
      },
      "source": [
        "load# Loading data from files\n",
        "We've seen how to load NumPy arrays into PyTorch, and anyone familiar with <tt>pandas.read_csv()</tt> can use it to prepare data before forming tensors. Here we'll load the <a href='https://en.wikipedia.org/wiki/Iris_flower_data_set'>iris flower dataset</a> saved as a .csv file.\n",
        "\n",
        "Since we are using Google's Colab, we will use the below code to load our iris dataset. You can igonre the next two code block and load your file directly to pandas dataframe."
      ]
    },
    {
      "cell_type": "code",
      "metadata": {
        "id": "fmTsaM0DKQqj",
        "colab_type": "code",
        "outputId": "e9aa2608-118f-41c1-9c97-9a10b0429baf",
        "colab": {
          "resources": {
            "http://localhost:8080/nbextensions/google.colab/files.js": {
              "data": "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",
              "ok": true,
              "headers": [
                [
                  "content-type",
                  "application/javascript"
                ]
              ],
              "status": 200,
              "status_text": "OK"
            }
          },
          "base_uri": "https://localhost:8080/",
          "height": 77
        }
      },
      "source": [
        "from google.colab import files\n",
        "uploaded = files.upload()"
      ],
      "execution_count": 3,
      "outputs": [
        {
          "output_type": "display_data",
          "data": {
            "text/html": [
              "\n",
              "     <input type=\"file\" id=\"files-db858ee7-0208-4658-a522-ecbb60fd6cef\" name=\"files[]\" multiple disabled />\n",
              "     <output id=\"result-db858ee7-0208-4658-a522-ecbb60fd6cef\">\n",
              "      Upload widget is only available when the cell has been executed in the\n",
              "      current browser session. Please rerun this cell to enable.\n",
              "      </output>\n",
              "      <script src=\"/nbextensions/google.colab/files.js\"></script> "
            ],
            "text/plain": [
              "<IPython.core.display.HTML object>"
            ]
          },
          "metadata": {
            "tags": []
          }
        },
        {
          "output_type": "stream",
          "text": [
            "Saving iris.csv to iris (3).csv\n"
          ],
          "name": "stdout"
        }
      ]
    },
    {
      "cell_type": "code",
      "metadata": {
        "id": "Y_UquAFPOPCb",
        "colab_type": "code",
        "outputId": "75f0b3f6-2b25-44b9-9ca4-d36e2c2f9ac8",
        "colab": {
          "base_uri": "https://localhost:8080/",
          "height": 206
        }
      },
      "source": [
        "df = pd.read_csv(io.StringIO(uploaded['iris.csv'].decode('utf-8')))\n",
        "df.head()"
      ],
      "execution_count": 4,
      "outputs": [
        {
          "output_type": "execute_result",
          "data": {
            "text/html": [
              "<div>\n",
              "<style scoped>\n",
              "    .dataframe tbody tr th:only-of-type {\n",
              "        vertical-align: middle;\n",
              "    }\n",
              "\n",
              "    .dataframe tbody tr th {\n",
              "        vertical-align: top;\n",
              "    }\n",
              "\n",
              "    .dataframe thead th {\n",
              "        text-align: right;\n",
              "    }\n",
              "</style>\n",
              "<table border=\"1\" class=\"dataframe\">\n",
              "  <thead>\n",
              "    <tr style=\"text-align: right;\">\n",
              "      <th></th>\n",
              "      <th>sepal length (cm)</th>\n",
              "      <th>sepal width (cm)</th>\n",
              "      <th>petal length (cm)</th>\n",
              "      <th>petal width (cm)</th>\n",
              "      <th>target</th>\n",
              "    </tr>\n",
              "  </thead>\n",
              "  <tbody>\n",
              "    <tr>\n",
              "      <th>0</th>\n",
              "      <td>5.1</td>\n",
              "      <td>3.5</td>\n",
              "      <td>1.4</td>\n",
              "      <td>0.2</td>\n",
              "      <td>0.0</td>\n",
              "    </tr>\n",
              "    <tr>\n",
              "      <th>1</th>\n",
              "      <td>4.9</td>\n",
              "      <td>3.0</td>\n",
              "      <td>1.4</td>\n",
              "      <td>0.2</td>\n",
              "      <td>0.0</td>\n",
              "    </tr>\n",
              "    <tr>\n",
              "      <th>2</th>\n",
              "      <td>4.7</td>\n",
              "      <td>3.2</td>\n",
              "      <td>1.3</td>\n",
              "      <td>0.2</td>\n",
              "      <td>0.0</td>\n",
              "    </tr>\n",
              "    <tr>\n",
              "      <th>3</th>\n",
              "      <td>4.6</td>\n",
              "      <td>3.1</td>\n",
              "      <td>1.5</td>\n",
              "      <td>0.2</td>\n",
              "      <td>0.0</td>\n",
              "    </tr>\n",
              "    <tr>\n",
              "      <th>4</th>\n",
              "      <td>5.0</td>\n",
              "      <td>3.6</td>\n",
              "      <td>1.4</td>\n",
              "      <td>0.2</td>\n",
              "      <td>0.0</td>\n",
              "    </tr>\n",
              "  </tbody>\n",
              "</table>\n",
              "</div>"
            ],
            "text/plain": [
              "   sepal length (cm)  sepal width (cm)  ...  petal width (cm)  target\n",
              "0                5.1               3.5  ...               0.2     0.0\n",
              "1                4.9               3.0  ...               0.2     0.0\n",
              "2                4.7               3.2  ...               0.2     0.0\n",
              "3                4.6               3.1  ...               0.2     0.0\n",
              "4                5.0               3.6  ...               0.2     0.0\n",
              "\n",
              "[5 rows x 5 columns]"
            ]
          },
          "metadata": {
            "tags": []
          },
          "execution_count": 4
        }
      ]
    },
    {
      "cell_type": "code",
      "metadata": {
        "id": "x0aic_gMOoK3",
        "colab_type": "code",
        "outputId": "c0a2a7fc-d2cd-4d43-a50b-418935b25c07",
        "colab": {
          "base_uri": "https://localhost:8080/",
          "height": 35
        }
      },
      "source": [
        "df.shape"
      ],
      "execution_count": 5,
      "outputs": [
        {
          "output_type": "execute_result",
          "data": {
            "text/plain": [
              "(150, 5)"
            ]
          },
          "metadata": {
            "tags": []
          },
          "execution_count": 5
        }
      ]
    },
    {
      "cell_type": "code",
      "metadata": {
        "id": "BtoBHbbvP624",
        "colab_type": "code",
        "outputId": "d13b975f-1c04-4fe1-f4b0-d7eb62d56c21",
        "colab": {
          "base_uri": "https://localhost:8080/",
          "height": 510
        }
      },
      "source": [
        "fig, axes = plt.subplots(nrows=2, ncols=2, figsize=(10,7))\n",
        "fig.tight_layout()\n",
        "\n",
        "plots = [(0,1),(2,3),(0,2),(1,3)]\n",
        "colors = ['b', 'r', 'g']\n",
        "labels = ['Iris setosa','Iris virginica','Iris versicolor']\n",
        "\n",
        "for i, ax in enumerate(axes.flat):\n",
        "    for j in range(3):\n",
        "        x = df.columns[plots[i][0]]\n",
        "        y = df.columns[plots[i][1]]\n",
        "        ax.scatter(df[df['target']==j][x], df[df['target']==j][y], color=colors[j])"
      ],
      "execution_count": 6,
      "outputs": [
        {
          "output_type": "display_data",
          "data": {
            "image/png": "[encoded data removed]",
            "text/plain": [
              "<Figure size 720x504 with 4 Axes>"
            ]
          },
          "metadata": {
            "tags": []
          }
        }
      ]
    },
    {
      "cell_type": "markdown",
      "metadata": {
        "id": "uR_YXEApQsz9",
        "colab_type": "text"
      },
      "source": [
        "The iris dataset consists of 50 samples each from three species of Iris (<em>Iris setosa</em>, <em>Iris virginica</em> and <em>Iris versicolor</em>), for 150 total samples. We have four features (sepal length & width, petal length & width) and three unique labels:\n",
        "0. <em>Iris setosa</em>\n",
        "1. <em>Iris virginica</em>\n",
        "2. <em>Iris versicolor</em>\n",
        "\n",
        "### The classic method for building train/test split tensors\n",
        "Before introducing PyTorch's Dataset and DataLoader classes, we'll take a quick look at the alternative."
      ]
    },
    {
      "cell_type": "code",
      "metadata": {
        "id": "XxrkQVWiQ5xt",
        "colab_type": "code",
        "colab": {}
      },
      "source": [
        "from sklearn.model_selection import train_test_split\n",
        "\n",
        "X_train, X_test, y_train, y_test = train_test_split(df.drop('target', axis = 1).values,\n",
        "                                                    df['target'].values,\n",
        "                                                    test_size = 0.2,\n",
        "                                                    random_state = 33)\n",
        "\n",
        "\n",
        "X_train = torch.FloatTensor(X_train)\n",
        "X_test = torch.FloatTensor(X_test)\n",
        "y_train = torch.LongTensor(y_train).reshape(-1,1)\n",
        "y_test = torch.LongTensor(y_test).reshape(-1,1)"
      ],
      "execution_count": 0,
      "outputs": []
    },
    {
      "cell_type": "code",
      "metadata": {
        "id": "eZwjIMZJRCYZ",
        "colab_type": "code",
        "outputId": "c90c027d-ab79-4859-87b7-0b397edf9b03",
        "colab": {
          "base_uri": "https://localhost:8080/",
          "height": 72
        }
      },
      "source": [
        "print(f'Training size: {len(y_train)}')\n",
        "labels, counts = y_train.unique(return_counts=True)\n",
        "print(f'Labels: {labels}\\nCounts: {counts}')"
      ],
      "execution_count": 8,
      "outputs": [
        {
          "output_type": "stream",
          "text": [
            "Training size: 120\n",
            "Labels: tensor([0, 1, 2])\n",
            "Counts: tensor([42, 42, 36])\n"
          ],
          "name": "stdout"
        }
      ]
    },
    {
      "cell_type": "markdown",
      "metadata": {
        "id": "GRnxiJPjSL52",
        "colab_type": "text"
      },
      "source": [
        "NOTE: The importance of a balanced training set is discussed in A systematic study of the class imbalance problem in convolutional neural networks by Mateusz Buda, Atsuto Maki, Maciej A. Mazurowski (10/15/17, latest rev 10/13/18) https://arxiv.org/abs/1710.05381\n",
        "For example, the authors show that oversampling a less common class so that it matches the more common classes is always the preferred choice."
      ]
    },
    {
      "cell_type": "code",
      "metadata": {
        "id": "l7hQSlDgSTJy",
        "colab_type": "code",
        "outputId": "90e9fd92-ec8d-49be-eaaa-823170b37bf8",
        "colab": {
          "base_uri": "https://localhost:8080/",
          "height": 35
        }
      },
      "source": [
        "X_train.size()"
      ],
      "execution_count": 9,
      "outputs": [
        {
          "output_type": "execute_result",
          "data": {
            "text/plain": [
              "torch.Size([120, 4])"
            ]
          },
          "metadata": {
            "tags": []
          },
          "execution_count": 9
        }
      ]
    },
    {
      "cell_type": "code",
      "metadata": {
        "id": "8j1GmflLSUmj",
        "colab_type": "code",
        "outputId": "1ac77c77-5a40-4ad1-8cc8-56112f73e4ec",
        "colab": {
          "base_uri": "https://localhost:8080/",
          "height": 35
        }
      },
      "source": [
        "y_train.size()"
      ],
      "execution_count": 10,
      "outputs": [
        {
          "output_type": "execute_result",
          "data": {
            "text/plain": [
              "torch.Size([120, 1])"
            ]
          },
          "metadata": {
            "tags": []
          },
          "execution_count": 10
        }
      ]
    },
    {
      "cell_type": "markdown",
      "metadata": {
        "id": "iLZuKzSfSVah",
        "colab_type": "text"
      },
      "source": [
        "NOTE: It's up to us to remember which columns correspond to which features."
      ]
    },
    {
      "cell_type": "markdown",
      "metadata": {
        "id": "4oScG89NSZUI",
        "colab_type": "text"
      },
      "source": [
        "## Using PyTorch's Dataset and DataLoader classes\n",
        "A far better alternative is to leverage PyTorch's <a href='https://pytorch.org/docs/stable/data.html'><strong><tt>Dataset</tt></strong></a> and <a href='https://pytorch.org/docs/stable/data.html#torch.utils.data.DataLoader'><strong><tt>DataLoader</strong></tt></a> classes.\n",
        "\n",
        "Usually, to set up a Dataset specific to our investigation we would define our own custom class that inherits from <tt>torch.utils.data.Dataset</tt> (we'll do this in the CNN section). For now, we can use the built-in <a href='https://pytorch.org/docs/stable/data.html#torch.utils.data.TensorDataset'><strong><tt>TensorDataset</tt></strong></a> class."
      ]
    },
    {
      "cell_type": "code",
      "metadata": {
        "id": "hy85OPXsSrJX",
        "colab_type": "code",
        "colab": {}
      },
      "source": [
        "from torch.utils.data import TensorDataset, DataLoader\n",
        "\n",
        "data = df.drop('target',axis=1).values\n",
        "labels = df['target'].values\n",
        "\n",
        "iris = TensorDataset(torch.FloatTensor(data),torch.LongTensor(labels))"
      ],
      "execution_count": 0,
      "outputs": []
    },
    {
      "cell_type": "code",
      "metadata": {
        "id": "JPgU00VySxVi",
        "colab_type": "code",
        "outputId": "a17b31dc-6fc1-4a1c-e730-b65c7f14ab4c",
        "colab": {
          "base_uri": "https://localhost:8080/",
          "height": 35
        }
      },
      "source": [
        "len(iris)"
      ],
      "execution_count": 12,
      "outputs": [
        {
          "output_type": "execute_result",
          "data": {
            "text/plain": [
              "150"
            ]
          },
          "metadata": {
            "tags": []
          },
          "execution_count": 12
        }
      ]
    },
    {
      "cell_type": "code",
      "metadata": {
        "id": "LX3eRLx-Sy_b",
        "colab_type": "code",
        "outputId": "83c5da2d-7056-4312-f030-01d2737723b2",
        "colab": {
          "base_uri": "https://localhost:8080/",
          "height": 35
        }
      },
      "source": [
        "type(iris)"
      ],
      "execution_count": 13,
      "outputs": [
        {
          "output_type": "execute_result",
          "data": {
            "text/plain": [
              "torch.utils.data.dataset.TensorDataset"
            ]
          },
          "metadata": {
            "tags": []
          },
          "execution_count": 13
        }
      ]
    },
    {
      "cell_type": "code",
      "metadata": {
        "id": "cp3bt6JMS0Hh",
        "colab_type": "code",
        "outputId": "cea7f916-ea9d-45c8-b571-7129ceeb57b2",
        "colab": {
          "base_uri": "https://localhost:8080/",
          "height": 1000
        }
      },
      "source": [
        "for i in iris:\n",
        "    print(i)"
      ],
      "execution_count": 14,
      "outputs": [
        {
          "output_type": "stream",
          "text": [
            "(tensor([5.1000, 3.5000, 1.4000, 0.2000]), tensor(0))\n",
            "(tensor([4.9000, 3.0000, 1.4000, 0.2000]), tensor(0))\n",
            "(tensor([4.7000, 3.2000, 1.3000, 0.2000]), tensor(0))\n",
            "(tensor([4.6000, 3.1000, 1.5000, 0.2000]), tensor(0))\n",
            "(tensor([5.0000, 3.6000, 1.4000, 0.2000]), tensor(0))\n",
            "(tensor([5.4000, 3.9000, 1.7000, 0.4000]), tensor(0))\n",
            "(tensor([4.6000, 3.4000, 1.4000, 0.3000]), tensor(0))\n",
            "(tensor([5.0000, 3.4000, 1.5000, 0.2000]), tensor(0))\n",
            "(tensor([4.4000, 2.9000, 1.4000, 0.2000]), tensor(0))\n",
            "(tensor([4.9000, 3.1000, 1.5000, 0.1000]), tensor(0))\n",
            "(tensor([5.4000, 3.7000, 1.5000, 0.2000]), tensor(0))\n",
            "(tensor([4.8000, 3.4000, 1.6000, 0.2000]), tensor(0))\n",
            "(tensor([4.8000, 3.0000, 1.4000, 0.1000]), tensor(0))\n",
            "(tensor([4.3000, 3.0000, 1.1000, 0.1000]), tensor(0))\n",
            "(tensor([5.8000, 4.0000, 1.2000, 0.2000]), tensor(0))\n",
            "(tensor([5.7000, 4.4000, 1.5000, 0.4000]), tensor(0))\n",
            "(tensor([5.4000, 3.9000, 1.3000, 0.4000]), tensor(0))\n",
            "(tensor([5.1000, 3.5000, 1.4000, 0.3000]), tensor(0))\n",
            "(tensor([5.7000, 3.8000, 1.7000, 0.3000]), tensor(0))\n",
            "(tensor([5.1000, 3.8000, 1.5000, 0.3000]), tensor(0))\n",
            "(tensor([5.4000, 3.4000, 1.7000, 0.2000]), tensor(0))\n",
            "(tensor([5.1000, 3.7000, 1.5000, 0.4000]), tensor(0))\n",
            "(tensor([4.6000, 3.6000, 1.0000, 0.2000]), tensor(0))\n",
            "(tensor([5.1000, 3.3000, 1.7000, 0.5000]), tensor(0))\n",
            "(tensor([4.8000, 3.4000, 1.9000, 0.2000]), tensor(0))\n",
            "(tensor([5.0000, 3.0000, 1.6000, 0.2000]), tensor(0))\n",
            "(tensor([5.0000, 3.4000, 1.6000, 0.4000]), tensor(0))\n",
            "(tensor([5.2000, 3.5000, 1.5000, 0.2000]), tensor(0))\n",
            "(tensor([5.2000, 3.4000, 1.4000, 0.2000]), tensor(0))\n",
            "(tensor([4.7000, 3.2000, 1.6000, 0.2000]), tensor(0))\n",
            "(tensor([4.8000, 3.1000, 1.6000, 0.2000]), tensor(0))\n",
            "(tensor([5.4000, 3.4000, 1.5000, 0.4000]), tensor(0))\n",
            "(tensor([5.2000, 4.1000, 1.5000, 0.1000]), tensor(0))\n",
            "(tensor([5.5000, 4.2000, 1.4000, 0.2000]), tensor(0))\n",
            "(tensor([4.9000, 3.1000, 1.5000, 0.1000]), tensor(0))\n",
            "(tensor([5.0000, 3.2000, 1.2000, 0.2000]), tensor(0))\n",
            "(tensor([5.5000, 3.5000, 1.3000, 0.2000]), tensor(0))\n",
            "(tensor([4.9000, 3.1000, 1.5000, 0.1000]), tensor(0))\n",
            "(tensor([4.4000, 3.0000, 1.3000, 0.2000]), tensor(0))\n",
            "(tensor([5.1000, 3.4000, 1.5000, 0.2000]), tensor(0))\n",
            "(tensor([5.0000, 3.5000, 1.3000, 0.3000]), tensor(0))\n",
            "(tensor([4.5000, 2.3000, 1.3000, 0.3000]), tensor(0))\n",
            "(tensor([4.4000, 3.2000, 1.3000, 0.2000]), tensor(0))\n",
            "(tensor([5.0000, 3.5000, 1.6000, 0.6000]), tensor(0))\n",
            "(tensor([5.1000, 3.8000, 1.9000, 0.4000]), tensor(0))\n",
            "(tensor([4.8000, 3.0000, 1.4000, 0.3000]), tensor(0))\n",
            "(tensor([5.1000, 3.8000, 1.6000, 0.2000]), tensor(0))\n",
            "(tensor([4.6000, 3.2000, 1.4000, 0.2000]), tensor(0))\n",
            "(tensor([5.3000, 3.7000, 1.5000, 0.2000]), tensor(0))\n",
            "(tensor([5.0000, 3.3000, 1.4000, 0.2000]), tensor(0))\n",
            "(tensor([7.0000, 3.2000, 4.7000, 1.4000]), tensor(1))\n",
            "(tensor([6.4000, 3.2000, 4.5000, 1.5000]), tensor(1))\n",
            "(tensor([6.9000, 3.1000, 4.9000, 1.5000]), tensor(1))\n",
            "(tensor([5.5000, 2.3000, 4.0000, 1.3000]), tensor(1))\n",
            "(tensor([6.5000, 2.8000, 4.6000, 1.5000]), tensor(1))\n",
            "(tensor([5.7000, 2.8000, 4.5000, 1.3000]), tensor(1))\n",
            "(tensor([6.3000, 3.3000, 4.7000, 1.6000]), tensor(1))\n",
            "(tensor([4.9000, 2.4000, 3.3000, 1.0000]), tensor(1))\n",
            "(tensor([6.6000, 2.9000, 4.6000, 1.3000]), tensor(1))\n",
            "(tensor([5.2000, 2.7000, 3.9000, 1.4000]), tensor(1))\n",
            "(tensor([5.0000, 2.0000, 3.5000, 1.0000]), tensor(1))\n",
            "(tensor([5.9000, 3.0000, 4.2000, 1.5000]), tensor(1))\n",
            "(tensor([6.0000, 2.2000, 4.0000, 1.0000]), tensor(1))\n",
            "(tensor([6.1000, 2.9000, 4.7000, 1.4000]), tensor(1))\n",
            "(tensor([5.6000, 2.9000, 3.6000, 1.3000]), tensor(1))\n",
            "(tensor([6.7000, 3.1000, 4.4000, 1.4000]), tensor(1))\n",
            "(tensor([5.6000, 3.0000, 4.5000, 1.5000]), tensor(1))\n",
            "(tensor([5.8000, 2.7000, 4.1000, 1.0000]), tensor(1))\n",
            "(tensor([6.2000, 2.2000, 4.5000, 1.5000]), tensor(1))\n",
            "(tensor([5.6000, 2.5000, 3.9000, 1.1000]), tensor(1))\n",
            "(tensor([5.9000, 3.2000, 4.8000, 1.8000]), tensor(1))\n",
            "(tensor([6.1000, 2.8000, 4.0000, 1.3000]), tensor(1))\n",
            "(tensor([6.3000, 2.5000, 4.9000, 1.5000]), tensor(1))\n",
            "(tensor([6.1000, 2.8000, 4.7000, 1.2000]), tensor(1))\n",
            "(tensor([6.4000, 2.9000, 4.3000, 1.3000]), tensor(1))\n",
            "(tensor([6.6000, 3.0000, 4.4000, 1.4000]), tensor(1))\n",
            "(tensor([6.8000, 2.8000, 4.8000, 1.4000]), tensor(1))\n",
            "(tensor([6.7000, 3.0000, 5.0000, 1.7000]), tensor(1))\n",
            "(tensor([6.0000, 2.9000, 4.5000, 1.5000]), tensor(1))\n",
            "(tensor([5.7000, 2.6000, 3.5000, 1.0000]), tensor(1))\n",
            "(tensor([5.5000, 2.4000, 3.8000, 1.1000]), tensor(1))\n",
            "(tensor([5.5000, 2.4000, 3.7000, 1.0000]), tensor(1))\n",
            "(tensor([5.8000, 2.7000, 3.9000, 1.2000]), tensor(1))\n",
            "(tensor([6.0000, 2.7000, 5.1000, 1.6000]), tensor(1))\n",
            "(tensor([5.4000, 3.0000, 4.5000, 1.5000]), tensor(1))\n",
            "(tensor([6.0000, 3.4000, 4.5000, 1.6000]), tensor(1))\n",
            "(tensor([6.7000, 3.1000, 4.7000, 1.5000]), tensor(1))\n",
            "(tensor([6.3000, 2.3000, 4.4000, 1.3000]), tensor(1))\n",
            "(tensor([5.6000, 3.0000, 4.1000, 1.3000]), tensor(1))\n",
            "(tensor([5.5000, 2.5000, 4.0000, 1.3000]), tensor(1))\n",
            "(tensor([5.5000, 2.6000, 4.4000, 1.2000]), tensor(1))\n",
            "(tensor([6.1000, 3.0000, 4.6000, 1.4000]), tensor(1))\n",
            "(tensor([5.8000, 2.6000, 4.0000, 1.2000]), tensor(1))\n",
            "(tensor([5.0000, 2.3000, 3.3000, 1.0000]), tensor(1))\n",
            "(tensor([5.6000, 2.7000, 4.2000, 1.3000]), tensor(1))\n",
            "(tensor([5.7000, 3.0000, 4.2000, 1.2000]), tensor(1))\n",
            "(tensor([5.7000, 2.9000, 4.2000, 1.3000]), tensor(1))\n",
            "(tensor([6.2000, 2.9000, 4.3000, 1.3000]), tensor(1))\n",
            "(tensor([5.1000, 2.5000, 3.0000, 1.1000]), tensor(1))\n",
            "(tensor([5.7000, 2.8000, 4.1000, 1.3000]), tensor(1))\n",
            "(tensor([6.3000, 3.3000, 6.0000, 2.5000]), tensor(2))\n",
            "(tensor([5.8000, 2.7000, 5.1000, 1.9000]), tensor(2))\n",
            "(tensor([7.1000, 3.0000, 5.9000, 2.1000]), tensor(2))\n",
            "(tensor([6.3000, 2.9000, 5.6000, 1.8000]), tensor(2))\n",
            "(tensor([6.5000, 3.0000, 5.8000, 2.2000]), tensor(2))\n",
            "(tensor([7.6000, 3.0000, 6.6000, 2.1000]), tensor(2))\n",
            "(tensor([4.9000, 2.5000, 4.5000, 1.7000]), tensor(2))\n",
            "(tensor([7.3000, 2.9000, 6.3000, 1.8000]), tensor(2))\n",
            "(tensor([6.7000, 2.5000, 5.8000, 1.8000]), tensor(2))\n",
            "(tensor([7.2000, 3.6000, 6.1000, 2.5000]), tensor(2))\n",
            "(tensor([6.5000, 3.2000, 5.1000, 2.0000]), tensor(2))\n",
            "(tensor([6.4000, 2.7000, 5.3000, 1.9000]), tensor(2))\n",
            "(tensor([6.8000, 3.0000, 5.5000, 2.1000]), tensor(2))\n",
            "(tensor([5.7000, 2.5000, 5.0000, 2.0000]), tensor(2))\n",
            "(tensor([5.8000, 2.8000, 5.1000, 2.4000]), tensor(2))\n",
            "(tensor([6.4000, 3.2000, 5.3000, 2.3000]), tensor(2))\n",
            "(tensor([6.5000, 3.0000, 5.5000, 1.8000]), tensor(2))\n",
            "(tensor([7.7000, 3.8000, 6.7000, 2.2000]), tensor(2))\n",
            "(tensor([7.7000, 2.6000, 6.9000, 2.3000]), tensor(2))\n",
            "(tensor([6.0000, 2.2000, 5.0000, 1.5000]), tensor(2))\n",
            "(tensor([6.9000, 3.2000, 5.7000, 2.3000]), tensor(2))\n",
            "(tensor([5.6000, 2.8000, 4.9000, 2.0000]), tensor(2))\n",
            "(tensor([7.7000, 2.8000, 6.7000, 2.0000]), tensor(2))\n",
            "(tensor([6.3000, 2.7000, 4.9000, 1.8000]), tensor(2))\n",
            "(tensor([6.7000, 3.3000, 5.7000, 2.1000]), tensor(2))\n",
            "(tensor([7.2000, 3.2000, 6.0000, 1.8000]), tensor(2))\n",
            "(tensor([6.2000, 2.8000, 4.8000, 1.8000]), tensor(2))\n",
            "(tensor([6.1000, 3.0000, 4.9000, 1.8000]), tensor(2))\n",
            "(tensor([6.4000, 2.8000, 5.6000, 2.1000]), tensor(2))\n",
            "(tensor([7.2000, 3.0000, 5.8000, 1.6000]), tensor(2))\n",
            "(tensor([7.4000, 2.8000, 6.1000, 1.9000]), tensor(2))\n",
            "(tensor([7.9000, 3.8000, 6.4000, 2.0000]), tensor(2))\n",
            "(tensor([6.4000, 2.8000, 5.6000, 2.2000]), tensor(2))\n",
            "(tensor([6.3000, 2.8000, 5.1000, 1.5000]), tensor(2))\n",
            "(tensor([6.1000, 2.6000, 5.6000, 1.4000]), tensor(2))\n",
            "(tensor([7.7000, 3.0000, 6.1000, 2.3000]), tensor(2))\n",
            "(tensor([6.3000, 3.4000, 5.6000, 2.4000]), tensor(2))\n",
            "(tensor([6.4000, 3.1000, 5.5000, 1.8000]), tensor(2))\n",
            "(tensor([6.0000, 3.0000, 4.8000, 1.8000]), tensor(2))\n",
            "(tensor([6.9000, 3.1000, 5.4000, 2.1000]), tensor(2))\n",
            "(tensor([6.7000, 3.1000, 5.6000, 2.4000]), tensor(2))\n",
            "(tensor([6.9000, 3.1000, 5.1000, 2.3000]), tensor(2))\n",
            "(tensor([5.8000, 2.7000, 5.1000, 1.9000]), tensor(2))\n",
            "(tensor([6.8000, 3.2000, 5.9000, 2.3000]), tensor(2))\n",
            "(tensor([6.7000, 3.3000, 5.7000, 2.5000]), tensor(2))\n",
            "(tensor([6.7000, 3.0000, 5.2000, 2.3000]), tensor(2))\n",
            "(tensor([6.3000, 2.5000, 5.0000, 1.9000]), tensor(2))\n",
            "(tensor([6.5000, 3.0000, 5.2000, 2.0000]), tensor(2))\n",
            "(tensor([6.2000, 3.4000, 5.4000, 2.3000]), tensor(2))\n",
            "(tensor([5.9000, 3.0000, 5.1000, 1.8000]), tensor(2))\n"
          ],
          "name": "stdout"
        }
      ]
    },
    {
      "cell_type": "markdown",
      "metadata": {
        "id": "Ip5RcoFHTBo9",
        "colab_type": "text"
      },
      "source": [
        "Once we have a dataset we can wrap it with a DataLoader. This gives us a powerful sampler that provides single- or multi-process iterators over the dataset."
      ]
    },
    {
      "cell_type": "code",
      "metadata": {
        "id": "mogy_wo_S1VK",
        "colab_type": "code",
        "colab": {}
      },
      "source": [
        "iris_loader = DataLoader(iris, batch_size=105, shuffle=True)"
      ],
      "execution_count": 0,
      "outputs": []
    },
    {
      "cell_type": "code",
      "metadata": {
        "id": "oQedCM1bTJdq",
        "colab_type": "code",
        "outputId": "7be15c03-0a93-4050-f198-d81e933a4192",
        "colab": {
          "base_uri": "https://localhost:8080/",
          "height": 1000
        }
      },
      "source": [
        "for i_batch, sample_batched in enumerate(iris_loader):\n",
        "\n",
        "  print(i_batch, sample_batched)\n"
      ],
      "execution_count": 16,
      "outputs": [
        {
          "output_type": "stream",
          "text": [
            "0 [tensor([[5.6000, 2.7000, 4.2000, 1.3000],\n",
            "        [5.8000, 2.6000, 4.0000, 1.2000],\n",
            "        [5.4000, 3.9000, 1.3000, 0.4000],\n",
            "        [5.8000, 2.7000, 4.1000, 1.0000],\n",
            "        [5.4000, 3.9000, 1.7000, 0.4000],\n",
            "        [5.4000, 3.4000, 1.5000, 0.4000],\n",
            "        [5.7000, 3.8000, 1.7000, 0.3000],\n",
            "        [5.8000, 2.7000, 5.1000, 1.9000],\n",
            "        [4.8000, 3.1000, 1.6000, 0.2000],\n",
            "        [6.4000, 3.1000, 5.5000, 1.8000],\n",
            "        [5.0000, 3.5000, 1.3000, 0.3000],\n",
            "        [5.7000, 3.0000, 4.2000, 1.2000],\n",
            "        [5.8000, 2.7000, 5.1000, 1.9000],\n",
            "        [5.6000, 2.5000, 3.9000, 1.1000],\n",
            "        [5.5000, 4.2000, 1.4000, 0.2000],\n",
            "        [6.0000, 2.9000, 4.5000, 1.5000],\n",
            "        [5.8000, 2.7000, 3.9000, 1.2000],\n",
            "        [6.4000, 3.2000, 5.3000, 2.3000],\n",
            "        [5.8000, 4.0000, 1.2000, 0.2000],\n",
            "        [5.5000, 2.6000, 4.4000, 1.2000],\n",
            "        [6.7000, 3.1000, 5.6000, 2.4000],\n",
            "        [5.6000, 2.8000, 4.9000, 2.0000],\n",
            "        [6.1000, 3.0000, 4.9000, 1.8000],\n",
            "        [6.9000, 3.1000, 5.4000, 2.1000],\n",
            "        [5.5000, 2.4000, 3.8000, 1.1000],\n",
            "        [5.1000, 3.4000, 1.5000, 0.2000],\n",
            "        [7.7000, 2.8000, 6.7000, 2.0000],\n",
            "        [4.9000, 3.1000, 1.5000, 0.1000],\n",
            "        [4.9000, 3.1000, 1.5000, 0.1000],\n",
            "        [4.9000, 3.0000, 1.4000, 0.2000],\n",
            "        [5.6000, 2.9000, 3.6000, 1.3000],\n",
            "        [4.5000, 2.3000, 1.3000, 0.3000],\n",
            "        [5.1000, 3.7000, 1.5000, 0.4000],\n",
            "        [5.0000, 3.3000, 1.4000, 0.2000],\n",
            "        [5.7000, 2.5000, 5.0000, 2.0000],\n",
            "        [7.2000, 3.6000, 6.1000, 2.5000],\n",
            "        [5.9000, 3.2000, 4.8000, 1.8000],\n",
            "        [7.0000, 3.2000, 4.7000, 1.4000],\n",
            "        [7.4000, 2.8000, 6.1000, 1.9000],\n",
            "        [6.2000, 2.9000, 4.3000, 1.3000],\n",
            "        [6.2000, 2.8000, 4.8000, 1.8000],\n",
            "        [6.7000, 3.0000, 5.0000, 1.7000],\n",
            "        [5.7000, 4.4000, 1.5000, 0.4000],\n",
            "        [6.7000, 3.3000, 5.7000, 2.1000],\n",
            "        [4.4000, 3.2000, 1.3000, 0.2000],\n",
            "        [5.5000, 3.5000, 1.3000, 0.2000],\n",
            "        [7.7000, 2.6000, 6.9000, 2.3000],\n",
            "        [6.5000, 2.8000, 4.6000, 1.5000],\n",
            "        [5.7000, 2.6000, 3.5000, 1.0000],\n",
            "        [5.0000, 3.5000, 1.6000, 0.6000],\n",
            "        [5.6000, 3.0000, 4.5000, 1.5000],\n",
            "        [6.8000, 3.0000, 5.5000, 2.1000],\n",
            "        [6.5000, 3.0000, 5.2000, 2.0000],\n",
            "        [6.3000, 2.7000, 4.9000, 1.8000],\n",
            "        [4.8000, 3.0000, 1.4000, 0.1000],\n",
            "        [6.0000, 3.4000, 4.5000, 1.6000],\n",
            "        [5.2000, 2.7000, 3.9000, 1.4000],\n",
            "        [5.7000, 2.9000, 4.2000, 1.3000],\n",
            "        [7.6000, 3.0000, 6.6000, 2.1000],\n",
            "        [6.0000, 3.0000, 4.8000, 1.8000],\n",
            "        [6.8000, 3.2000, 5.9000, 2.3000],\n",
            "        [6.5000, 3.2000, 5.1000, 2.0000],\n",
            "        [5.5000, 2.3000, 4.0000, 1.3000],\n",
            "        [6.7000, 3.3000, 5.7000, 2.5000],\n",
            "        [5.3000, 3.7000, 1.5000, 0.2000],\n",
            "        [6.9000, 3.2000, 5.7000, 2.3000],\n",
            "        [5.1000, 3.8000, 1.9000, 0.4000],\n",
            "        [6.7000, 3.0000, 5.2000, 2.3000],\n",
            "        [6.9000, 3.1000, 4.9000, 1.5000],\n",
            "        [4.6000, 3.1000, 1.5000, 0.2000],\n",
            "        [5.1000, 3.5000, 1.4000, 0.3000],\n",
            "        [5.8000, 2.8000, 5.1000, 2.4000],\n",
            "        [6.4000, 2.9000, 4.3000, 1.3000],\n",
            "        [5.2000, 3.5000, 1.5000, 0.2000],\n",
            "        [4.4000, 3.0000, 1.3000, 0.2000],\n",
            "        [6.3000, 2.5000, 5.0000, 1.9000],\n",
            "        [6.7000, 3.1000, 4.7000, 1.5000],\n",
            "        [7.2000, 3.2000, 6.0000, 1.8000],\n",
            "        [4.9000, 2.4000, 3.3000, 1.0000],\n",
            "        [4.3000, 3.0000, 1.1000, 0.1000],\n",
            "        [5.1000, 3.8000, 1.5000, 0.3000],\n",
            "        [5.1000, 2.5000, 3.0000, 1.1000],\n",
            "        [5.2000, 3.4000, 1.4000, 0.2000],\n",
            "        [4.4000, 2.9000, 1.4000, 0.2000],\n",
            "        [6.6000, 2.9000, 4.6000, 1.3000],\n",
            "        [6.3000, 3.3000, 6.0000, 2.5000],\n",
            "        [5.9000, 3.0000, 5.1000, 1.8000],\n",
            "        [6.1000, 2.8000, 4.7000, 1.2000],\n",
            "        [6.9000, 3.1000, 5.1000, 2.3000],\n",
            "        [4.8000, 3.4000, 1.9000, 0.2000],\n",
            "        [5.7000, 2.8000, 4.1000, 1.3000],\n",
            "        [5.2000, 4.1000, 1.5000, 0.1000],\n",
            "        [5.1000, 3.5000, 1.4000, 0.2000],\n",
            "        [7.7000, 3.8000, 6.7000, 2.2000],\n",
            "        [4.7000, 3.2000, 1.3000, 0.2000],\n",
            "        [5.4000, 3.4000, 1.7000, 0.2000],\n",
            "        [6.3000, 2.5000, 4.9000, 1.5000],\n",
            "        [4.8000, 3.0000, 1.4000, 0.3000],\n",
            "        [6.4000, 2.8000, 5.6000, 2.1000],\n",
            "        [5.1000, 3.8000, 1.6000, 0.2000],\n",
            "        [4.6000, 3.6000, 1.0000, 0.2000],\n",
            "        [7.7000, 3.0000, 6.1000, 2.3000],\n",
            "        [6.1000, 3.0000, 4.6000, 1.4000],\n",
            "        [5.1000, 3.3000, 1.7000, 0.5000],\n",
            "        [6.3000, 3.4000, 5.6000, 2.4000]]), tensor([1, 1, 0, 1, 0, 0, 0, 2, 0, 2, 0, 1, 2, 1, 0, 1, 1, 2, 0, 1, 2, 2, 2, 2,\n",
            "        1, 0, 2, 0, 0, 0, 1, 0, 0, 0, 2, 2, 1, 1, 2, 1, 2, 1, 0, 2, 0, 0, 2, 1,\n",
            "        1, 0, 1, 2, 2, 2, 0, 1, 1, 1, 2, 2, 2, 2, 1, 2, 0, 2, 0, 2, 1, 0, 0, 2,\n",
            "        1, 0, 0, 2, 1, 2, 1, 0, 0, 1, 0, 0, 1, 2, 2, 1, 2, 0, 1, 0, 0, 2, 0, 0,\n",
            "        1, 0, 2, 0, 0, 2, 1, 0, 2])]\n",
            "1 [tensor([[5.4000, 3.0000, 4.5000, 1.5000],\n",
            "        [4.7000, 3.2000, 1.6000, 0.2000],\n",
            "        [5.7000, 2.8000, 4.5000, 1.3000],\n",
            "        [7.3000, 2.9000, 6.3000, 1.8000],\n",
            "        [5.0000, 3.4000, 1.6000, 0.4000],\n",
            "        [4.6000, 3.2000, 1.4000, 0.2000],\n",
            "        [6.0000, 2.7000, 5.1000, 1.6000],\n",
            "        [6.3000, 3.3000, 4.7000, 1.6000],\n",
            "        [6.3000, 2.3000, 4.4000, 1.3000],\n",
            "        [4.6000, 3.4000, 1.4000, 0.3000],\n",
            "        [6.0000, 2.2000, 5.0000, 1.5000],\n",
            "        [6.7000, 3.1000, 4.4000, 1.4000],\n",
            "        [5.0000, 3.2000, 1.2000, 0.2000],\n",
            "        [6.6000, 3.0000, 4.4000, 1.4000],\n",
            "        [5.5000, 2.5000, 4.0000, 1.3000],\n",
            "        [6.5000, 3.0000, 5.8000, 2.2000],\n",
            "        [7.9000, 3.8000, 6.4000, 2.0000],\n",
            "        [6.4000, 2.8000, 5.6000, 2.2000],\n",
            "        [6.4000, 3.2000, 4.5000, 1.5000],\n",
            "        [5.5000, 2.4000, 3.7000, 1.0000],\n",
            "        [5.0000, 2.3000, 3.3000, 1.0000],\n",
            "        [6.1000, 2.8000, 4.0000, 1.3000],\n",
            "        [4.8000, 3.4000, 1.6000, 0.2000],\n",
            "        [6.3000, 2.8000, 5.1000, 1.5000],\n",
            "        [5.4000, 3.7000, 1.5000, 0.2000],\n",
            "        [5.9000, 3.0000, 4.2000, 1.5000],\n",
            "        [7.1000, 3.0000, 5.9000, 2.1000],\n",
            "        [5.0000, 2.0000, 3.5000, 1.0000],\n",
            "        [6.1000, 2.6000, 5.6000, 1.4000],\n",
            "        [5.6000, 3.0000, 4.1000, 1.3000],\n",
            "        [6.8000, 2.8000, 4.8000, 1.4000],\n",
            "        [6.3000, 2.9000, 5.6000, 1.8000],\n",
            "        [7.2000, 3.0000, 5.8000, 1.6000],\n",
            "        [5.0000, 3.4000, 1.5000, 0.2000],\n",
            "        [6.2000, 3.4000, 5.4000, 2.3000],\n",
            "        [6.7000, 2.5000, 5.8000, 1.8000],\n",
            "        [6.4000, 2.7000, 5.3000, 1.9000],\n",
            "        [6.1000, 2.9000, 4.7000, 1.4000],\n",
            "        [4.9000, 3.1000, 1.5000, 0.1000],\n",
            "        [5.0000, 3.6000, 1.4000, 0.2000],\n",
            "        [4.9000, 2.5000, 4.5000, 1.7000],\n",
            "        [6.0000, 2.2000, 4.0000, 1.0000],\n",
            "        [5.0000, 3.0000, 1.6000, 0.2000],\n",
            "        [6.2000, 2.2000, 4.5000, 1.5000],\n",
            "        [6.5000, 3.0000, 5.5000, 1.8000]]), tensor([1, 0, 1, 2, 0, 0, 1, 1, 1, 0, 2, 1, 0, 1, 1, 2, 2, 2, 1, 1, 1, 1, 0, 2,\n",
            "        0, 1, 2, 1, 2, 1, 1, 2, 2, 0, 2, 2, 2, 1, 0, 0, 2, 1, 0, 1, 2])]\n"
          ],
          "name": "stdout"
        }
      ]
    },
    {
      "cell_type": "code",
      "metadata": {
        "id": "8OQ58kDTTY12",
        "colab_type": "code",
        "outputId": "897fa460-9044-45f7-d8b8-827d9e343a47",
        "colab": {
          "base_uri": "https://localhost:8080/",
          "height": 35
        }
      },
      "source": [
        "list(iris_loader)[0][1].bincount()"
      ],
      "execution_count": 17,
      "outputs": [
        {
          "output_type": "execute_result",
          "data": {
            "text/plain": [
              "tensor([34, 35, 36])"
            ]
          },
          "metadata": {
            "tags": []
          },
          "execution_count": 17
        }
      ]
    },
    {
      "cell_type": "code",
      "metadata": {
        "id": "YVVcvzqxTgF3",
        "colab_type": "code",
        "outputId": "e387ef07-cc3a-4d5e-d255-247bd4584edb",
        "colab": {
          "base_uri": "https://localhost:8080/",
          "height": 1000
        }
      },
      "source": [
        "next(iter(iris_loader))"
      ],
      "execution_count": 18,
      "outputs": [
        {
          "output_type": "execute_result",
          "data": {
            "text/plain": [
              "[tensor([[6.3000, 2.8000, 5.1000, 1.5000],\n",
              "         [5.5000, 2.4000, 3.7000, 1.0000],\n",
              "         [6.3000, 3.4000, 5.6000, 2.4000],\n",
              "         [5.0000, 2.0000, 3.5000, 1.0000],\n",
              "         [7.2000, 3.0000, 5.8000, 1.6000],\n",
              "         [4.9000, 2.4000, 3.3000, 1.0000],\n",
              "         [5.6000, 3.0000, 4.5000, 1.5000],\n",
              "         [6.2000, 2.8000, 4.8000, 1.8000],\n",
              "         [5.8000, 2.8000, 5.1000, 2.4000],\n",
              "         [7.4000, 2.8000, 6.1000, 1.9000],\n",
              "         [5.1000, 2.5000, 3.0000, 1.1000],\n",
              "         [5.1000, 3.3000, 1.7000, 0.5000],\n",
              "         [5.5000, 2.5000, 4.0000, 1.3000],\n",
              "         [6.7000, 3.1000, 5.6000, 2.4000],\n",
              "         [4.8000, 3.1000, 1.6000, 0.2000],\n",
              "         [4.7000, 3.2000, 1.6000, 0.2000],\n",
              "         [5.0000, 3.5000, 1.3000, 0.3000],\n",
              "         [6.4000, 3.1000, 5.5000, 1.8000],\n",
              "         [7.1000, 3.0000, 5.9000, 2.1000],\n",
              "         [6.3000, 3.3000, 6.0000, 2.5000],\n",
              "         [5.8000, 2.7000, 5.1000, 1.9000],\n",
              "         [6.1000, 3.0000, 4.9000, 1.8000],\n",
              "         [5.1000, 3.8000, 1.5000, 0.3000],\n",
              "         [6.0000, 2.2000, 4.0000, 1.0000],\n",
              "         [5.4000, 3.9000, 1.3000, 0.4000],\n",
              "         [5.7000, 3.8000, 1.7000, 0.3000],\n",
              "         [4.8000, 3.0000, 1.4000, 0.1000],\n",
              "         [4.6000, 3.2000, 1.4000, 0.2000],\n",
              "         [5.4000, 3.9000, 1.7000, 0.4000],\n",
              "         [4.8000, 3.0000, 1.4000, 0.3000],\n",
              "         [5.7000, 3.0000, 4.2000, 1.2000],\n",
              "         [5.7000, 4.4000, 1.5000, 0.4000],\n",
              "         [5.5000, 2.4000, 3.8000, 1.1000],\n",
              "         [6.4000, 3.2000, 4.5000, 1.5000],\n",
              "         [5.4000, 3.0000, 4.5000, 1.5000],\n",
              "         [4.8000, 3.4000, 1.9000, 0.2000],\n",
              "         [6.3000, 2.3000, 4.4000, 1.3000],\n",
              "         [5.1000, 3.8000, 1.6000, 0.2000],\n",
              "         [5.1000, 3.7000, 1.5000, 0.4000],\n",
              "         [6.8000, 3.2000, 5.9000, 2.3000],\n",
              "         [4.4000, 3.0000, 1.3000, 0.2000],\n",
              "         [5.1000, 3.5000, 1.4000, 0.2000],\n",
              "         [5.7000, 2.5000, 5.0000, 2.0000],\n",
              "         [6.8000, 3.0000, 5.5000, 2.1000],\n",
              "         [4.6000, 3.4000, 1.4000, 0.3000],\n",
              "         [5.0000, 3.6000, 1.4000, 0.2000],\n",
              "         [6.0000, 2.9000, 4.5000, 1.5000],\n",
              "         [5.8000, 2.7000, 5.1000, 1.9000],\n",
              "         [7.9000, 3.8000, 6.4000, 2.0000],\n",
              "         [6.4000, 2.9000, 4.3000, 1.3000],\n",
              "         [4.4000, 2.9000, 1.4000, 0.2000],\n",
              "         [6.1000, 2.8000, 4.0000, 1.3000],\n",
              "         [7.7000, 2.6000, 6.9000, 2.3000],\n",
              "         [6.9000, 3.1000, 5.4000, 2.1000],\n",
              "         [6.3000, 2.5000, 4.9000, 1.5000],\n",
              "         [6.3000, 2.9000, 5.6000, 1.8000],\n",
              "         [5.7000, 2.8000, 4.5000, 1.3000],\n",
              "         [4.7000, 3.2000, 1.3000, 0.2000],\n",
              "         [6.8000, 2.8000, 4.8000, 1.4000],\n",
              "         [6.3000, 3.3000, 4.7000, 1.6000],\n",
              "         [6.6000, 3.0000, 4.4000, 1.4000],\n",
              "         [5.8000, 2.6000, 4.0000, 1.2000],\n",
              "         [6.5000, 3.0000, 5.2000, 2.0000],\n",
              "         [6.4000, 2.7000, 5.3000, 1.9000],\n",
              "         [6.1000, 2.9000, 4.7000, 1.4000],\n",
              "         [6.4000, 3.2000, 5.3000, 2.3000],\n",
              "         [5.6000, 2.5000, 3.9000, 1.1000],\n",
              "         [6.7000, 3.1000, 4.7000, 1.5000],\n",
              "         [4.9000, 3.1000, 1.5000, 0.1000],\n",
              "         [4.5000, 2.3000, 1.3000, 0.3000],\n",
              "         [5.7000, 2.8000, 4.1000, 1.3000],\n",
              "         [4.6000, 3.1000, 1.5000, 0.2000],\n",
              "         [6.1000, 2.8000, 4.7000, 1.2000],\n",
              "         [5.7000, 2.9000, 4.2000, 1.3000],\n",
              "         [6.7000, 3.3000, 5.7000, 2.5000],\n",
              "         [6.7000, 2.5000, 5.8000, 1.8000],\n",
              "         [6.3000, 2.5000, 5.0000, 1.9000],\n",
              "         [7.7000, 3.0000, 6.1000, 2.3000],\n",
              "         [5.0000, 3.4000, 1.6000, 0.4000],\n",
              "         [5.0000, 3.2000, 1.2000, 0.2000],\n",
              "         [6.9000, 3.1000, 5.1000, 2.3000],\n",
              "         [5.0000, 2.3000, 3.3000, 1.0000],\n",
              "         [6.4000, 2.8000, 5.6000, 2.2000],\n",
              "         [6.6000, 2.9000, 4.6000, 1.3000],\n",
              "         [7.7000, 3.8000, 6.7000, 2.2000],\n",
              "         [6.0000, 2.2000, 5.0000, 1.5000],\n",
              "         [6.2000, 2.2000, 4.5000, 1.5000],\n",
              "         [6.0000, 3.4000, 4.5000, 1.6000],\n",
              "         [5.5000, 2.3000, 4.0000, 1.3000],\n",
              "         [5.9000, 3.2000, 4.8000, 1.8000],\n",
              "         [6.9000, 3.1000, 4.9000, 1.5000],\n",
              "         [4.9000, 3.0000, 1.4000, 0.2000],\n",
              "         [5.6000, 3.0000, 4.1000, 1.3000],\n",
              "         [6.0000, 2.7000, 5.1000, 1.6000],\n",
              "         [6.9000, 3.2000, 5.7000, 2.3000],\n",
              "         [5.6000, 2.9000, 3.6000, 1.3000],\n",
              "         [4.9000, 3.1000, 1.5000, 0.1000],\n",
              "         [5.4000, 3.7000, 1.5000, 0.2000],\n",
              "         [5.7000, 2.6000, 3.5000, 1.0000],\n",
              "         [6.3000, 2.7000, 4.9000, 1.8000],\n",
              "         [6.7000, 3.0000, 5.2000, 2.3000],\n",
              "         [4.8000, 3.4000, 1.6000, 0.2000],\n",
              "         [6.2000, 2.9000, 4.3000, 1.3000],\n",
              "         [5.0000, 3.3000, 1.4000, 0.2000],\n",
              "         [6.0000, 3.0000, 4.8000, 1.8000]]),\n",
              " tensor([2, 1, 2, 1, 2, 1, 1, 2, 2, 2, 1, 0, 1, 2, 0, 0, 0, 2, 2, 2, 2, 2, 0, 1,\n",
              "         0, 0, 0, 0, 0, 0, 1, 0, 1, 1, 1, 0, 1, 0, 0, 2, 0, 0, 2, 2, 0, 0, 1, 2,\n",
              "         2, 1, 0, 1, 2, 2, 1, 2, 1, 0, 1, 1, 1, 1, 2, 2, 1, 2, 1, 1, 0, 0, 1, 0,\n",
              "         1, 1, 2, 2, 2, 2, 0, 0, 2, 1, 2, 1, 2, 2, 1, 1, 1, 1, 1, 0, 1, 1, 2, 1,\n",
              "         0, 0, 1, 2, 2, 0, 1, 0, 2])]"
            ]
          },
          "metadata": {
            "tags": []
          },
          "execution_count": 18
        }
      ]
    },
    {
      "cell_type": "markdown",
      "metadata": {
        "id": "a2zKb1NOTit_",
        "colab_type": "text"
      },
      "source": [
        "## A Quick Note on Torchvision\n",
        "PyTorch offers another powerful dataset tool called <a href='https://pytorch.org/docs/stable/torchvision/index.html'><tt><strong>torchvision</strong></tt></a>, which is useful when working with image data. We'll go into a lot more detail in the Convolutional Neural Network (CNN) section. For now, just know that torchvision offers built-in image datasets like <a href='https://en.wikipedia.org/wiki/MNIST_database'>MNIST</a> and <a href='https://en.wikipedia.org/wiki/CIFAR-10'>CIFAR-10</a>, as well as tools for transforming images into tensors."
      ]
    }
  ]
}