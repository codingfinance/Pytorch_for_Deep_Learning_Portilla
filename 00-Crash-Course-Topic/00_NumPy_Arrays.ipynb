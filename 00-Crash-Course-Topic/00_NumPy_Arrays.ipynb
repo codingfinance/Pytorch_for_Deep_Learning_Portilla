{
  "nbformat": 4,
  "nbformat_minor": 0,
  "metadata": {
    "colab": {
      "name": "00-NumPy-Arrays.ipynb",
      "provenance": [],
      "collapsed_sections": []
    },
    "kernelspec": {
      "name": "python3",
      "display_name": "Python 3"
    }
  },
  "cells": [
    {
      "cell_type": "markdown",
      "metadata": {
        "id": "UKi8YWg_dm5Z",
        "colab_type": "text"
      },
      "source": [
        "## Numpy Practice\n",
        "\n",
        "This lecture is a practice for Numpy."
      ]
    },
    {
      "cell_type": "code",
      "metadata": {
        "id": "8POLxIeLduVE",
        "colab_type": "code",
        "colab": {}
      },
      "source": [
        "import numpy as np"
      ],
      "execution_count": 0,
      "outputs": []
    },
    {
      "cell_type": "markdown",
      "metadata": {
        "id": "SkUeLPY_eMFX",
        "colab_type": "text"
      },
      "source": [
        "Creating a numpy array."
      ]
    },
    {
      "cell_type": "code",
      "metadata": {
        "id": "s1h7cRZidvee",
        "colab_type": "code",
        "colab": {}
      },
      "source": [
        "mylist = [1,2,3]"
      ],
      "execution_count": 0,
      "outputs": []
    },
    {
      "cell_type": "code",
      "metadata": {
        "id": "sxd_rzuCd1ZB",
        "colab_type": "code",
        "colab": {
          "base_uri": "https://localhost:8080/",
          "height": 35
        },
        "outputId": "673b689b-4e75-40bc-aff4-8e5434fa9c2f"
      },
      "source": [
        "type(mylist)"
      ],
      "execution_count": 4,
      "outputs": [
        {
          "output_type": "execute_result",
          "data": {
            "text/plain": [
              "list"
            ]
          },
          "metadata": {
            "tags": []
          },
          "execution_count": 4
        }
      ]
    },
    {
      "cell_type": "code",
      "metadata": {
        "id": "fEM4upiad3NI",
        "colab_type": "code",
        "colab": {}
      },
      "source": [
        "arr = np.array(mylist)"
      ],
      "execution_count": 0,
      "outputs": []
    },
    {
      "cell_type": "code",
      "metadata": {
        "id": "1W2HTWCBd7eg",
        "colab_type": "code",
        "colab": {
          "base_uri": "https://localhost:8080/",
          "height": 35
        },
        "outputId": "92e4aab1-c5d9-4618-86cc-0a382164855f"
      },
      "source": [
        "type(arr)"
      ],
      "execution_count": 6,
      "outputs": [
        {
          "output_type": "execute_result",
          "data": {
            "text/plain": [
              "numpy.ndarray"
            ]
          },
          "metadata": {
            "tags": []
          },
          "execution_count": 6
        }
      ]
    },
    {
      "cell_type": "code",
      "metadata": {
        "id": "6uJmX79od8qH",
        "colab_type": "code",
        "colab": {
          "base_uri": "https://localhost:8080/",
          "height": 1000
        },
        "outputId": "1fbd4770-0bd1-4fe2-bf3d-59570343cb96"
      },
      "source": [
        "for i in np.arange(100):\n",
        "  print(f\"Year is {i} and growth of $1 is {np.round(1.12**i,2)}\")"
      ],
      "execution_count": 9,
      "outputs": [
        {
          "output_type": "stream",
          "text": [
            "Year is 0 and growth of $1 is 1.0\n",
            "Year is 1 and growth of $1 is 1.12\n",
            "Year is 2 and growth of $1 is 1.25\n",
            "Year is 3 and growth of $1 is 1.4\n",
            "Year is 4 and growth of $1 is 1.57\n",
            "Year is 5 and growth of $1 is 1.76\n",
            "Year is 6 and growth of $1 is 1.97\n",
            "Year is 7 and growth of $1 is 2.21\n",
            "Year is 8 and growth of $1 is 2.48\n",
            "Year is 9 and growth of $1 is 2.77\n",
            "Year is 10 and growth of $1 is 3.11\n",
            "Year is 11 and growth of $1 is 3.48\n",
            "Year is 12 and growth of $1 is 3.9\n",
            "Year is 13 and growth of $1 is 4.36\n",
            "Year is 14 and growth of $1 is 4.89\n",
            "Year is 15 and growth of $1 is 5.47\n",
            "Year is 16 and growth of $1 is 6.13\n",
            "Year is 17 and growth of $1 is 6.87\n",
            "Year is 18 and growth of $1 is 7.69\n",
            "Year is 19 and growth of $1 is 8.61\n",
            "Year is 20 and growth of $1 is 9.65\n",
            "Year is 21 and growth of $1 is 10.8\n",
            "Year is 22 and growth of $1 is 12.1\n",
            "Year is 23 and growth of $1 is 13.55\n",
            "Year is 24 and growth of $1 is 15.18\n",
            "Year is 25 and growth of $1 is 17.0\n",
            "Year is 26 and growth of $1 is 19.04\n",
            "Year is 27 and growth of $1 is 21.32\n",
            "Year is 28 and growth of $1 is 23.88\n",
            "Year is 29 and growth of $1 is 26.75\n",
            "Year is 30 and growth of $1 is 29.96\n",
            "Year is 31 and growth of $1 is 33.56\n",
            "Year is 32 and growth of $1 is 37.58\n",
            "Year is 33 and growth of $1 is 42.09\n",
            "Year is 34 and growth of $1 is 47.14\n",
            "Year is 35 and growth of $1 is 52.8\n",
            "Year is 36 and growth of $1 is 59.14\n",
            "Year is 37 and growth of $1 is 66.23\n",
            "Year is 38 and growth of $1 is 74.18\n",
            "Year is 39 and growth of $1 is 83.08\n",
            "Year is 40 and growth of $1 is 93.05\n",
            "Year is 41 and growth of $1 is 104.22\n",
            "Year is 42 and growth of $1 is 116.72\n",
            "Year is 43 and growth of $1 is 130.73\n",
            "Year is 44 and growth of $1 is 146.42\n",
            "Year is 45 and growth of $1 is 163.99\n",
            "Year is 46 and growth of $1 is 183.67\n",
            "Year is 47 and growth of $1 is 205.71\n",
            "Year is 48 and growth of $1 is 230.39\n",
            "Year is 49 and growth of $1 is 258.04\n",
            "Year is 50 and growth of $1 is 289.0\n",
            "Year is 51 and growth of $1 is 323.68\n",
            "Year is 52 and growth of $1 is 362.52\n",
            "Year is 53 and growth of $1 is 406.03\n",
            "Year is 54 and growth of $1 is 454.75\n",
            "Year is 55 and growth of $1 is 509.32\n",
            "Year is 56 and growth of $1 is 570.44\n",
            "Year is 57 and growth of $1 is 638.89\n",
            "Year is 58 and growth of $1 is 715.56\n",
            "Year is 59 and growth of $1 is 801.43\n",
            "Year is 60 and growth of $1 is 897.6\n",
            "Year is 61 and growth of $1 is 1005.31\n",
            "Year is 62 and growth of $1 is 1125.95\n",
            "Year is 63 and growth of $1 is 1261.06\n",
            "Year is 64 and growth of $1 is 1412.39\n",
            "Year is 65 and growth of $1 is 1581.87\n",
            "Year is 66 and growth of $1 is 1771.7\n",
            "Year is 67 and growth of $1 is 1984.3\n",
            "Year is 68 and growth of $1 is 2222.42\n",
            "Year is 69 and growth of $1 is 2489.11\n",
            "Year is 70 and growth of $1 is 2787.8\n",
            "Year is 71 and growth of $1 is 3122.34\n",
            "Year is 72 and growth of $1 is 3497.02\n",
            "Year is 73 and growth of $1 is 3916.66\n",
            "Year is 74 and growth of $1 is 4386.66\n",
            "Year is 75 and growth of $1 is 4913.06\n",
            "Year is 76 and growth of $1 is 5502.62\n",
            "Year is 77 and growth of $1 is 6162.94\n",
            "Year is 78 and growth of $1 is 6902.49\n",
            "Year is 79 and growth of $1 is 7730.79\n",
            "Year is 80 and growth of $1 is 8658.48\n",
            "Year is 81 and growth of $1 is 9697.5\n",
            "Year is 82 and growth of $1 is 10861.2\n",
            "Year is 83 and growth of $1 is 12164.55\n",
            "Year is 84 and growth of $1 is 13624.29\n",
            "Year is 85 and growth of $1 is 15259.21\n",
            "Year is 86 and growth of $1 is 17090.31\n",
            "Year is 87 and growth of $1 is 19141.15\n",
            "Year is 88 and growth of $1 is 21438.09\n",
            "Year is 89 and growth of $1 is 24010.66\n",
            "Year is 90 and growth of $1 is 26891.93\n",
            "Year is 91 and growth of $1 is 30118.97\n",
            "Year is 92 and growth of $1 is 33733.24\n",
            "Year is 93 and growth of $1 is 37781.23\n",
            "Year is 94 and growth of $1 is 42314.98\n",
            "Year is 95 and growth of $1 is 47392.78\n",
            "Year is 96 and growth of $1 is 53079.91\n",
            "Year is 97 and growth of $1 is 59449.5\n",
            "Year is 98 and growth of $1 is 66583.44\n",
            "Year is 99 and growth of $1 is 74573.45\n"
          ],
          "name": "stdout"
        }
      ]
    },
    {
      "cell_type": "code",
      "metadata": {
        "id": "u2EdeBY7evTN",
        "colab_type": "code",
        "colab": {}
      },
      "source": [
        ""
      ],
      "execution_count": 0,
      "outputs": []
    }
  ]
}