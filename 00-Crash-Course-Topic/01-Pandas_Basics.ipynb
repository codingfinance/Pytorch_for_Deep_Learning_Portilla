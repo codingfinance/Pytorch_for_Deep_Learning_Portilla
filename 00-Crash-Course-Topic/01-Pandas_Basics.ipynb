{
  "nbformat": 4,
  "nbformat_minor": 0,
  "metadata": {
    "colab": {
      "name": "Pandas_Basics.ipynb",
      "provenance": []
    },
    "kernelspec": {
      "name": "python3",
      "display_name": "Python 3"
    }
  },
  "cells": [
    {
      "cell_type": "code",
      "metadata": {
        "id": "alUJogsT9GTN",
        "colab_type": "code",
        "colab": {}
      },
      "source": [
        "import pandas as pd\n",
        "import numpy as np\n",
        "import matplotlib.pyplot as plt\n",
        "import seaborn as sns\n",
        "sns.set_style('whitegrid')"
      ],
      "execution_count": 0,
      "outputs": []
    },
    {
      "cell_type": "markdown",
      "metadata": {
        "id": "9psTb1Ce9a3t",
        "colab_type": "text"
      },
      "source": [
        "---\n",
        "Pandas Series"
      ]
    },
    {
      "cell_type": "code",
      "metadata": {
        "id": "R-byVEnl9ffx",
        "colab_type": "code",
        "colab": {}
      },
      "source": [
        "labels = ['a','b', 'c']\n",
        "\n",
        "mylist = [10,20,30]\n",
        "\n",
        "arr = np.array(mylist)\n",
        "\n",
        "my_dict = {'a':10,\n",
        "           'b':20,\n",
        "           'c':30}"
      ],
      "execution_count": 0,
      "outputs": []
    },
    {
      "cell_type": "code",
      "metadata": {
        "id": "mjCGpNim9zzD",
        "colab_type": "code",
        "colab": {
          "base_uri": "https://localhost:8080/",
          "height": 90
        },
        "outputId": "915db6d1-64db-4b04-8255-9f0cd9f1a752"
      },
      "source": [
        "# Create Series from list\n",
        "pd.Series(data = mylist)"
      ],
      "execution_count": 3,
      "outputs": [
        {
          "output_type": "execute_result",
          "data": {
            "text/plain": [
              "0    10\n",
              "1    20\n",
              "2    30\n",
              "dtype: int64"
            ]
          },
          "metadata": {
            "tags": []
          },
          "execution_count": 3
        }
      ]
    },
    {
      "cell_type": "code",
      "metadata": {
        "id": "NqX9BUla9_w2",
        "colab_type": "code",
        "colab": {
          "base_uri": "https://localhost:8080/",
          "height": 90
        },
        "outputId": "4e6e58f5-ff7a-43c7-ec39-b83d2b9fede5"
      },
      "source": [
        "# Create from array\n",
        "\n",
        "pd.Series(arr)"
      ],
      "execution_count": 4,
      "outputs": [
        {
          "output_type": "execute_result",
          "data": {
            "text/plain": [
              "0    10\n",
              "1    20\n",
              "2    30\n",
              "dtype: int64"
            ]
          },
          "metadata": {
            "tags": []
          },
          "execution_count": 4
        }
      ]
    },
    {
      "cell_type": "code",
      "metadata": {
        "id": "CQN-g7Un-SaP",
        "colab_type": "code",
        "colab": {
          "base_uri": "https://localhost:8080/",
          "height": 90
        },
        "outputId": "e24ef09c-0810-4cef-912b-c385af221288"
      },
      "source": [
        "# Create labels as index\n",
        "\n",
        "pd.Series(data = arr,\n",
        "          index = labels)"
      ],
      "execution_count": 5,
      "outputs": [
        {
          "output_type": "execute_result",
          "data": {
            "text/plain": [
              "a    10\n",
              "b    20\n",
              "c    30\n",
              "dtype: int64"
            ]
          },
          "metadata": {
            "tags": []
          },
          "execution_count": 5
        }
      ]
    },
    {
      "cell_type": "code",
      "metadata": {
        "id": "lXR_O8Wm-ItZ",
        "colab_type": "code",
        "colab": {
          "base_uri": "https://localhost:8080/",
          "height": 90
        },
        "outputId": "832592e3-da54-43b5-c2d4-41c761a112be"
      },
      "source": [
        "# Create from dictionary\n",
        "# We can see the index names\n",
        "pd.Series(my_dict)"
      ],
      "execution_count": 6,
      "outputs": [
        {
          "output_type": "execute_result",
          "data": {
            "text/plain": [
              "a    10\n",
              "b    20\n",
              "c    30\n",
              "dtype: int64"
            ]
          },
          "metadata": {
            "tags": []
          },
          "execution_count": 6
        }
      ]
    },
    {
      "cell_type": "code",
      "metadata": {
        "id": "exh7-fX5-Kkx",
        "colab_type": "code",
        "colab": {
          "base_uri": "https://localhost:8080/",
          "height": 146
        },
        "outputId": "9c071cd5-8f0d-468c-d622-652b573968d1"
      },
      "source": [
        "# Data can be of different types\n",
        "# Pandas Series can save them with no problem. \n",
        "# but such a data series is not normal\n",
        "\n",
        "pd.Series(['a', 1 , 2, np.nan, [1,2,[100,1000,1000]], {'a':np.random.randint(30,size = 3),\n",
        "                                                       'b':np.random.randint(30,size = 3)}])"
      ],
      "execution_count": 7,
      "outputs": [
        {
          "output_type": "execute_result",
          "data": {
            "text/plain": [
              "0                                     a\n",
              "1                                     1\n",
              "2                                     2\n",
              "3                                   NaN\n",
              "4             [1, 2, [100, 1000, 1000]]\n",
              "5    {'a': [0, 5, 27], 'b': [6, 27, 7]}\n",
              "dtype: object"
            ]
          },
          "metadata": {
            "tags": []
          },
          "execution_count": 7
        }
      ]
    },
    {
      "cell_type": "code",
      "metadata": {
        "id": "kD5K_6TL-nQ1",
        "colab_type": "code",
        "colab": {}
      },
      "source": [
        "labels = ['USA', 'Germany', 'Japan', 'Italy']\n",
        "\n",
        "ser1 = pd.Series(data = [1,2,3,4],\n",
        "                 index=labels)"
      ],
      "execution_count": 0,
      "outputs": []
    },
    {
      "cell_type": "code",
      "metadata": {
        "id": "EwQICU9B_cwy",
        "colab_type": "code",
        "colab": {
          "base_uri": "https://localhost:8080/",
          "height": 109
        },
        "outputId": "0e8ce016-f3a1-48d8-cc50-594c22f9110b"
      },
      "source": [
        "ser1"
      ],
      "execution_count": 9,
      "outputs": [
        {
          "output_type": "execute_result",
          "data": {
            "text/plain": [
              "USA        1\n",
              "Germany    2\n",
              "Japan      3\n",
              "Italy      4\n",
              "dtype: int64"
            ]
          },
          "metadata": {
            "tags": []
          },
          "execution_count": 9
        }
      ]
    },
    {
      "cell_type": "code",
      "metadata": {
        "id": "RUr9XuHO_di6",
        "colab_type": "code",
        "colab": {
          "base_uri": "https://localhost:8080/",
          "height": 35
        },
        "outputId": "7a11d609-b64c-453d-d9cc-46ccfacc5684"
      },
      "source": [
        "ser1['USA']"
      ],
      "execution_count": 10,
      "outputs": [
        {
          "output_type": "execute_result",
          "data": {
            "text/plain": [
              "1"
            ]
          },
          "metadata": {
            "tags": []
          },
          "execution_count": 10
        }
      ]
    },
    {
      "cell_type": "code",
      "metadata": {
        "id": "Sudk6AL-_fJf",
        "colab_type": "code",
        "colab": {
          "base_uri": "https://localhost:8080/",
          "height": 35
        },
        "outputId": "81caa740-1945-4206-9f1e-7af07e00ae50"
      },
      "source": [
        "ser1['Italy']"
      ],
      "execution_count": 11,
      "outputs": [
        {
          "output_type": "execute_result",
          "data": {
            "text/plain": [
              "4"
            ]
          },
          "metadata": {
            "tags": []
          },
          "execution_count": 11
        }
      ]
    },
    {
      "cell_type": "code",
      "metadata": {
        "id": "qPVGDlHg_gix",
        "colab_type": "code",
        "colab": {}
      },
      "source": [
        "ser2 = pd.Series([11,23,65,14],\n",
        "                index=['USA','Italy', 'Germany', 'Brazil'])\n"
      ],
      "execution_count": 0,
      "outputs": []
    },
    {
      "cell_type": "code",
      "metadata": {
        "id": "K-e9h7cr_utI",
        "colab_type": "code",
        "colab": {
          "base_uri": "https://localhost:8080/",
          "height": 109
        },
        "outputId": "799f941c-62b1-49c9-e631-fe2b50f9e19f"
      },
      "source": [
        "ser2"
      ],
      "execution_count": 13,
      "outputs": [
        {
          "output_type": "execute_result",
          "data": {
            "text/plain": [
              "USA        11\n",
              "Italy      23\n",
              "Germany    65\n",
              "Brazil     14\n",
              "dtype: int64"
            ]
          },
          "metadata": {
            "tags": []
          },
          "execution_count": 13
        }
      ]
    },
    {
      "cell_type": "code",
      "metadata": {
        "id": "MjcI66H6_vU_",
        "colab_type": "code",
        "colab": {
          "base_uri": "https://localhost:8080/",
          "height": 127
        },
        "outputId": "8e0abcaf-6b77-44a3-f5a5-6fb3c253026e"
      },
      "source": [
        "# Adding named index\n",
        "# Missing match has NaN value\n",
        "ser1 + ser2"
      ],
      "execution_count": 14,
      "outputs": [
        {
          "output_type": "execute_result",
          "data": {
            "text/plain": [
              "Brazil      NaN\n",
              "Germany    67.0\n",
              "Italy      27.0\n",
              "Japan       NaN\n",
              "USA        12.0\n",
              "dtype: float64"
            ]
          },
          "metadata": {
            "tags": []
          },
          "execution_count": 14
        }
      ]
    },
    {
      "cell_type": "markdown",
      "metadata": {
        "id": "9DF4JyQ8_18X",
        "colab_type": "text"
      },
      "source": [
        "---\n",
        "Pandas DataFrame"
      ]
    },
    {
      "cell_type": "code",
      "metadata": {
        "id": "FqENOspwAKnR",
        "colab_type": "code",
        "colab": {}
      },
      "source": [
        "from numpy.random import randn"
      ],
      "execution_count": 0,
      "outputs": []
    },
    {
      "cell_type": "code",
      "metadata": {
        "id": "kkiWxX5oAXBa",
        "colab_type": "code",
        "colab": {}
      },
      "source": [
        "rand_mat = randn(5,4)"
      ],
      "execution_count": 0,
      "outputs": []
    },
    {
      "cell_type": "code",
      "metadata": {
        "id": "CV_dt9plAZc3",
        "colab_type": "code",
        "colab": {
          "base_uri": "https://localhost:8080/",
          "height": 109
        },
        "outputId": "c804d683-df11-4adb-da05-27d69ad1d455"
      },
      "source": [
        "rand_mat"
      ],
      "execution_count": 17,
      "outputs": [
        {
          "output_type": "execute_result",
          "data": {
            "text/plain": [
              "array([[-0.98211981,  1.78715028,  0.767374  , -1.2569153 ],\n",
              "       [-0.53827803, -0.92221777,  1.51635553,  0.83229572],\n",
              "       [ 0.05725042, -0.3151264 ,  0.54995317, -0.71366213],\n",
              "       [-0.31446331, -1.50390024, -0.63614661, -1.74178988],\n",
              "       [-0.0310158 , -0.97583242,  0.45634855, -0.6863551 ]])"
            ]
          },
          "metadata": {
            "tags": []
          },
          "execution_count": 17
        }
      ]
    },
    {
      "cell_type": "code",
      "metadata": {
        "id": "f-rDKcmYAaC5",
        "colab_type": "code",
        "colab": {
          "base_uri": "https://localhost:8080/",
          "height": 206
        },
        "outputId": "4fdb1cc2-3dae-43d8-de09-f48ce3767f15"
      },
      "source": [
        "# Creating a DataFrame\n",
        "df = pd.DataFrame(rand_mat)\n",
        "df"
      ],
      "execution_count": 18,
      "outputs": [
        {
          "output_type": "execute_result",
          "data": {
            "text/html": [
              "<div>\n",
              "<style scoped>\n",
              "    .dataframe tbody tr th:only-of-type {\n",
              "        vertical-align: middle;\n",
              "    }\n",
              "\n",
              "    .dataframe tbody tr th {\n",
              "        vertical-align: top;\n",
              "    }\n",
              "\n",
              "    .dataframe thead th {\n",
              "        text-align: right;\n",
              "    }\n",
              "</style>\n",
              "<table border=\"1\" class=\"dataframe\">\n",
              "  <thead>\n",
              "    <tr style=\"text-align: right;\">\n",
              "      <th></th>\n",
              "      <th>0</th>\n",
              "      <th>1</th>\n",
              "      <th>2</th>\n",
              "      <th>3</th>\n",
              "    </tr>\n",
              "  </thead>\n",
              "  <tbody>\n",
              "    <tr>\n",
              "      <th>0</th>\n",
              "      <td>-0.982120</td>\n",
              "      <td>1.787150</td>\n",
              "      <td>0.767374</td>\n",
              "      <td>-1.256915</td>\n",
              "    </tr>\n",
              "    <tr>\n",
              "      <th>1</th>\n",
              "      <td>-0.538278</td>\n",
              "      <td>-0.922218</td>\n",
              "      <td>1.516356</td>\n",
              "      <td>0.832296</td>\n",
              "    </tr>\n",
              "    <tr>\n",
              "      <th>2</th>\n",
              "      <td>0.057250</td>\n",
              "      <td>-0.315126</td>\n",
              "      <td>0.549953</td>\n",
              "      <td>-0.713662</td>\n",
              "    </tr>\n",
              "    <tr>\n",
              "      <th>3</th>\n",
              "      <td>-0.314463</td>\n",
              "      <td>-1.503900</td>\n",
              "      <td>-0.636147</td>\n",
              "      <td>-1.741790</td>\n",
              "    </tr>\n",
              "    <tr>\n",
              "      <th>4</th>\n",
              "      <td>-0.031016</td>\n",
              "      <td>-0.975832</td>\n",
              "      <td>0.456349</td>\n",
              "      <td>-0.686355</td>\n",
              "    </tr>\n",
              "  </tbody>\n",
              "</table>\n",
              "</div>"
            ],
            "text/plain": [
              "          0         1         2         3\n",
              "0 -0.982120  1.787150  0.767374 -1.256915\n",
              "1 -0.538278 -0.922218  1.516356  0.832296\n",
              "2  0.057250 -0.315126  0.549953 -0.713662\n",
              "3 -0.314463 -1.503900 -0.636147 -1.741790\n",
              "4 -0.031016 -0.975832  0.456349 -0.686355"
            ]
          },
          "metadata": {
            "tags": []
          },
          "execution_count": 18
        }
      ]
    },
    {
      "cell_type": "code",
      "metadata": {
        "id": "MZnpZMvVAiYg",
        "colab_type": "code",
        "colab": {
          "base_uri": "https://localhost:8080/",
          "height": 206
        },
        "outputId": "2718ef1b-d12f-4e78-9bf6-e7ce4893189e"
      },
      "source": [
        "# Naming the index\n",
        "\n",
        "df = pd.DataFrame(rand_mat, index = 'A B C D E'.split())\n",
        "df"
      ],
      "execution_count": 19,
      "outputs": [
        {
          "output_type": "execute_result",
          "data": {
            "text/html": [
              "<div>\n",
              "<style scoped>\n",
              "    .dataframe tbody tr th:only-of-type {\n",
              "        vertical-align: middle;\n",
              "    }\n",
              "\n",
              "    .dataframe tbody tr th {\n",
              "        vertical-align: top;\n",
              "    }\n",
              "\n",
              "    .dataframe thead th {\n",
              "        text-align: right;\n",
              "    }\n",
              "</style>\n",
              "<table border=\"1\" class=\"dataframe\">\n",
              "  <thead>\n",
              "    <tr style=\"text-align: right;\">\n",
              "      <th></th>\n",
              "      <th>0</th>\n",
              "      <th>1</th>\n",
              "      <th>2</th>\n",
              "      <th>3</th>\n",
              "    </tr>\n",
              "  </thead>\n",
              "  <tbody>\n",
              "    <tr>\n",
              "      <th>A</th>\n",
              "      <td>-0.982120</td>\n",
              "      <td>1.787150</td>\n",
              "      <td>0.767374</td>\n",
              "      <td>-1.256915</td>\n",
              "    </tr>\n",
              "    <tr>\n",
              "      <th>B</th>\n",
              "      <td>-0.538278</td>\n",
              "      <td>-0.922218</td>\n",
              "      <td>1.516356</td>\n",
              "      <td>0.832296</td>\n",
              "    </tr>\n",
              "    <tr>\n",
              "      <th>C</th>\n",
              "      <td>0.057250</td>\n",
              "      <td>-0.315126</td>\n",
              "      <td>0.549953</td>\n",
              "      <td>-0.713662</td>\n",
              "    </tr>\n",
              "    <tr>\n",
              "      <th>D</th>\n",
              "      <td>-0.314463</td>\n",
              "      <td>-1.503900</td>\n",
              "      <td>-0.636147</td>\n",
              "      <td>-1.741790</td>\n",
              "    </tr>\n",
              "    <tr>\n",
              "      <th>E</th>\n",
              "      <td>-0.031016</td>\n",
              "      <td>-0.975832</td>\n",
              "      <td>0.456349</td>\n",
              "      <td>-0.686355</td>\n",
              "    </tr>\n",
              "  </tbody>\n",
              "</table>\n",
              "</div>"
            ],
            "text/plain": [
              "          0         1         2         3\n",
              "A -0.982120  1.787150  0.767374 -1.256915\n",
              "B -0.538278 -0.922218  1.516356  0.832296\n",
              "C  0.057250 -0.315126  0.549953 -0.713662\n",
              "D -0.314463 -1.503900 -0.636147 -1.741790\n",
              "E -0.031016 -0.975832  0.456349 -0.686355"
            ]
          },
          "metadata": {
            "tags": []
          },
          "execution_count": 19
        }
      ]
    },
    {
      "cell_type": "code",
      "metadata": {
        "id": "k6xv0K_XArrV",
        "colab_type": "code",
        "colab": {
          "base_uri": "https://localhost:8080/",
          "height": 206
        },
        "outputId": "6d56ff3d-c843-4eff-bd38-e2c1b8aefc1b"
      },
      "source": [
        "df = pd.DataFrame(rand_mat, index = 'A B C D E'.split(),\n",
        "                  columns = 'W X Y Z'.split())\n",
        "df"
      ],
      "execution_count": 20,
      "outputs": [
        {
          "output_type": "execute_result",
          "data": {
            "text/html": [
              "<div>\n",
              "<style scoped>\n",
              "    .dataframe tbody tr th:only-of-type {\n",
              "        vertical-align: middle;\n",
              "    }\n",
              "\n",
              "    .dataframe tbody tr th {\n",
              "        vertical-align: top;\n",
              "    }\n",
              "\n",
              "    .dataframe thead th {\n",
              "        text-align: right;\n",
              "    }\n",
              "</style>\n",
              "<table border=\"1\" class=\"dataframe\">\n",
              "  <thead>\n",
              "    <tr style=\"text-align: right;\">\n",
              "      <th></th>\n",
              "      <th>W</th>\n",
              "      <th>X</th>\n",
              "      <th>Y</th>\n",
              "      <th>Z</th>\n",
              "    </tr>\n",
              "  </thead>\n",
              "  <tbody>\n",
              "    <tr>\n",
              "      <th>A</th>\n",
              "      <td>-0.982120</td>\n",
              "      <td>1.787150</td>\n",
              "      <td>0.767374</td>\n",
              "      <td>-1.256915</td>\n",
              "    </tr>\n",
              "    <tr>\n",
              "      <th>B</th>\n",
              "      <td>-0.538278</td>\n",
              "      <td>-0.922218</td>\n",
              "      <td>1.516356</td>\n",
              "      <td>0.832296</td>\n",
              "    </tr>\n",
              "    <tr>\n",
              "      <th>C</th>\n",
              "      <td>0.057250</td>\n",
              "      <td>-0.315126</td>\n",
              "      <td>0.549953</td>\n",
              "      <td>-0.713662</td>\n",
              "    </tr>\n",
              "    <tr>\n",
              "      <th>D</th>\n",
              "      <td>-0.314463</td>\n",
              "      <td>-1.503900</td>\n",
              "      <td>-0.636147</td>\n",
              "      <td>-1.741790</td>\n",
              "    </tr>\n",
              "    <tr>\n",
              "      <th>E</th>\n",
              "      <td>-0.031016</td>\n",
              "      <td>-0.975832</td>\n",
              "      <td>0.456349</td>\n",
              "      <td>-0.686355</td>\n",
              "    </tr>\n",
              "  </tbody>\n",
              "</table>\n",
              "</div>"
            ],
            "text/plain": [
              "          W         X         Y         Z\n",
              "A -0.982120  1.787150  0.767374 -1.256915\n",
              "B -0.538278 -0.922218  1.516356  0.832296\n",
              "C  0.057250 -0.315126  0.549953 -0.713662\n",
              "D -0.314463 -1.503900 -0.636147 -1.741790\n",
              "E -0.031016 -0.975832  0.456349 -0.686355"
            ]
          },
          "metadata": {
            "tags": []
          },
          "execution_count": 20
        }
      ]
    },
    {
      "cell_type": "code",
      "metadata": {
        "id": "JyF6qTV5BAFJ",
        "colab_type": "code",
        "colab": {}
      },
      "source": [
        "# Slicing Data From DataFrame"
      ],
      "execution_count": 0,
      "outputs": []
    },
    {
      "cell_type": "code",
      "metadata": {
        "id": "uTt9YfxkBGbB",
        "colab_type": "code",
        "colab": {
          "base_uri": "https://localhost:8080/",
          "height": 127
        },
        "outputId": "e3e650ad-1a4e-465f-d68e-9672cb06d240"
      },
      "source": [
        "# Selecting `W` column\n",
        "df['W']"
      ],
      "execution_count": 22,
      "outputs": [
        {
          "output_type": "execute_result",
          "data": {
            "text/plain": [
              "A   -0.982120\n",
              "B   -0.538278\n",
              "C    0.057250\n",
              "D   -0.314463\n",
              "E   -0.031016\n",
              "Name: W, dtype: float64"
            ]
          },
          "metadata": {
            "tags": []
          },
          "execution_count": 22
        }
      ]
    },
    {
      "cell_type": "code",
      "metadata": {
        "id": "fOrSLnRlBHeR",
        "colab_type": "code",
        "colab": {
          "base_uri": "https://localhost:8080/",
          "height": 206
        },
        "outputId": "77731a6d-4de0-4234-9f26-5e18d97a4840"
      },
      "source": [
        "# Select W and Y Columns\n",
        "\n",
        "df[['W', 'Y']]"
      ],
      "execution_count": 23,
      "outputs": [
        {
          "output_type": "execute_result",
          "data": {
            "text/html": [
              "<div>\n",
              "<style scoped>\n",
              "    .dataframe tbody tr th:only-of-type {\n",
              "        vertical-align: middle;\n",
              "    }\n",
              "\n",
              "    .dataframe tbody tr th {\n",
              "        vertical-align: top;\n",
              "    }\n",
              "\n",
              "    .dataframe thead th {\n",
              "        text-align: right;\n",
              "    }\n",
              "</style>\n",
              "<table border=\"1\" class=\"dataframe\">\n",
              "  <thead>\n",
              "    <tr style=\"text-align: right;\">\n",
              "      <th></th>\n",
              "      <th>W</th>\n",
              "      <th>Y</th>\n",
              "    </tr>\n",
              "  </thead>\n",
              "  <tbody>\n",
              "    <tr>\n",
              "      <th>A</th>\n",
              "      <td>-0.982120</td>\n",
              "      <td>0.767374</td>\n",
              "    </tr>\n",
              "    <tr>\n",
              "      <th>B</th>\n",
              "      <td>-0.538278</td>\n",
              "      <td>1.516356</td>\n",
              "    </tr>\n",
              "    <tr>\n",
              "      <th>C</th>\n",
              "      <td>0.057250</td>\n",
              "      <td>0.549953</td>\n",
              "    </tr>\n",
              "    <tr>\n",
              "      <th>D</th>\n",
              "      <td>-0.314463</td>\n",
              "      <td>-0.636147</td>\n",
              "    </tr>\n",
              "    <tr>\n",
              "      <th>E</th>\n",
              "      <td>-0.031016</td>\n",
              "      <td>0.456349</td>\n",
              "    </tr>\n",
              "  </tbody>\n",
              "</table>\n",
              "</div>"
            ],
            "text/plain": [
              "          W         Y\n",
              "A -0.982120  0.767374\n",
              "B -0.538278  1.516356\n",
              "C  0.057250  0.549953\n",
              "D -0.314463 -0.636147\n",
              "E -0.031016  0.456349"
            ]
          },
          "metadata": {
            "tags": []
          },
          "execution_count": 23
        }
      ]
    },
    {
      "cell_type": "code",
      "metadata": {
        "id": "Nodu0AP5BRba",
        "colab_type": "code",
        "colab": {}
      },
      "source": [
        "# Create a new Column\n",
        "# Adding W and Y columns\n",
        "df['NEW'] = df['W'] + df['Y']"
      ],
      "execution_count": 0,
      "outputs": []
    },
    {
      "cell_type": "code",
      "metadata": {
        "id": "W6j7dcrBBmyZ",
        "colab_type": "code",
        "colab": {
          "base_uri": "https://localhost:8080/",
          "height": 206
        },
        "outputId": "efdc1983-1172-4fbc-c5eb-8be051907d14"
      },
      "source": [
        "df"
      ],
      "execution_count": 25,
      "outputs": [
        {
          "output_type": "execute_result",
          "data": {
            "text/html": [
              "<div>\n",
              "<style scoped>\n",
              "    .dataframe tbody tr th:only-of-type {\n",
              "        vertical-align: middle;\n",
              "    }\n",
              "\n",
              "    .dataframe tbody tr th {\n",
              "        vertical-align: top;\n",
              "    }\n",
              "\n",
              "    .dataframe thead th {\n",
              "        text-align: right;\n",
              "    }\n",
              "</style>\n",
              "<table border=\"1\" class=\"dataframe\">\n",
              "  <thead>\n",
              "    <tr style=\"text-align: right;\">\n",
              "      <th></th>\n",
              "      <th>W</th>\n",
              "      <th>X</th>\n",
              "      <th>Y</th>\n",
              "      <th>Z</th>\n",
              "      <th>NEW</th>\n",
              "    </tr>\n",
              "  </thead>\n",
              "  <tbody>\n",
              "    <tr>\n",
              "      <th>A</th>\n",
              "      <td>-0.982120</td>\n",
              "      <td>1.787150</td>\n",
              "      <td>0.767374</td>\n",
              "      <td>-1.256915</td>\n",
              "      <td>-0.214746</td>\n",
              "    </tr>\n",
              "    <tr>\n",
              "      <th>B</th>\n",
              "      <td>-0.538278</td>\n",
              "      <td>-0.922218</td>\n",
              "      <td>1.516356</td>\n",
              "      <td>0.832296</td>\n",
              "      <td>0.978077</td>\n",
              "    </tr>\n",
              "    <tr>\n",
              "      <th>C</th>\n",
              "      <td>0.057250</td>\n",
              "      <td>-0.315126</td>\n",
              "      <td>0.549953</td>\n",
              "      <td>-0.713662</td>\n",
              "      <td>0.607204</td>\n",
              "    </tr>\n",
              "    <tr>\n",
              "      <th>D</th>\n",
              "      <td>-0.314463</td>\n",
              "      <td>-1.503900</td>\n",
              "      <td>-0.636147</td>\n",
              "      <td>-1.741790</td>\n",
              "      <td>-0.950610</td>\n",
              "    </tr>\n",
              "    <tr>\n",
              "      <th>E</th>\n",
              "      <td>-0.031016</td>\n",
              "      <td>-0.975832</td>\n",
              "      <td>0.456349</td>\n",
              "      <td>-0.686355</td>\n",
              "      <td>0.425333</td>\n",
              "    </tr>\n",
              "  </tbody>\n",
              "</table>\n",
              "</div>"
            ],
            "text/plain": [
              "          W         X         Y         Z       NEW\n",
              "A -0.982120  1.787150  0.767374 -1.256915 -0.214746\n",
              "B -0.538278 -0.922218  1.516356  0.832296  0.978077\n",
              "C  0.057250 -0.315126  0.549953 -0.713662  0.607204\n",
              "D -0.314463 -1.503900 -0.636147 -1.741790 -0.950610\n",
              "E -0.031016 -0.975832  0.456349 -0.686355  0.425333"
            ]
          },
          "metadata": {
            "tags": []
          },
          "execution_count": 25
        }
      ]
    },
    {
      "cell_type": "code",
      "metadata": {
        "id": "1X0yKgD4Cpdm",
        "colab_type": "code",
        "colab": {
          "base_uri": "https://localhost:8080/",
          "height": 206
        },
        "outputId": "94441361-c519-4a8d-a9cf-8e9936e376c4"
      },
      "source": [
        "# Remove a column\n",
        "\n",
        "df.drop(columns=['NEW'])"
      ],
      "execution_count": 26,
      "outputs": [
        {
          "output_type": "execute_result",
          "data": {
            "text/html": [
              "<div>\n",
              "<style scoped>\n",
              "    .dataframe tbody tr th:only-of-type {\n",
              "        vertical-align: middle;\n",
              "    }\n",
              "\n",
              "    .dataframe tbody tr th {\n",
              "        vertical-align: top;\n",
              "    }\n",
              "\n",
              "    .dataframe thead th {\n",
              "        text-align: right;\n",
              "    }\n",
              "</style>\n",
              "<table border=\"1\" class=\"dataframe\">\n",
              "  <thead>\n",
              "    <tr style=\"text-align: right;\">\n",
              "      <th></th>\n",
              "      <th>W</th>\n",
              "      <th>X</th>\n",
              "      <th>Y</th>\n",
              "      <th>Z</th>\n",
              "    </tr>\n",
              "  </thead>\n",
              "  <tbody>\n",
              "    <tr>\n",
              "      <th>A</th>\n",
              "      <td>-0.982120</td>\n",
              "      <td>1.787150</td>\n",
              "      <td>0.767374</td>\n",
              "      <td>-1.256915</td>\n",
              "    </tr>\n",
              "    <tr>\n",
              "      <th>B</th>\n",
              "      <td>-0.538278</td>\n",
              "      <td>-0.922218</td>\n",
              "      <td>1.516356</td>\n",
              "      <td>0.832296</td>\n",
              "    </tr>\n",
              "    <tr>\n",
              "      <th>C</th>\n",
              "      <td>0.057250</td>\n",
              "      <td>-0.315126</td>\n",
              "      <td>0.549953</td>\n",
              "      <td>-0.713662</td>\n",
              "    </tr>\n",
              "    <tr>\n",
              "      <th>D</th>\n",
              "      <td>-0.314463</td>\n",
              "      <td>-1.503900</td>\n",
              "      <td>-0.636147</td>\n",
              "      <td>-1.741790</td>\n",
              "    </tr>\n",
              "    <tr>\n",
              "      <th>E</th>\n",
              "      <td>-0.031016</td>\n",
              "      <td>-0.975832</td>\n",
              "      <td>0.456349</td>\n",
              "      <td>-0.686355</td>\n",
              "    </tr>\n",
              "  </tbody>\n",
              "</table>\n",
              "</div>"
            ],
            "text/plain": [
              "          W         X         Y         Z\n",
              "A -0.982120  1.787150  0.767374 -1.256915\n",
              "B -0.538278 -0.922218  1.516356  0.832296\n",
              "C  0.057250 -0.315126  0.549953 -0.713662\n",
              "D -0.314463 -1.503900 -0.636147 -1.741790\n",
              "E -0.031016 -0.975832  0.456349 -0.686355"
            ]
          },
          "metadata": {
            "tags": []
          },
          "execution_count": 26
        }
      ]
    },
    {
      "cell_type": "code",
      "metadata": {
        "id": "PJlupJL0C0OP",
        "colab_type": "code",
        "colab": {
          "base_uri": "https://localhost:8080/",
          "height": 206
        },
        "outputId": "f2dcbc85-92a8-46c8-f585-dfbb6951779d"
      },
      "source": [
        "# Set inplace = True to make the Drop permanent\n",
        "# We will try it again\n",
        "df"
      ],
      "execution_count": 27,
      "outputs": [
        {
          "output_type": "execute_result",
          "data": {
            "text/html": [
              "<div>\n",
              "<style scoped>\n",
              "    .dataframe tbody tr th:only-of-type {\n",
              "        vertical-align: middle;\n",
              "    }\n",
              "\n",
              "    .dataframe tbody tr th {\n",
              "        vertical-align: top;\n",
              "    }\n",
              "\n",
              "    .dataframe thead th {\n",
              "        text-align: right;\n",
              "    }\n",
              "</style>\n",
              "<table border=\"1\" class=\"dataframe\">\n",
              "  <thead>\n",
              "    <tr style=\"text-align: right;\">\n",
              "      <th></th>\n",
              "      <th>W</th>\n",
              "      <th>X</th>\n",
              "      <th>Y</th>\n",
              "      <th>Z</th>\n",
              "      <th>NEW</th>\n",
              "    </tr>\n",
              "  </thead>\n",
              "  <tbody>\n",
              "    <tr>\n",
              "      <th>A</th>\n",
              "      <td>-0.982120</td>\n",
              "      <td>1.787150</td>\n",
              "      <td>0.767374</td>\n",
              "      <td>-1.256915</td>\n",
              "      <td>-0.214746</td>\n",
              "    </tr>\n",
              "    <tr>\n",
              "      <th>B</th>\n",
              "      <td>-0.538278</td>\n",
              "      <td>-0.922218</td>\n",
              "      <td>1.516356</td>\n",
              "      <td>0.832296</td>\n",
              "      <td>0.978077</td>\n",
              "    </tr>\n",
              "    <tr>\n",
              "      <th>C</th>\n",
              "      <td>0.057250</td>\n",
              "      <td>-0.315126</td>\n",
              "      <td>0.549953</td>\n",
              "      <td>-0.713662</td>\n",
              "      <td>0.607204</td>\n",
              "    </tr>\n",
              "    <tr>\n",
              "      <th>D</th>\n",
              "      <td>-0.314463</td>\n",
              "      <td>-1.503900</td>\n",
              "      <td>-0.636147</td>\n",
              "      <td>-1.741790</td>\n",
              "      <td>-0.950610</td>\n",
              "    </tr>\n",
              "    <tr>\n",
              "      <th>E</th>\n",
              "      <td>-0.031016</td>\n",
              "      <td>-0.975832</td>\n",
              "      <td>0.456349</td>\n",
              "      <td>-0.686355</td>\n",
              "      <td>0.425333</td>\n",
              "    </tr>\n",
              "  </tbody>\n",
              "</table>\n",
              "</div>"
            ],
            "text/plain": [
              "          W         X         Y         Z       NEW\n",
              "A -0.982120  1.787150  0.767374 -1.256915 -0.214746\n",
              "B -0.538278 -0.922218  1.516356  0.832296  0.978077\n",
              "C  0.057250 -0.315126  0.549953 -0.713662  0.607204\n",
              "D -0.314463 -1.503900 -0.636147 -1.741790 -0.950610\n",
              "E -0.031016 -0.975832  0.456349 -0.686355  0.425333"
            ]
          },
          "metadata": {
            "tags": []
          },
          "execution_count": 27
        }
      ]
    },
    {
      "cell_type": "code",
      "metadata": {
        "id": "3AU3CW44DBXz",
        "colab_type": "code",
        "colab": {}
      },
      "source": [
        "df.drop(columns='NEW', inplace=True)"
      ],
      "execution_count": 0,
      "outputs": []
    },
    {
      "cell_type": "code",
      "metadata": {
        "id": "X_gD4ntRDXxl",
        "colab_type": "code",
        "colab": {
          "base_uri": "https://localhost:8080/",
          "height": 206
        },
        "outputId": "0482da8b-de80-4807-f08d-1404667e48c0"
      },
      "source": [
        "df"
      ],
      "execution_count": 29,
      "outputs": [
        {
          "output_type": "execute_result",
          "data": {
            "text/html": [
              "<div>\n",
              "<style scoped>\n",
              "    .dataframe tbody tr th:only-of-type {\n",
              "        vertical-align: middle;\n",
              "    }\n",
              "\n",
              "    .dataframe tbody tr th {\n",
              "        vertical-align: top;\n",
              "    }\n",
              "\n",
              "    .dataframe thead th {\n",
              "        text-align: right;\n",
              "    }\n",
              "</style>\n",
              "<table border=\"1\" class=\"dataframe\">\n",
              "  <thead>\n",
              "    <tr style=\"text-align: right;\">\n",
              "      <th></th>\n",
              "      <th>W</th>\n",
              "      <th>X</th>\n",
              "      <th>Y</th>\n",
              "      <th>Z</th>\n",
              "    </tr>\n",
              "  </thead>\n",
              "  <tbody>\n",
              "    <tr>\n",
              "      <th>A</th>\n",
              "      <td>-0.982120</td>\n",
              "      <td>1.787150</td>\n",
              "      <td>0.767374</td>\n",
              "      <td>-1.256915</td>\n",
              "    </tr>\n",
              "    <tr>\n",
              "      <th>B</th>\n",
              "      <td>-0.538278</td>\n",
              "      <td>-0.922218</td>\n",
              "      <td>1.516356</td>\n",
              "      <td>0.832296</td>\n",
              "    </tr>\n",
              "    <tr>\n",
              "      <th>C</th>\n",
              "      <td>0.057250</td>\n",
              "      <td>-0.315126</td>\n",
              "      <td>0.549953</td>\n",
              "      <td>-0.713662</td>\n",
              "    </tr>\n",
              "    <tr>\n",
              "      <th>D</th>\n",
              "      <td>-0.314463</td>\n",
              "      <td>-1.503900</td>\n",
              "      <td>-0.636147</td>\n",
              "      <td>-1.741790</td>\n",
              "    </tr>\n",
              "    <tr>\n",
              "      <th>E</th>\n",
              "      <td>-0.031016</td>\n",
              "      <td>-0.975832</td>\n",
              "      <td>0.456349</td>\n",
              "      <td>-0.686355</td>\n",
              "    </tr>\n",
              "  </tbody>\n",
              "</table>\n",
              "</div>"
            ],
            "text/plain": [
              "          W         X         Y         Z\n",
              "A -0.982120  1.787150  0.767374 -1.256915\n",
              "B -0.538278 -0.922218  1.516356  0.832296\n",
              "C  0.057250 -0.315126  0.549953 -0.713662\n",
              "D -0.314463 -1.503900 -0.636147 -1.741790\n",
              "E -0.031016 -0.975832  0.456349 -0.686355"
            ]
          },
          "metadata": {
            "tags": []
          },
          "execution_count": 29
        }
      ]
    },
    {
      "cell_type": "code",
      "metadata": {
        "id": "0DyPeGtiDYJS",
        "colab_type": "code",
        "colab": {
          "base_uri": "https://localhost:8080/",
          "height": 175
        },
        "outputId": "75c5e4c8-b51a-40ba-e8de-e6d4ee8a095d"
      },
      "source": [
        "# Drop row\n",
        "df.drop('A')"
      ],
      "execution_count": 30,
      "outputs": [
        {
          "output_type": "execute_result",
          "data": {
            "text/html": [
              "<div>\n",
              "<style scoped>\n",
              "    .dataframe tbody tr th:only-of-type {\n",
              "        vertical-align: middle;\n",
              "    }\n",
              "\n",
              "    .dataframe tbody tr th {\n",
              "        vertical-align: top;\n",
              "    }\n",
              "\n",
              "    .dataframe thead th {\n",
              "        text-align: right;\n",
              "    }\n",
              "</style>\n",
              "<table border=\"1\" class=\"dataframe\">\n",
              "  <thead>\n",
              "    <tr style=\"text-align: right;\">\n",
              "      <th></th>\n",
              "      <th>W</th>\n",
              "      <th>X</th>\n",
              "      <th>Y</th>\n",
              "      <th>Z</th>\n",
              "    </tr>\n",
              "  </thead>\n",
              "  <tbody>\n",
              "    <tr>\n",
              "      <th>B</th>\n",
              "      <td>-0.538278</td>\n",
              "      <td>-0.922218</td>\n",
              "      <td>1.516356</td>\n",
              "      <td>0.832296</td>\n",
              "    </tr>\n",
              "    <tr>\n",
              "      <th>C</th>\n",
              "      <td>0.057250</td>\n",
              "      <td>-0.315126</td>\n",
              "      <td>0.549953</td>\n",
              "      <td>-0.713662</td>\n",
              "    </tr>\n",
              "    <tr>\n",
              "      <th>D</th>\n",
              "      <td>-0.314463</td>\n",
              "      <td>-1.503900</td>\n",
              "      <td>-0.636147</td>\n",
              "      <td>-1.741790</td>\n",
              "    </tr>\n",
              "    <tr>\n",
              "      <th>E</th>\n",
              "      <td>-0.031016</td>\n",
              "      <td>-0.975832</td>\n",
              "      <td>0.456349</td>\n",
              "      <td>-0.686355</td>\n",
              "    </tr>\n",
              "  </tbody>\n",
              "</table>\n",
              "</div>"
            ],
            "text/plain": [
              "          W         X         Y         Z\n",
              "B -0.538278 -0.922218  1.516356  0.832296\n",
              "C  0.057250 -0.315126  0.549953 -0.713662\n",
              "D -0.314463 -1.503900 -0.636147 -1.741790\n",
              "E -0.031016 -0.975832  0.456349 -0.686355"
            ]
          },
          "metadata": {
            "tags": []
          },
          "execution_count": 30
        }
      ]
    },
    {
      "cell_type": "code",
      "metadata": {
        "id": "bBCs9_pGDfrE",
        "colab_type": "code",
        "colab": {
          "base_uri": "https://localhost:8080/",
          "height": 109
        },
        "outputId": "4b30d542-bc58-4c43-ffdb-25addf9b990d"
      },
      "source": [
        "df.loc['A']"
      ],
      "execution_count": 31,
      "outputs": [
        {
          "output_type": "execute_result",
          "data": {
            "text/plain": [
              "W   -0.982120\n",
              "X    1.787150\n",
              "Y    0.767374\n",
              "Z   -1.256915\n",
              "Name: A, dtype: float64"
            ]
          },
          "metadata": {
            "tags": []
          },
          "execution_count": 31
        }
      ]
    },
    {
      "cell_type": "code",
      "metadata": {
        "id": "v9Nm3FgBDsny",
        "colab_type": "code",
        "colab": {
          "base_uri": "https://localhost:8080/",
          "height": 109
        },
        "outputId": "cd85ef26-2ca0-42a7-d9e3-f6cadf304663"
      },
      "source": [
        "df.iloc[0]"
      ],
      "execution_count": 32,
      "outputs": [
        {
          "output_type": "execute_result",
          "data": {
            "text/plain": [
              "W   -0.982120\n",
              "X    1.787150\n",
              "Y    0.767374\n",
              "Z   -1.256915\n",
              "Name: A, dtype: float64"
            ]
          },
          "metadata": {
            "tags": []
          },
          "execution_count": 32
        }
      ]
    },
    {
      "cell_type": "code",
      "metadata": {
        "id": "oYcjDEmHDyhZ",
        "colab_type": "code",
        "colab": {
          "base_uri": "https://localhost:8080/",
          "height": 206
        },
        "outputId": "33a638ea-8ef3-4848-fbe0-3e56e76bdcc8"
      },
      "source": [
        "df.loc[:,['X', 'Z']]"
      ],
      "execution_count": 33,
      "outputs": [
        {
          "output_type": "execute_result",
          "data": {
            "text/html": [
              "<div>\n",
              "<style scoped>\n",
              "    .dataframe tbody tr th:only-of-type {\n",
              "        vertical-align: middle;\n",
              "    }\n",
              "\n",
              "    .dataframe tbody tr th {\n",
              "        vertical-align: top;\n",
              "    }\n",
              "\n",
              "    .dataframe thead th {\n",
              "        text-align: right;\n",
              "    }\n",
              "</style>\n",
              "<table border=\"1\" class=\"dataframe\">\n",
              "  <thead>\n",
              "    <tr style=\"text-align: right;\">\n",
              "      <th></th>\n",
              "      <th>X</th>\n",
              "      <th>Z</th>\n",
              "    </tr>\n",
              "  </thead>\n",
              "  <tbody>\n",
              "    <tr>\n",
              "      <th>A</th>\n",
              "      <td>1.787150</td>\n",
              "      <td>-1.256915</td>\n",
              "    </tr>\n",
              "    <tr>\n",
              "      <th>B</th>\n",
              "      <td>-0.922218</td>\n",
              "      <td>0.832296</td>\n",
              "    </tr>\n",
              "    <tr>\n",
              "      <th>C</th>\n",
              "      <td>-0.315126</td>\n",
              "      <td>-0.713662</td>\n",
              "    </tr>\n",
              "    <tr>\n",
              "      <th>D</th>\n",
              "      <td>-1.503900</td>\n",
              "      <td>-1.741790</td>\n",
              "    </tr>\n",
              "    <tr>\n",
              "      <th>E</th>\n",
              "      <td>-0.975832</td>\n",
              "      <td>-0.686355</td>\n",
              "    </tr>\n",
              "  </tbody>\n",
              "</table>\n",
              "</div>"
            ],
            "text/plain": [
              "          X         Z\n",
              "A  1.787150 -1.256915\n",
              "B -0.922218  0.832296\n",
              "C -0.315126 -0.713662\n",
              "D -1.503900 -1.741790\n",
              "E -0.975832 -0.686355"
            ]
          },
          "metadata": {
            "tags": []
          },
          "execution_count": 33
        }
      ]
    },
    {
      "cell_type": "code",
      "metadata": {
        "id": "ZlilIU2DIooz",
        "colab_type": "code",
        "colab": {
          "base_uri": "https://localhost:8080/",
          "height": 112
        },
        "outputId": "d848d4df-72c3-4cba-b9a5-57203443e3cb"
      },
      "source": [
        "# indexing using rows and columns\n",
        "# Using .loc\n",
        "\n",
        "df.loc[['A','E'],['W', 'Z']]"
      ],
      "execution_count": 34,
      "outputs": [
        {
          "output_type": "execute_result",
          "data": {
            "text/html": [
              "<div>\n",
              "<style scoped>\n",
              "    .dataframe tbody tr th:only-of-type {\n",
              "        vertical-align: middle;\n",
              "    }\n",
              "\n",
              "    .dataframe tbody tr th {\n",
              "        vertical-align: top;\n",
              "    }\n",
              "\n",
              "    .dataframe thead th {\n",
              "        text-align: right;\n",
              "    }\n",
              "</style>\n",
              "<table border=\"1\" class=\"dataframe\">\n",
              "  <thead>\n",
              "    <tr style=\"text-align: right;\">\n",
              "      <th></th>\n",
              "      <th>W</th>\n",
              "      <th>Z</th>\n",
              "    </tr>\n",
              "  </thead>\n",
              "  <tbody>\n",
              "    <tr>\n",
              "      <th>A</th>\n",
              "      <td>-0.982120</td>\n",
              "      <td>-1.256915</td>\n",
              "    </tr>\n",
              "    <tr>\n",
              "      <th>E</th>\n",
              "      <td>-0.031016</td>\n",
              "      <td>-0.686355</td>\n",
              "    </tr>\n",
              "  </tbody>\n",
              "</table>\n",
              "</div>"
            ],
            "text/plain": [
              "          W         Z\n",
              "A -0.982120 -1.256915\n",
              "E -0.031016 -0.686355"
            ]
          },
          "metadata": {
            "tags": []
          },
          "execution_count": 34
        }
      ]
    },
    {
      "cell_type": "code",
      "metadata": {
        "id": "tGnjKGRhIrCA",
        "colab_type": "code",
        "colab": {
          "base_uri": "https://localhost:8080/",
          "height": 112
        },
        "outputId": "6ecb995e-a8d1-4ecf-c49d-aa751d97f5f3"
      },
      "source": [
        "# Using .loc\n",
        "\n",
        "df.iloc[[0,4],[0,3]]"
      ],
      "execution_count": 35,
      "outputs": [
        {
          "output_type": "execute_result",
          "data": {
            "text/html": [
              "<div>\n",
              "<style scoped>\n",
              "    .dataframe tbody tr th:only-of-type {\n",
              "        vertical-align: middle;\n",
              "    }\n",
              "\n",
              "    .dataframe tbody tr th {\n",
              "        vertical-align: top;\n",
              "    }\n",
              "\n",
              "    .dataframe thead th {\n",
              "        text-align: right;\n",
              "    }\n",
              "</style>\n",
              "<table border=\"1\" class=\"dataframe\">\n",
              "  <thead>\n",
              "    <tr style=\"text-align: right;\">\n",
              "      <th></th>\n",
              "      <th>W</th>\n",
              "      <th>Z</th>\n",
              "    </tr>\n",
              "  </thead>\n",
              "  <tbody>\n",
              "    <tr>\n",
              "      <th>A</th>\n",
              "      <td>-0.982120</td>\n",
              "      <td>-1.256915</td>\n",
              "    </tr>\n",
              "    <tr>\n",
              "      <th>E</th>\n",
              "      <td>-0.031016</td>\n",
              "      <td>-0.686355</td>\n",
              "    </tr>\n",
              "  </tbody>\n",
              "</table>\n",
              "</div>"
            ],
            "text/plain": [
              "          W         Z\n",
              "A -0.982120 -1.256915\n",
              "E -0.031016 -0.686355"
            ]
          },
          "metadata": {
            "tags": []
          },
          "execution_count": 35
        }
      ]
    },
    {
      "cell_type": "markdown",
      "metadata": {
        "id": "SRWY-RJYJ4FU",
        "colab_type": "text"
      },
      "source": [
        "---\n",
        "Conditional Selection"
      ]
    },
    {
      "cell_type": "code",
      "metadata": {
        "id": "Anc0SuHuPPQk",
        "colab_type": "code",
        "colab": {
          "base_uri": "https://localhost:8080/",
          "height": 206
        },
        "outputId": "0b4249ff-3ec0-4f5b-a08a-d769a33b241e"
      },
      "source": [
        "df > 0"
      ],
      "execution_count": 36,
      "outputs": [
        {
          "output_type": "execute_result",
          "data": {
            "text/html": [
              "<div>\n",
              "<style scoped>\n",
              "    .dataframe tbody tr th:only-of-type {\n",
              "        vertical-align: middle;\n",
              "    }\n",
              "\n",
              "    .dataframe tbody tr th {\n",
              "        vertical-align: top;\n",
              "    }\n",
              "\n",
              "    .dataframe thead th {\n",
              "        text-align: right;\n",
              "    }\n",
              "</style>\n",
              "<table border=\"1\" class=\"dataframe\">\n",
              "  <thead>\n",
              "    <tr style=\"text-align: right;\">\n",
              "      <th></th>\n",
              "      <th>W</th>\n",
              "      <th>X</th>\n",
              "      <th>Y</th>\n",
              "      <th>Z</th>\n",
              "    </tr>\n",
              "  </thead>\n",
              "  <tbody>\n",
              "    <tr>\n",
              "      <th>A</th>\n",
              "      <td>False</td>\n",
              "      <td>True</td>\n",
              "      <td>True</td>\n",
              "      <td>False</td>\n",
              "    </tr>\n",
              "    <tr>\n",
              "      <th>B</th>\n",
              "      <td>False</td>\n",
              "      <td>False</td>\n",
              "      <td>True</td>\n",
              "      <td>True</td>\n",
              "    </tr>\n",
              "    <tr>\n",
              "      <th>C</th>\n",
              "      <td>True</td>\n",
              "      <td>False</td>\n",
              "      <td>True</td>\n",
              "      <td>False</td>\n",
              "    </tr>\n",
              "    <tr>\n",
              "      <th>D</th>\n",
              "      <td>False</td>\n",
              "      <td>False</td>\n",
              "      <td>False</td>\n",
              "      <td>False</td>\n",
              "    </tr>\n",
              "    <tr>\n",
              "      <th>E</th>\n",
              "      <td>False</td>\n",
              "      <td>False</td>\n",
              "      <td>True</td>\n",
              "      <td>False</td>\n",
              "    </tr>\n",
              "  </tbody>\n",
              "</table>\n",
              "</div>"
            ],
            "text/plain": [
              "       W      X      Y      Z\n",
              "A  False   True   True  False\n",
              "B  False  False   True   True\n",
              "C   True  False   True  False\n",
              "D  False  False  False  False\n",
              "E  False  False   True  False"
            ]
          },
          "metadata": {
            "tags": []
          },
          "execution_count": 36
        }
      ]
    },
    {
      "cell_type": "code",
      "metadata": {
        "id": "Wp0AySVFPQSq",
        "colab_type": "code",
        "colab": {
          "base_uri": "https://localhost:8080/",
          "height": 206
        },
        "outputId": "cd82bf03-b568-4a14-b138-46dbbab683a4"
      },
      "source": [
        "df[df > 0]"
      ],
      "execution_count": 37,
      "outputs": [
        {
          "output_type": "execute_result",
          "data": {
            "text/html": [
              "<div>\n",
              "<style scoped>\n",
              "    .dataframe tbody tr th:only-of-type {\n",
              "        vertical-align: middle;\n",
              "    }\n",
              "\n",
              "    .dataframe tbody tr th {\n",
              "        vertical-align: top;\n",
              "    }\n",
              "\n",
              "    .dataframe thead th {\n",
              "        text-align: right;\n",
              "    }\n",
              "</style>\n",
              "<table border=\"1\" class=\"dataframe\">\n",
              "  <thead>\n",
              "    <tr style=\"text-align: right;\">\n",
              "      <th></th>\n",
              "      <th>W</th>\n",
              "      <th>X</th>\n",
              "      <th>Y</th>\n",
              "      <th>Z</th>\n",
              "    </tr>\n",
              "  </thead>\n",
              "  <tbody>\n",
              "    <tr>\n",
              "      <th>A</th>\n",
              "      <td>NaN</td>\n",
              "      <td>1.78715</td>\n",
              "      <td>0.767374</td>\n",
              "      <td>NaN</td>\n",
              "    </tr>\n",
              "    <tr>\n",
              "      <th>B</th>\n",
              "      <td>NaN</td>\n",
              "      <td>NaN</td>\n",
              "      <td>1.516356</td>\n",
              "      <td>0.832296</td>\n",
              "    </tr>\n",
              "    <tr>\n",
              "      <th>C</th>\n",
              "      <td>0.05725</td>\n",
              "      <td>NaN</td>\n",
              "      <td>0.549953</td>\n",
              "      <td>NaN</td>\n",
              "    </tr>\n",
              "    <tr>\n",
              "      <th>D</th>\n",
              "      <td>NaN</td>\n",
              "      <td>NaN</td>\n",
              "      <td>NaN</td>\n",
              "      <td>NaN</td>\n",
              "    </tr>\n",
              "    <tr>\n",
              "      <th>E</th>\n",
              "      <td>NaN</td>\n",
              "      <td>NaN</td>\n",
              "      <td>0.456349</td>\n",
              "      <td>NaN</td>\n",
              "    </tr>\n",
              "  </tbody>\n",
              "</table>\n",
              "</div>"
            ],
            "text/plain": [
              "         W        X         Y         Z\n",
              "A      NaN  1.78715  0.767374       NaN\n",
              "B      NaN      NaN  1.516356  0.832296\n",
              "C  0.05725      NaN  0.549953       NaN\n",
              "D      NaN      NaN       NaN       NaN\n",
              "E      NaN      NaN  0.456349       NaN"
            ]
          },
          "metadata": {
            "tags": []
          },
          "execution_count": 37
        }
      ]
    },
    {
      "cell_type": "code",
      "metadata": {
        "id": "j6q2GiEWPUpW",
        "colab_type": "code",
        "colab": {
          "base_uri": "https://localhost:8080/",
          "height": 54
        },
        "outputId": "63f96fef-7bac-437d-d2dc-5454abe939ac"
      },
      "source": [
        "df[df['W'] > 0]['W']"
      ],
      "execution_count": 38,
      "outputs": [
        {
          "output_type": "execute_result",
          "data": {
            "text/plain": [
              "C    0.05725\n",
              "Name: W, dtype: float64"
            ]
          },
          "metadata": {
            "tags": []
          },
          "execution_count": 38
        }
      ]
    },
    {
      "cell_type": "code",
      "metadata": {
        "id": "YxDC_-ViPb8I",
        "colab_type": "code",
        "colab": {
          "base_uri": "https://localhost:8080/",
          "height": 81
        },
        "outputId": "9903de83-c90e-4ae2-b9a2-ded162054b4f"
      },
      "source": [
        "df[ (df['W'] > 0) & (df['Y'] < 1)]"
      ],
      "execution_count": 39,
      "outputs": [
        {
          "output_type": "execute_result",
          "data": {
            "text/html": [
              "<div>\n",
              "<style scoped>\n",
              "    .dataframe tbody tr th:only-of-type {\n",
              "        vertical-align: middle;\n",
              "    }\n",
              "\n",
              "    .dataframe tbody tr th {\n",
              "        vertical-align: top;\n",
              "    }\n",
              "\n",
              "    .dataframe thead th {\n",
              "        text-align: right;\n",
              "    }\n",
              "</style>\n",
              "<table border=\"1\" class=\"dataframe\">\n",
              "  <thead>\n",
              "    <tr style=\"text-align: right;\">\n",
              "      <th></th>\n",
              "      <th>W</th>\n",
              "      <th>X</th>\n",
              "      <th>Y</th>\n",
              "      <th>Z</th>\n",
              "    </tr>\n",
              "  </thead>\n",
              "  <tbody>\n",
              "    <tr>\n",
              "      <th>C</th>\n",
              "      <td>0.05725</td>\n",
              "      <td>-0.315126</td>\n",
              "      <td>0.549953</td>\n",
              "      <td>-0.713662</td>\n",
              "    </tr>\n",
              "  </tbody>\n",
              "</table>\n",
              "</div>"
            ],
            "text/plain": [
              "         W         X         Y         Z\n",
              "C  0.05725 -0.315126  0.549953 -0.713662"
            ]
          },
          "metadata": {
            "tags": []
          },
          "execution_count": 39
        }
      ]
    },
    {
      "cell_type": "markdown",
      "metadata": {
        "id": "SOogW3OiQVRP",
        "colab_type": "text"
      },
      "source": [
        "Resetting the index"
      ]
    },
    {
      "cell_type": "code",
      "metadata": {
        "id": "fFU3NUPfQ1L2",
        "colab_type": "code",
        "colab": {
          "base_uri": "https://localhost:8080/",
          "height": 206
        },
        "outputId": "8fa36d74-b773-42f3-d671-57aa36867721"
      },
      "source": [
        "df.reset_index()"
      ],
      "execution_count": 40,
      "outputs": [
        {
          "output_type": "execute_result",
          "data": {
            "text/html": [
              "<div>\n",
              "<style scoped>\n",
              "    .dataframe tbody tr th:only-of-type {\n",
              "        vertical-align: middle;\n",
              "    }\n",
              "\n",
              "    .dataframe tbody tr th {\n",
              "        vertical-align: top;\n",
              "    }\n",
              "\n",
              "    .dataframe thead th {\n",
              "        text-align: right;\n",
              "    }\n",
              "</style>\n",
              "<table border=\"1\" class=\"dataframe\">\n",
              "  <thead>\n",
              "    <tr style=\"text-align: right;\">\n",
              "      <th></th>\n",
              "      <th>index</th>\n",
              "      <th>W</th>\n",
              "      <th>X</th>\n",
              "      <th>Y</th>\n",
              "      <th>Z</th>\n",
              "    </tr>\n",
              "  </thead>\n",
              "  <tbody>\n",
              "    <tr>\n",
              "      <th>0</th>\n",
              "      <td>A</td>\n",
              "      <td>-0.982120</td>\n",
              "      <td>1.787150</td>\n",
              "      <td>0.767374</td>\n",
              "      <td>-1.256915</td>\n",
              "    </tr>\n",
              "    <tr>\n",
              "      <th>1</th>\n",
              "      <td>B</td>\n",
              "      <td>-0.538278</td>\n",
              "      <td>-0.922218</td>\n",
              "      <td>1.516356</td>\n",
              "      <td>0.832296</td>\n",
              "    </tr>\n",
              "    <tr>\n",
              "      <th>2</th>\n",
              "      <td>C</td>\n",
              "      <td>0.057250</td>\n",
              "      <td>-0.315126</td>\n",
              "      <td>0.549953</td>\n",
              "      <td>-0.713662</td>\n",
              "    </tr>\n",
              "    <tr>\n",
              "      <th>3</th>\n",
              "      <td>D</td>\n",
              "      <td>-0.314463</td>\n",
              "      <td>-1.503900</td>\n",
              "      <td>-0.636147</td>\n",
              "      <td>-1.741790</td>\n",
              "    </tr>\n",
              "    <tr>\n",
              "      <th>4</th>\n",
              "      <td>E</td>\n",
              "      <td>-0.031016</td>\n",
              "      <td>-0.975832</td>\n",
              "      <td>0.456349</td>\n",
              "      <td>-0.686355</td>\n",
              "    </tr>\n",
              "  </tbody>\n",
              "</table>\n",
              "</div>"
            ],
            "text/plain": [
              "  index         W         X         Y         Z\n",
              "0     A -0.982120  1.787150  0.767374 -1.256915\n",
              "1     B -0.538278 -0.922218  1.516356  0.832296\n",
              "2     C  0.057250 -0.315126  0.549953 -0.713662\n",
              "3     D -0.314463 -1.503900 -0.636147 -1.741790\n",
              "4     E -0.031016 -0.975832  0.456349 -0.686355"
            ]
          },
          "metadata": {
            "tags": []
          },
          "execution_count": 40
        }
      ]
    },
    {
      "cell_type": "code",
      "metadata": {
        "id": "M92dYrpCQ3J6",
        "colab_type": "code",
        "colab": {
          "base_uri": "https://localhost:8080/",
          "height": 206
        },
        "outputId": "8468e841-0817-4ef9-c7f5-bd6d0e13021c"
      },
      "source": [
        "# Change the index manually\n",
        "df.set_index(keys=['CA NY WY CT PA'.split()])"
      ],
      "execution_count": 41,
      "outputs": [
        {
          "output_type": "execute_result",
          "data": {
            "text/html": [
              "<div>\n",
              "<style scoped>\n",
              "    .dataframe tbody tr th:only-of-type {\n",
              "        vertical-align: middle;\n",
              "    }\n",
              "\n",
              "    .dataframe tbody tr th {\n",
              "        vertical-align: top;\n",
              "    }\n",
              "\n",
              "    .dataframe thead th {\n",
              "        text-align: right;\n",
              "    }\n",
              "</style>\n",
              "<table border=\"1\" class=\"dataframe\">\n",
              "  <thead>\n",
              "    <tr style=\"text-align: right;\">\n",
              "      <th></th>\n",
              "      <th>W</th>\n",
              "      <th>X</th>\n",
              "      <th>Y</th>\n",
              "      <th>Z</th>\n",
              "    </tr>\n",
              "  </thead>\n",
              "  <tbody>\n",
              "    <tr>\n",
              "      <th>CA</th>\n",
              "      <td>-0.982120</td>\n",
              "      <td>1.787150</td>\n",
              "      <td>0.767374</td>\n",
              "      <td>-1.256915</td>\n",
              "    </tr>\n",
              "    <tr>\n",
              "      <th>NY</th>\n",
              "      <td>-0.538278</td>\n",
              "      <td>-0.922218</td>\n",
              "      <td>1.516356</td>\n",
              "      <td>0.832296</td>\n",
              "    </tr>\n",
              "    <tr>\n",
              "      <th>WY</th>\n",
              "      <td>0.057250</td>\n",
              "      <td>-0.315126</td>\n",
              "      <td>0.549953</td>\n",
              "      <td>-0.713662</td>\n",
              "    </tr>\n",
              "    <tr>\n",
              "      <th>CT</th>\n",
              "      <td>-0.314463</td>\n",
              "      <td>-1.503900</td>\n",
              "      <td>-0.636147</td>\n",
              "      <td>-1.741790</td>\n",
              "    </tr>\n",
              "    <tr>\n",
              "      <th>PA</th>\n",
              "      <td>-0.031016</td>\n",
              "      <td>-0.975832</td>\n",
              "      <td>0.456349</td>\n",
              "      <td>-0.686355</td>\n",
              "    </tr>\n",
              "  </tbody>\n",
              "</table>\n",
              "</div>"
            ],
            "text/plain": [
              "           W         X         Y         Z\n",
              "CA -0.982120  1.787150  0.767374 -1.256915\n",
              "NY -0.538278 -0.922218  1.516356  0.832296\n",
              "WY  0.057250 -0.315126  0.549953 -0.713662\n",
              "CT -0.314463 -1.503900 -0.636147 -1.741790\n",
              "PA -0.031016 -0.975832  0.456349 -0.686355"
            ]
          },
          "metadata": {
            "tags": []
          },
          "execution_count": 41
        }
      ]
    },
    {
      "cell_type": "code",
      "metadata": {
        "id": "SlWakfK8RNNW",
        "colab_type": "code",
        "colab": {
          "base_uri": "https://localhost:8080/",
          "height": 182
        },
        "outputId": "30d11f99-29e9-4003-bbcf-0b50177685bf"
      },
      "source": [
        "df.info()"
      ],
      "execution_count": 42,
      "outputs": [
        {
          "output_type": "stream",
          "text": [
            "<class 'pandas.core.frame.DataFrame'>\n",
            "Index: 5 entries, A to E\n",
            "Data columns (total 4 columns):\n",
            "W    5 non-null float64\n",
            "X    5 non-null float64\n",
            "Y    5 non-null float64\n",
            "Z    5 non-null float64\n",
            "dtypes: float64(4)\n",
            "memory usage: 360.0+ bytes\n"
          ],
          "name": "stdout"
        }
      ]
    },
    {
      "cell_type": "code",
      "metadata": {
        "id": "T4FdesM2RbDZ",
        "colab_type": "code",
        "colab": {
          "base_uri": "https://localhost:8080/",
          "height": 300
        },
        "outputId": "999859e6-e550-4f65-b80f-224c96d747e3"
      },
      "source": [
        "df.describe()"
      ],
      "execution_count": 43,
      "outputs": [
        {
          "output_type": "execute_result",
          "data": {
            "text/html": [
              "<div>\n",
              "<style scoped>\n",
              "    .dataframe tbody tr th:only-of-type {\n",
              "        vertical-align: middle;\n",
              "    }\n",
              "\n",
              "    .dataframe tbody tr th {\n",
              "        vertical-align: top;\n",
              "    }\n",
              "\n",
              "    .dataframe thead th {\n",
              "        text-align: right;\n",
              "    }\n",
              "</style>\n",
              "<table border=\"1\" class=\"dataframe\">\n",
              "  <thead>\n",
              "    <tr style=\"text-align: right;\">\n",
              "      <th></th>\n",
              "      <th>W</th>\n",
              "      <th>X</th>\n",
              "      <th>Y</th>\n",
              "      <th>Z</th>\n",
              "    </tr>\n",
              "  </thead>\n",
              "  <tbody>\n",
              "    <tr>\n",
              "      <th>count</th>\n",
              "      <td>5.000000</td>\n",
              "      <td>5.000000</td>\n",
              "      <td>5.000000</td>\n",
              "      <td>5.000000</td>\n",
              "    </tr>\n",
              "    <tr>\n",
              "      <th>mean</th>\n",
              "      <td>-0.361725</td>\n",
              "      <td>-0.385985</td>\n",
              "      <td>0.530777</td>\n",
              "      <td>-0.713285</td>\n",
              "    </tr>\n",
              "    <tr>\n",
              "      <th>std</th>\n",
              "      <td>0.419286</td>\n",
              "      <td>1.285762</td>\n",
              "      <td>0.773783</td>\n",
              "      <td>0.967329</td>\n",
              "    </tr>\n",
              "    <tr>\n",
              "      <th>min</th>\n",
              "      <td>-0.982120</td>\n",
              "      <td>-1.503900</td>\n",
              "      <td>-0.636147</td>\n",
              "      <td>-1.741790</td>\n",
              "    </tr>\n",
              "    <tr>\n",
              "      <th>25%</th>\n",
              "      <td>-0.538278</td>\n",
              "      <td>-0.975832</td>\n",
              "      <td>0.456349</td>\n",
              "      <td>-1.256915</td>\n",
              "    </tr>\n",
              "    <tr>\n",
              "      <th>50%</th>\n",
              "      <td>-0.314463</td>\n",
              "      <td>-0.922218</td>\n",
              "      <td>0.549953</td>\n",
              "      <td>-0.713662</td>\n",
              "    </tr>\n",
              "    <tr>\n",
              "      <th>75%</th>\n",
              "      <td>-0.031016</td>\n",
              "      <td>-0.315126</td>\n",
              "      <td>0.767374</td>\n",
              "      <td>-0.686355</td>\n",
              "    </tr>\n",
              "    <tr>\n",
              "      <th>max</th>\n",
              "      <td>0.057250</td>\n",
              "      <td>1.787150</td>\n",
              "      <td>1.516356</td>\n",
              "      <td>0.832296</td>\n",
              "    </tr>\n",
              "  </tbody>\n",
              "</table>\n",
              "</div>"
            ],
            "text/plain": [
              "              W         X         Y         Z\n",
              "count  5.000000  5.000000  5.000000  5.000000\n",
              "mean  -0.361725 -0.385985  0.530777 -0.713285\n",
              "std    0.419286  1.285762  0.773783  0.967329\n",
              "min   -0.982120 -1.503900 -0.636147 -1.741790\n",
              "25%   -0.538278 -0.975832  0.456349 -1.256915\n",
              "50%   -0.314463 -0.922218  0.549953 -0.713662\n",
              "75%   -0.031016 -0.315126  0.767374 -0.686355\n",
              "max    0.057250  1.787150  1.516356  0.832296"
            ]
          },
          "metadata": {
            "tags": []
          },
          "execution_count": 43
        }
      ]
    },
    {
      "cell_type": "code",
      "metadata": {
        "id": "jZB0yW3dRcjw",
        "colab_type": "code",
        "colab": {
          "base_uri": "https://localhost:8080/",
          "height": 109
        },
        "outputId": "db435785-a2f5-4294-842f-d341f2135d00"
      },
      "source": [
        "df.dtypes"
      ],
      "execution_count": 44,
      "outputs": [
        {
          "output_type": "execute_result",
          "data": {
            "text/plain": [
              "W    float64\n",
              "X    float64\n",
              "Y    float64\n",
              "Z    float64\n",
              "dtype: object"
            ]
          },
          "metadata": {
            "tags": []
          },
          "execution_count": 44
        }
      ]
    },
    {
      "cell_type": "code",
      "metadata": {
        "id": "y1-3bziJReah",
        "colab_type": "code",
        "colab": {
          "base_uri": "https://localhost:8080/",
          "height": 72
        },
        "outputId": "874a7e74-9bb6-49b5-d0e8-b59d8c3d343e"
      },
      "source": [
        "(df['W'] > 0).value_counts()"
      ],
      "execution_count": 45,
      "outputs": [
        {
          "output_type": "execute_result",
          "data": {
            "text/plain": [
              "False    4\n",
              "True     1\n",
              "Name: W, dtype: int64"
            ]
          },
          "metadata": {
            "tags": []
          },
          "execution_count": 45
        }
      ]
    },
    {
      "cell_type": "markdown",
      "metadata": {
        "id": "_-BPipnZRlko",
        "colab_type": "text"
      },
      "source": [
        "---\n",
        "GroupBy Operations\n",
        "- Split\n",
        "- Apply\n",
        "- Combine"
      ]
    },
    {
      "cell_type": "code",
      "metadata": {
        "id": "k43TZxMBRyns",
        "colab_type": "code",
        "colab": {
          "base_uri": "https://localhost:8080/",
          "height": 206
        },
        "outputId": "f3157b6f-ed22-4f6d-b434-c69a8aeb9bf5"
      },
      "source": [
        "# Make some data up\n",
        "\n",
        "df = pd.DataFrame({'Company':'MSFT MSFT GOOG GOOG FB FB'.split(),\n",
        "                   'Employees':'Jack Mike Alex Mila Maya Lexi'.split(),\n",
        "                   'Salary':[80,90,110,102,95,98]})\n",
        "\n",
        "df.head()"
      ],
      "execution_count": 46,
      "outputs": [
        {
          "output_type": "execute_result",
          "data": {
            "text/html": [
              "<div>\n",
              "<style scoped>\n",
              "    .dataframe tbody tr th:only-of-type {\n",
              "        vertical-align: middle;\n",
              "    }\n",
              "\n",
              "    .dataframe tbody tr th {\n",
              "        vertical-align: top;\n",
              "    }\n",
              "\n",
              "    .dataframe thead th {\n",
              "        text-align: right;\n",
              "    }\n",
              "</style>\n",
              "<table border=\"1\" class=\"dataframe\">\n",
              "  <thead>\n",
              "    <tr style=\"text-align: right;\">\n",
              "      <th></th>\n",
              "      <th>Company</th>\n",
              "      <th>Employees</th>\n",
              "      <th>Salary</th>\n",
              "    </tr>\n",
              "  </thead>\n",
              "  <tbody>\n",
              "    <tr>\n",
              "      <th>0</th>\n",
              "      <td>MSFT</td>\n",
              "      <td>Jack</td>\n",
              "      <td>80</td>\n",
              "    </tr>\n",
              "    <tr>\n",
              "      <th>1</th>\n",
              "      <td>MSFT</td>\n",
              "      <td>Mike</td>\n",
              "      <td>90</td>\n",
              "    </tr>\n",
              "    <tr>\n",
              "      <th>2</th>\n",
              "      <td>GOOG</td>\n",
              "      <td>Alex</td>\n",
              "      <td>110</td>\n",
              "    </tr>\n",
              "    <tr>\n",
              "      <th>3</th>\n",
              "      <td>GOOG</td>\n",
              "      <td>Mila</td>\n",
              "      <td>102</td>\n",
              "    </tr>\n",
              "    <tr>\n",
              "      <th>4</th>\n",
              "      <td>FB</td>\n",
              "      <td>Maya</td>\n",
              "      <td>95</td>\n",
              "    </tr>\n",
              "  </tbody>\n",
              "</table>\n",
              "</div>"
            ],
            "text/plain": [
              "  Company Employees  Salary\n",
              "0    MSFT      Jack      80\n",
              "1    MSFT      Mike      90\n",
              "2    GOOG      Alex     110\n",
              "3    GOOG      Mila     102\n",
              "4      FB      Maya      95"
            ]
          },
          "metadata": {
            "tags": []
          },
          "execution_count": 46
        }
      ]
    },
    {
      "cell_type": "code",
      "metadata": {
        "id": "DQ6rY-8sSwbt",
        "colab_type": "code",
        "colab": {
          "base_uri": "https://localhost:8080/",
          "height": 175
        },
        "outputId": "7b58593f-8af4-4851-ca9f-341a6f99653e"
      },
      "source": [
        "df.groupby('Company').mean()"
      ],
      "execution_count": 47,
      "outputs": [
        {
          "output_type": "execute_result",
          "data": {
            "text/html": [
              "<div>\n",
              "<style scoped>\n",
              "    .dataframe tbody tr th:only-of-type {\n",
              "        vertical-align: middle;\n",
              "    }\n",
              "\n",
              "    .dataframe tbody tr th {\n",
              "        vertical-align: top;\n",
              "    }\n",
              "\n",
              "    .dataframe thead th {\n",
              "        text-align: right;\n",
              "    }\n",
              "</style>\n",
              "<table border=\"1\" class=\"dataframe\">\n",
              "  <thead>\n",
              "    <tr style=\"text-align: right;\">\n",
              "      <th></th>\n",
              "      <th>Salary</th>\n",
              "    </tr>\n",
              "    <tr>\n",
              "      <th>Company</th>\n",
              "      <th></th>\n",
              "    </tr>\n",
              "  </thead>\n",
              "  <tbody>\n",
              "    <tr>\n",
              "      <th>FB</th>\n",
              "      <td>96.5</td>\n",
              "    </tr>\n",
              "    <tr>\n",
              "      <th>GOOG</th>\n",
              "      <td>106.0</td>\n",
              "    </tr>\n",
              "    <tr>\n",
              "      <th>MSFT</th>\n",
              "      <td>85.0</td>\n",
              "    </tr>\n",
              "  </tbody>\n",
              "</table>\n",
              "</div>"
            ],
            "text/plain": [
              "         Salary\n",
              "Company        \n",
              "FB         96.5\n",
              "GOOG      106.0\n",
              "MSFT       85.0"
            ]
          },
          "metadata": {
            "tags": []
          },
          "execution_count": 47
        }
      ]
    },
    {
      "cell_type": "code",
      "metadata": {
        "id": "2yEmZ64TTOHL",
        "colab_type": "code",
        "colab": {
          "base_uri": "https://localhost:8080/",
          "height": 175
        },
        "outputId": "7bc5c52c-5d46-42d0-9796-e8c9b61f8811"
      },
      "source": [
        "df.groupby('Company').std()"
      ],
      "execution_count": 48,
      "outputs": [
        {
          "output_type": "execute_result",
          "data": {
            "text/html": [
              "<div>\n",
              "<style scoped>\n",
              "    .dataframe tbody tr th:only-of-type {\n",
              "        vertical-align: middle;\n",
              "    }\n",
              "\n",
              "    .dataframe tbody tr th {\n",
              "        vertical-align: top;\n",
              "    }\n",
              "\n",
              "    .dataframe thead th {\n",
              "        text-align: right;\n",
              "    }\n",
              "</style>\n",
              "<table border=\"1\" class=\"dataframe\">\n",
              "  <thead>\n",
              "    <tr style=\"text-align: right;\">\n",
              "      <th></th>\n",
              "      <th>Salary</th>\n",
              "    </tr>\n",
              "    <tr>\n",
              "      <th>Company</th>\n",
              "      <th></th>\n",
              "    </tr>\n",
              "  </thead>\n",
              "  <tbody>\n",
              "    <tr>\n",
              "      <th>FB</th>\n",
              "      <td>2.121320</td>\n",
              "    </tr>\n",
              "    <tr>\n",
              "      <th>GOOG</th>\n",
              "      <td>5.656854</td>\n",
              "    </tr>\n",
              "    <tr>\n",
              "      <th>MSFT</th>\n",
              "      <td>7.071068</td>\n",
              "    </tr>\n",
              "  </tbody>\n",
              "</table>\n",
              "</div>"
            ],
            "text/plain": [
              "           Salary\n",
              "Company          \n",
              "FB       2.121320\n",
              "GOOG     5.656854\n",
              "MSFT     7.071068"
            ]
          },
          "metadata": {
            "tags": []
          },
          "execution_count": 48
        }
      ]
    },
    {
      "cell_type": "code",
      "metadata": {
        "id": "qreB3eUzTdvD",
        "colab_type": "code",
        "colab": {
          "base_uri": "https://localhost:8080/",
          "height": 206
        },
        "outputId": "af6e6185-00bd-428d-df93-2074936d24b8"
      },
      "source": [
        "df.groupby('Company').describe()"
      ],
      "execution_count": 49,
      "outputs": [
        {
          "output_type": "execute_result",
          "data": {
            "text/html": [
              "<div>\n",
              "<style scoped>\n",
              "    .dataframe tbody tr th:only-of-type {\n",
              "        vertical-align: middle;\n",
              "    }\n",
              "\n",
              "    .dataframe tbody tr th {\n",
              "        vertical-align: top;\n",
              "    }\n",
              "\n",
              "    .dataframe thead tr th {\n",
              "        text-align: left;\n",
              "    }\n",
              "\n",
              "    .dataframe thead tr:last-of-type th {\n",
              "        text-align: right;\n",
              "    }\n",
              "</style>\n",
              "<table border=\"1\" class=\"dataframe\">\n",
              "  <thead>\n",
              "    <tr>\n",
              "      <th></th>\n",
              "      <th colspan=\"8\" halign=\"left\">Salary</th>\n",
              "    </tr>\n",
              "    <tr>\n",
              "      <th></th>\n",
              "      <th>count</th>\n",
              "      <th>mean</th>\n",
              "      <th>std</th>\n",
              "      <th>min</th>\n",
              "      <th>25%</th>\n",
              "      <th>50%</th>\n",
              "      <th>75%</th>\n",
              "      <th>max</th>\n",
              "    </tr>\n",
              "    <tr>\n",
              "      <th>Company</th>\n",
              "      <th></th>\n",
              "      <th></th>\n",
              "      <th></th>\n",
              "      <th></th>\n",
              "      <th></th>\n",
              "      <th></th>\n",
              "      <th></th>\n",
              "      <th></th>\n",
              "    </tr>\n",
              "  </thead>\n",
              "  <tbody>\n",
              "    <tr>\n",
              "      <th>FB</th>\n",
              "      <td>2.0</td>\n",
              "      <td>96.5</td>\n",
              "      <td>2.121320</td>\n",
              "      <td>95.0</td>\n",
              "      <td>95.75</td>\n",
              "      <td>96.5</td>\n",
              "      <td>97.25</td>\n",
              "      <td>98.0</td>\n",
              "    </tr>\n",
              "    <tr>\n",
              "      <th>GOOG</th>\n",
              "      <td>2.0</td>\n",
              "      <td>106.0</td>\n",
              "      <td>5.656854</td>\n",
              "      <td>102.0</td>\n",
              "      <td>104.00</td>\n",
              "      <td>106.0</td>\n",
              "      <td>108.00</td>\n",
              "      <td>110.0</td>\n",
              "    </tr>\n",
              "    <tr>\n",
              "      <th>MSFT</th>\n",
              "      <td>2.0</td>\n",
              "      <td>85.0</td>\n",
              "      <td>7.071068</td>\n",
              "      <td>80.0</td>\n",
              "      <td>82.50</td>\n",
              "      <td>85.0</td>\n",
              "      <td>87.50</td>\n",
              "      <td>90.0</td>\n",
              "    </tr>\n",
              "  </tbody>\n",
              "</table>\n",
              "</div>"
            ],
            "text/plain": [
              "        Salary                                                      \n",
              "         count   mean       std    min     25%    50%     75%    max\n",
              "Company                                                             \n",
              "FB         2.0   96.5  2.121320   95.0   95.75   96.5   97.25   98.0\n",
              "GOOG       2.0  106.0  5.656854  102.0  104.00  106.0  108.00  110.0\n",
              "MSFT       2.0   85.0  7.071068   80.0   82.50   85.0   87.50   90.0"
            ]
          },
          "metadata": {
            "tags": []
          },
          "execution_count": 49
        }
      ]
    },
    {
      "cell_type": "code",
      "metadata": {
        "id": "m9I5Kql6Tj7R",
        "colab_type": "code",
        "colab": {
          "base_uri": "https://localhost:8080/",
          "height": 300
        },
        "outputId": "f0202820-ee86-4652-8591-5daa495782ce"
      },
      "source": [
        "df.groupby('Company').describe().transpose()"
      ],
      "execution_count": 50,
      "outputs": [
        {
          "output_type": "execute_result",
          "data": {
            "text/html": [
              "<div>\n",
              "<style scoped>\n",
              "    .dataframe tbody tr th:only-of-type {\n",
              "        vertical-align: middle;\n",
              "    }\n",
              "\n",
              "    .dataframe tbody tr th {\n",
              "        vertical-align: top;\n",
              "    }\n",
              "\n",
              "    .dataframe thead th {\n",
              "        text-align: right;\n",
              "    }\n",
              "</style>\n",
              "<table border=\"1\" class=\"dataframe\">\n",
              "  <thead>\n",
              "    <tr style=\"text-align: right;\">\n",
              "      <th></th>\n",
              "      <th>Company</th>\n",
              "      <th>FB</th>\n",
              "      <th>GOOG</th>\n",
              "      <th>MSFT</th>\n",
              "    </tr>\n",
              "  </thead>\n",
              "  <tbody>\n",
              "    <tr>\n",
              "      <th rowspan=\"8\" valign=\"top\">Salary</th>\n",
              "      <th>count</th>\n",
              "      <td>2.00000</td>\n",
              "      <td>2.000000</td>\n",
              "      <td>2.000000</td>\n",
              "    </tr>\n",
              "    <tr>\n",
              "      <th>mean</th>\n",
              "      <td>96.50000</td>\n",
              "      <td>106.000000</td>\n",
              "      <td>85.000000</td>\n",
              "    </tr>\n",
              "    <tr>\n",
              "      <th>std</th>\n",
              "      <td>2.12132</td>\n",
              "      <td>5.656854</td>\n",
              "      <td>7.071068</td>\n",
              "    </tr>\n",
              "    <tr>\n",
              "      <th>min</th>\n",
              "      <td>95.00000</td>\n",
              "      <td>102.000000</td>\n",
              "      <td>80.000000</td>\n",
              "    </tr>\n",
              "    <tr>\n",
              "      <th>25%</th>\n",
              "      <td>95.75000</td>\n",
              "      <td>104.000000</td>\n",
              "      <td>82.500000</td>\n",
              "    </tr>\n",
              "    <tr>\n",
              "      <th>50%</th>\n",
              "      <td>96.50000</td>\n",
              "      <td>106.000000</td>\n",
              "      <td>85.000000</td>\n",
              "    </tr>\n",
              "    <tr>\n",
              "      <th>75%</th>\n",
              "      <td>97.25000</td>\n",
              "      <td>108.000000</td>\n",
              "      <td>87.500000</td>\n",
              "    </tr>\n",
              "    <tr>\n",
              "      <th>max</th>\n",
              "      <td>98.00000</td>\n",
              "      <td>110.000000</td>\n",
              "      <td>90.000000</td>\n",
              "    </tr>\n",
              "  </tbody>\n",
              "</table>\n",
              "</div>"
            ],
            "text/plain": [
              "Company             FB        GOOG       MSFT\n",
              "Salary count   2.00000    2.000000   2.000000\n",
              "       mean   96.50000  106.000000  85.000000\n",
              "       std     2.12132    5.656854   7.071068\n",
              "       min    95.00000  102.000000  80.000000\n",
              "       25%    95.75000  104.000000  82.500000\n",
              "       50%    96.50000  106.000000  85.000000\n",
              "       75%    97.25000  108.000000  87.500000\n",
              "       max    98.00000  110.000000  90.000000"
            ]
          },
          "metadata": {
            "tags": []
          },
          "execution_count": 50
        }
      ]
    },
    {
      "cell_type": "markdown",
      "metadata": {
        "id": "PGYCH27rTyUA",
        "colab_type": "text"
      },
      "source": [
        "---\n",
        "Pandas Operations"
      ]
    },
    {
      "cell_type": "code",
      "metadata": {
        "id": "OhsBZfsQUIPX",
        "colab_type": "code",
        "colab": {}
      },
      "source": [
        "\n",
        "df = pd.DataFrame({'Company':'MSFT MSFT GOOG GOOG FB FB'.split(),\n",
        "                   'Employees':'Jack Mike Alex Mila Maya Lexi'.split(),\n",
        "                   'Salary':[80,90,110,102,90,98]})"
      ],
      "execution_count": 0,
      "outputs": []
    },
    {
      "cell_type": "code",
      "metadata": {
        "id": "r8bAUKpmUSKi",
        "colab_type": "code",
        "colab": {
          "base_uri": "https://localhost:8080/",
          "height": 238
        },
        "outputId": "b2521a5c-63d4-4ed0-f5e6-9e97084daeab"
      },
      "source": [
        "df"
      ],
      "execution_count": 52,
      "outputs": [
        {
          "output_type": "execute_result",
          "data": {
            "text/html": [
              "<div>\n",
              "<style scoped>\n",
              "    .dataframe tbody tr th:only-of-type {\n",
              "        vertical-align: middle;\n",
              "    }\n",
              "\n",
              "    .dataframe tbody tr th {\n",
              "        vertical-align: top;\n",
              "    }\n",
              "\n",
              "    .dataframe thead th {\n",
              "        text-align: right;\n",
              "    }\n",
              "</style>\n",
              "<table border=\"1\" class=\"dataframe\">\n",
              "  <thead>\n",
              "    <tr style=\"text-align: right;\">\n",
              "      <th></th>\n",
              "      <th>Company</th>\n",
              "      <th>Employees</th>\n",
              "      <th>Salary</th>\n",
              "    </tr>\n",
              "  </thead>\n",
              "  <tbody>\n",
              "    <tr>\n",
              "      <th>0</th>\n",
              "      <td>MSFT</td>\n",
              "      <td>Jack</td>\n",
              "      <td>80</td>\n",
              "    </tr>\n",
              "    <tr>\n",
              "      <th>1</th>\n",
              "      <td>MSFT</td>\n",
              "      <td>Mike</td>\n",
              "      <td>90</td>\n",
              "    </tr>\n",
              "    <tr>\n",
              "      <th>2</th>\n",
              "      <td>GOOG</td>\n",
              "      <td>Alex</td>\n",
              "      <td>110</td>\n",
              "    </tr>\n",
              "    <tr>\n",
              "      <th>3</th>\n",
              "      <td>GOOG</td>\n",
              "      <td>Mila</td>\n",
              "      <td>102</td>\n",
              "    </tr>\n",
              "    <tr>\n",
              "      <th>4</th>\n",
              "      <td>FB</td>\n",
              "      <td>Maya</td>\n",
              "      <td>90</td>\n",
              "    </tr>\n",
              "    <tr>\n",
              "      <th>5</th>\n",
              "      <td>FB</td>\n",
              "      <td>Lexi</td>\n",
              "      <td>98</td>\n",
              "    </tr>\n",
              "  </tbody>\n",
              "</table>\n",
              "</div>"
            ],
            "text/plain": [
              "  Company Employees  Salary\n",
              "0    MSFT      Jack      80\n",
              "1    MSFT      Mike      90\n",
              "2    GOOG      Alex     110\n",
              "3    GOOG      Mila     102\n",
              "4      FB      Maya      90\n",
              "5      FB      Lexi      98"
            ]
          },
          "metadata": {
            "tags": []
          },
          "execution_count": 52
        }
      ]
    },
    {
      "cell_type": "code",
      "metadata": {
        "id": "zexqlk4vVHFW",
        "colab_type": "code",
        "colab": {
          "base_uri": "https://localhost:8080/",
          "height": 35
        },
        "outputId": "8304b7c0-c1a1-4fd8-b147-311ad4b1415c"
      },
      "source": [
        "df['Salary'].unique()"
      ],
      "execution_count": 53,
      "outputs": [
        {
          "output_type": "execute_result",
          "data": {
            "text/plain": [
              "array([ 80,  90, 110, 102,  98])"
            ]
          },
          "metadata": {
            "tags": []
          },
          "execution_count": 53
        }
      ]
    },
    {
      "cell_type": "code",
      "metadata": {
        "id": "1U3rHo9uVJZn",
        "colab_type": "code",
        "colab": {
          "base_uri": "https://localhost:8080/",
          "height": 35
        },
        "outputId": "25df1239-548d-418e-886f-d9ba026d1cb4"
      },
      "source": [
        "df['Salary'].nunique()"
      ],
      "execution_count": 54,
      "outputs": [
        {
          "output_type": "execute_result",
          "data": {
            "text/plain": [
              "5"
            ]
          },
          "metadata": {
            "tags": []
          },
          "execution_count": 54
        }
      ]
    },
    {
      "cell_type": "code",
      "metadata": {
        "id": "iabi4zc6V2Wf",
        "colab_type": "code",
        "colab": {
          "base_uri": "https://localhost:8080/",
          "height": 127
        },
        "outputId": "6f9aa4af-154f-4cbe-c924-98de5ed30fb3"
      },
      "source": [
        "df['Salary'].value_counts()"
      ],
      "execution_count": 55,
      "outputs": [
        {
          "output_type": "execute_result",
          "data": {
            "text/plain": [
              "90     2\n",
              "98     1\n",
              "110    1\n",
              "102    1\n",
              "80     1\n",
              "Name: Salary, dtype: int64"
            ]
          },
          "metadata": {
            "tags": []
          },
          "execution_count": 55
        }
      ]
    },
    {
      "cell_type": "markdown",
      "metadata": {
        "id": "VXk8RnhbV8pu",
        "colab_type": "text"
      },
      "source": [
        "Applying functions to columns"
      ]
    },
    {
      "cell_type": "code",
      "metadata": {
        "id": "giD9CE0WWLpB",
        "colab_type": "code",
        "colab": {}
      },
      "source": [
        "def times_two(x):\n",
        "\n",
        "  return 2 * x"
      ],
      "execution_count": 0,
      "outputs": []
    },
    {
      "cell_type": "code",
      "metadata": {
        "id": "nVBnDvkKWQNR",
        "colab_type": "code",
        "colab": {
          "base_uri": "https://localhost:8080/",
          "height": 238
        },
        "outputId": "3113a24e-29d2-4ba2-c8d5-0d3630fa8e6e"
      },
      "source": [
        "df.apply(times_two)"
      ],
      "execution_count": 57,
      "outputs": [
        {
          "output_type": "execute_result",
          "data": {
            "text/html": [
              "<div>\n",
              "<style scoped>\n",
              "    .dataframe tbody tr th:only-of-type {\n",
              "        vertical-align: middle;\n",
              "    }\n",
              "\n",
              "    .dataframe tbody tr th {\n",
              "        vertical-align: top;\n",
              "    }\n",
              "\n",
              "    .dataframe thead th {\n",
              "        text-align: right;\n",
              "    }\n",
              "</style>\n",
              "<table border=\"1\" class=\"dataframe\">\n",
              "  <thead>\n",
              "    <tr style=\"text-align: right;\">\n",
              "      <th></th>\n",
              "      <th>Company</th>\n",
              "      <th>Employees</th>\n",
              "      <th>Salary</th>\n",
              "    </tr>\n",
              "  </thead>\n",
              "  <tbody>\n",
              "    <tr>\n",
              "      <th>0</th>\n",
              "      <td>MSFTMSFT</td>\n",
              "      <td>JackJack</td>\n",
              "      <td>160</td>\n",
              "    </tr>\n",
              "    <tr>\n",
              "      <th>1</th>\n",
              "      <td>MSFTMSFT</td>\n",
              "      <td>MikeMike</td>\n",
              "      <td>180</td>\n",
              "    </tr>\n",
              "    <tr>\n",
              "      <th>2</th>\n",
              "      <td>GOOGGOOG</td>\n",
              "      <td>AlexAlex</td>\n",
              "      <td>220</td>\n",
              "    </tr>\n",
              "    <tr>\n",
              "      <th>3</th>\n",
              "      <td>GOOGGOOG</td>\n",
              "      <td>MilaMila</td>\n",
              "      <td>204</td>\n",
              "    </tr>\n",
              "    <tr>\n",
              "      <th>4</th>\n",
              "      <td>FBFB</td>\n",
              "      <td>MayaMaya</td>\n",
              "      <td>180</td>\n",
              "    </tr>\n",
              "    <tr>\n",
              "      <th>5</th>\n",
              "      <td>FBFB</td>\n",
              "      <td>LexiLexi</td>\n",
              "      <td>196</td>\n",
              "    </tr>\n",
              "  </tbody>\n",
              "</table>\n",
              "</div>"
            ],
            "text/plain": [
              "    Company Employees  Salary\n",
              "0  MSFTMSFT  JackJack     160\n",
              "1  MSFTMSFT  MikeMike     180\n",
              "2  GOOGGOOG  AlexAlex     220\n",
              "3  GOOGGOOG  MilaMila     204\n",
              "4      FBFB  MayaMaya     180\n",
              "5      FBFB  LexiLexi     196"
            ]
          },
          "metadata": {
            "tags": []
          },
          "execution_count": 57
        }
      ]
    },
    {
      "cell_type": "code",
      "metadata": {
        "id": "R7mhUDXeWVXW",
        "colab_type": "code",
        "colab": {
          "base_uri": "https://localhost:8080/",
          "height": 146
        },
        "outputId": "171dccca-3dbd-4bae-e420-4048ec10b560"
      },
      "source": [
        "df['Salary'].apply(times_two)"
      ],
      "execution_count": 58,
      "outputs": [
        {
          "output_type": "execute_result",
          "data": {
            "text/plain": [
              "0    160\n",
              "1    180\n",
              "2    220\n",
              "3    204\n",
              "4    180\n",
              "5    196\n",
              "Name: Salary, dtype: int64"
            ]
          },
          "metadata": {
            "tags": []
          },
          "execution_count": 58
        }
      ]
    },
    {
      "cell_type": "code",
      "metadata": {
        "id": "YxNQMqnjWaAf",
        "colab_type": "code",
        "colab": {
          "base_uri": "https://localhost:8080/",
          "height": 35
        },
        "outputId": "24cc0047-718d-47d0-d2f2-578c31525f47"
      },
      "source": [
        "df.columns"
      ],
      "execution_count": 59,
      "outputs": [
        {
          "output_type": "execute_result",
          "data": {
            "text/plain": [
              "Index(['Company', 'Employees', 'Salary'], dtype='object')"
            ]
          },
          "metadata": {
            "tags": []
          },
          "execution_count": 59
        }
      ]
    },
    {
      "cell_type": "code",
      "metadata": {
        "id": "XOCH3gYkX0u7",
        "colab_type": "code",
        "colab": {
          "base_uri": "https://localhost:8080/",
          "height": 238
        },
        "outputId": "c68eda24-96d4-4d29-cf36-a3ce85d7c048"
      },
      "source": [
        "df.sort_values(by = 'Employees')"
      ],
      "execution_count": 60,
      "outputs": [
        {
          "output_type": "execute_result",
          "data": {
            "text/html": [
              "<div>\n",
              "<style scoped>\n",
              "    .dataframe tbody tr th:only-of-type {\n",
              "        vertical-align: middle;\n",
              "    }\n",
              "\n",
              "    .dataframe tbody tr th {\n",
              "        vertical-align: top;\n",
              "    }\n",
              "\n",
              "    .dataframe thead th {\n",
              "        text-align: right;\n",
              "    }\n",
              "</style>\n",
              "<table border=\"1\" class=\"dataframe\">\n",
              "  <thead>\n",
              "    <tr style=\"text-align: right;\">\n",
              "      <th></th>\n",
              "      <th>Company</th>\n",
              "      <th>Employees</th>\n",
              "      <th>Salary</th>\n",
              "    </tr>\n",
              "  </thead>\n",
              "  <tbody>\n",
              "    <tr>\n",
              "      <th>2</th>\n",
              "      <td>GOOG</td>\n",
              "      <td>Alex</td>\n",
              "      <td>110</td>\n",
              "    </tr>\n",
              "    <tr>\n",
              "      <th>0</th>\n",
              "      <td>MSFT</td>\n",
              "      <td>Jack</td>\n",
              "      <td>80</td>\n",
              "    </tr>\n",
              "    <tr>\n",
              "      <th>5</th>\n",
              "      <td>FB</td>\n",
              "      <td>Lexi</td>\n",
              "      <td>98</td>\n",
              "    </tr>\n",
              "    <tr>\n",
              "      <th>4</th>\n",
              "      <td>FB</td>\n",
              "      <td>Maya</td>\n",
              "      <td>90</td>\n",
              "    </tr>\n",
              "    <tr>\n",
              "      <th>1</th>\n",
              "      <td>MSFT</td>\n",
              "      <td>Mike</td>\n",
              "      <td>90</td>\n",
              "    </tr>\n",
              "    <tr>\n",
              "      <th>3</th>\n",
              "      <td>GOOG</td>\n",
              "      <td>Mila</td>\n",
              "      <td>102</td>\n",
              "    </tr>\n",
              "  </tbody>\n",
              "</table>\n",
              "</div>"
            ],
            "text/plain": [
              "  Company Employees  Salary\n",
              "2    GOOG      Alex     110\n",
              "0    MSFT      Jack      80\n",
              "5      FB      Lexi      98\n",
              "4      FB      Maya      90\n",
              "1    MSFT      Mike      90\n",
              "3    GOOG      Mila     102"
            ]
          },
          "metadata": {
            "tags": []
          },
          "execution_count": 60
        }
      ]
    },
    {
      "cell_type": "markdown",
      "metadata": {
        "id": "j3UDL-s8X6Uy",
        "colab_type": "text"
      },
      "source": [
        "Done"
      ]
    },
    {
      "cell_type": "code",
      "metadata": {
        "id": "6QBdvuQdYKdB",
        "colab_type": "code",
        "colab": {}
      },
      "source": [
        ""
      ],
      "execution_count": 0,
      "outputs": []
    }
  ]
}