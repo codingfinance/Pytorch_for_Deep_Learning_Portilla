{
  "nbformat": 4,
  "nbformat_minor": 0,
  "metadata": {
    "colab": {
      "name": "00-NumPy-Arrays.ipynb",
      "provenance": [],
      "collapsed_sections": []
    },
    "kernelspec": {
      "name": "python3",
      "display_name": "Python 3"
    }
  },
  "cells": [
    {
      "cell_type": "markdown",
      "metadata": {
        "id": "UKi8YWg_dm5Z",
        "colab_type": "text"
      },
      "source": [
        "## Numpy Practice\n",
        "\n",
        "This lecture is a practice for Numpy."
      ]
    },
    {
      "cell_type": "code",
      "metadata": {
        "id": "8POLxIeLduVE",
        "colab_type": "code",
        "colab": {}
      },
      "source": [
        "import numpy as np\n",
        "import matplotlib.pyplot as plt\n",
        "import seaborn as sns\n",
        "sns.set_style('whitegrid')"
      ],
      "execution_count": 0,
      "outputs": []
    },
    {
      "cell_type": "markdown",
      "metadata": {
        "id": "SkUeLPY_eMFX",
        "colab_type": "text"
      },
      "source": [
        "Creating a numpy array."
      ]
    },
    {
      "cell_type": "code",
      "metadata": {
        "id": "s1h7cRZidvee",
        "colab_type": "code",
        "colab": {}
      },
      "source": [
        "mylist = [1,2,3]"
      ],
      "execution_count": 0,
      "outputs": []
    },
    {
      "cell_type": "code",
      "metadata": {
        "id": "sxd_rzuCd1ZB",
        "colab_type": "code",
        "colab": {
          "base_uri": "https://localhost:8080/",
          "height": 35
        },
        "outputId": "d690c1bc-a8fd-4552-c7e2-3c2509c92122"
      },
      "source": [
        "type(mylist)"
      ],
      "execution_count": 3,
      "outputs": [
        {
          "output_type": "execute_result",
          "data": {
            "text/plain": [
              "list"
            ]
          },
          "metadata": {
            "tags": []
          },
          "execution_count": 3
        }
      ]
    },
    {
      "cell_type": "code",
      "metadata": {
        "id": "fEM4upiad3NI",
        "colab_type": "code",
        "colab": {}
      },
      "source": [
        "arr = np.array(mylist)"
      ],
      "execution_count": 0,
      "outputs": []
    },
    {
      "cell_type": "code",
      "metadata": {
        "id": "1W2HTWCBd7eg",
        "colab_type": "code",
        "colab": {
          "base_uri": "https://localhost:8080/",
          "height": 35
        },
        "outputId": "d32ce4e8-bf29-4141-c424-32912c12b4d9"
      },
      "source": [
        "type(arr)"
      ],
      "execution_count": 5,
      "outputs": [
        {
          "output_type": "execute_result",
          "data": {
            "text/plain": [
              "numpy.ndarray"
            ]
          },
          "metadata": {
            "tags": []
          },
          "execution_count": 5
        }
      ]
    },
    {
      "cell_type": "markdown",
      "metadata": {
        "id": "Dqh8OgdUmNoK",
        "colab_type": "text"
      },
      "source": [
        "Nested arrays."
      ]
    },
    {
      "cell_type": "code",
      "metadata": {
        "id": "xy6GYpGZm0p-",
        "colab_type": "code",
        "colab": {}
      },
      "source": [
        "mylist = [[1,2,3], [4,5,6], [7,8,9]]"
      ],
      "execution_count": 0,
      "outputs": []
    },
    {
      "cell_type": "code",
      "metadata": {
        "id": "ZWBpu9-Rm4Z_",
        "colab_type": "code",
        "colab": {
          "base_uri": "https://localhost:8080/",
          "height": 72
        },
        "outputId": "f338dec6-1c48-4004-98a3-6fc644d4f89b"
      },
      "source": [
        "np.array(mylist)"
      ],
      "execution_count": 7,
      "outputs": [
        {
          "output_type": "execute_result",
          "data": {
            "text/plain": [
              "array([[1, 2, 3],\n",
              "       [4, 5, 6],\n",
              "       [7, 8, 9]])"
            ]
          },
          "metadata": {
            "tags": []
          },
          "execution_count": 7
        }
      ]
    },
    {
      "cell_type": "markdown",
      "metadata": {
        "id": "9H3t9279ngwT",
        "colab_type": "text"
      },
      "source": [
        "We can check the shape of the matrix."
      ]
    },
    {
      "cell_type": "code",
      "metadata": {
        "id": "OpCUVdkWm6x8",
        "colab_type": "code",
        "colab": {}
      },
      "source": [
        "mymatrix = np.array(mylist)"
      ],
      "execution_count": 0,
      "outputs": []
    },
    {
      "cell_type": "code",
      "metadata": {
        "id": "yESD4MXuncGC",
        "colab_type": "code",
        "colab": {
          "base_uri": "https://localhost:8080/",
          "height": 35
        },
        "outputId": "26a66e4c-c220-4f85-e6f2-c677db4ad1e0"
      },
      "source": [
        "mymatrix.shape"
      ],
      "execution_count": 9,
      "outputs": [
        {
          "output_type": "execute_result",
          "data": {
            "text/plain": [
              "(3, 3)"
            ]
          },
          "metadata": {
            "tags": []
          },
          "execution_count": 9
        }
      ]
    },
    {
      "cell_type": "markdown",
      "metadata": {
        "id": "U2-Oa-NNndEI",
        "colab_type": "text"
      },
      "source": [
        "Next we will look at the following\n",
        "- `np.arange()`\n",
        "- `np.zeros()`\n",
        "- `np.linspace()`\n",
        "- `np.random.`"
      ]
    },
    {
      "cell_type": "code",
      "metadata": {
        "id": "ZQLzvAkEno_d",
        "colab_type": "code",
        "colab": {
          "base_uri": "https://localhost:8080/",
          "height": 35
        },
        "outputId": "f1c89a23-536f-41d7-f534-8d771e8e035d"
      },
      "source": [
        "# start at 0\n",
        "# go upto 10 (no including 10)\n",
        "np.arange(0,10)"
      ],
      "execution_count": 10,
      "outputs": [
        {
          "output_type": "execute_result",
          "data": {
            "text/plain": [
              "array([0, 1, 2, 3, 4, 5, 6, 7, 8, 9])"
            ]
          },
          "metadata": {
            "tags": []
          },
          "execution_count": 10
        }
      ]
    },
    {
      "cell_type": "code",
      "metadata": {
        "id": "7lIxM8fDn_uS",
        "colab_type": "code",
        "colab": {
          "base_uri": "https://localhost:8080/",
          "height": 35
        },
        "outputId": "31d45744-f006-4e5f-c851-0a8cc3f14326"
      },
      "source": [
        "# This will create an array of 5 zeros\n",
        "np.zeros(5)"
      ],
      "execution_count": 11,
      "outputs": [
        {
          "output_type": "execute_result",
          "data": {
            "text/plain": [
              "array([0., 0., 0., 0., 0.])"
            ]
          },
          "metadata": {
            "tags": []
          },
          "execution_count": 11
        }
      ]
    },
    {
      "cell_type": "code",
      "metadata": {
        "id": "HVzIGJCDoG6h",
        "colab_type": "code",
        "colab": {
          "base_uri": "https://localhost:8080/",
          "height": 90
        },
        "outputId": "172419c1-1787-4bc6-c92d-6ebb4bcec1bf"
      },
      "source": [
        "# 4x10 zeros (4 rows and 10 columns)\n",
        "np.zeros((4,10))"
      ],
      "execution_count": 12,
      "outputs": [
        {
          "output_type": "execute_result",
          "data": {
            "text/plain": [
              "array([[0., 0., 0., 0., 0., 0., 0., 0., 0., 0.],\n",
              "       [0., 0., 0., 0., 0., 0., 0., 0., 0., 0.],\n",
              "       [0., 0., 0., 0., 0., 0., 0., 0., 0., 0.],\n",
              "       [0., 0., 0., 0., 0., 0., 0., 0., 0., 0.]])"
            ]
          },
          "metadata": {
            "tags": []
          },
          "execution_count": 12
        }
      ]
    },
    {
      "cell_type": "code",
      "metadata": {
        "id": "42CxeIQCoSbs",
        "colab_type": "code",
        "colab": {
          "base_uri": "https://localhost:8080/",
          "height": 109
        },
        "outputId": "e8eecc70-54e8-4d64-d46c-53d3fcd097ef"
      },
      "source": [
        "# 5x5 ones (5 rows and 5 columns)\n",
        "np.ones((5,5))"
      ],
      "execution_count": 13,
      "outputs": [
        {
          "output_type": "execute_result",
          "data": {
            "text/plain": [
              "array([[1., 1., 1., 1., 1.],\n",
              "       [1., 1., 1., 1., 1.],\n",
              "       [1., 1., 1., 1., 1.],\n",
              "       [1., 1., 1., 1., 1.],\n",
              "       [1., 1., 1., 1., 1.]])"
            ]
          },
          "metadata": {
            "tags": []
          },
          "execution_count": 13
        }
      ]
    },
    {
      "cell_type": "code",
      "metadata": {
        "id": "HX9UiQsqoewG",
        "colab_type": "code",
        "colab": {
          "base_uri": "https://localhost:8080/",
          "height": 54
        },
        "outputId": "5642a1d7-5312-4c28-d88f-f8d884147ab6"
      },
      "source": [
        "# empty 2x2 array\n",
        "np.empty((2,2))"
      ],
      "execution_count": 14,
      "outputs": [
        {
          "output_type": "execute_result",
          "data": {
            "text/plain": [
              "array([[1., 1.],\n",
              "       [1., 0.]])"
            ]
          },
          "metadata": {
            "tags": []
          },
          "execution_count": 14
        }
      ]
    },
    {
      "cell_type": "markdown",
      "metadata": {
        "id": "05DjOvw7ohDU",
        "colab_type": "text"
      },
      "source": [
        "Broadcasting operation"
      ]
    },
    {
      "cell_type": "code",
      "metadata": {
        "id": "3XZbOBefovQv",
        "colab_type": "code",
        "colab": {
          "base_uri": "https://localhost:8080/",
          "height": 35
        },
        "outputId": "d2598497-ac36-4127-8cd0-540fa9d5211d"
      },
      "source": [
        "#Python list will behave as expected\n",
        "\n",
        "[1,2,3] * 2"
      ],
      "execution_count": 15,
      "outputs": [
        {
          "output_type": "execute_result",
          "data": {
            "text/plain": [
              "[1, 2, 3, 1, 2, 3]"
            ]
          },
          "metadata": {
            "tags": []
          },
          "execution_count": 15
        }
      ]
    },
    {
      "cell_type": "markdown",
      "metadata": {
        "id": "rQ80cCB7o34P",
        "colab_type": "text"
      },
      "source": [
        "The above code just created 2 lists and concatenated them with the same elements."
      ]
    },
    {
      "cell_type": "code",
      "metadata": {
        "id": "EpDJQuB6pNuT",
        "colab_type": "code",
        "colab": {
          "base_uri": "https://localhost:8080/",
          "height": 35
        },
        "outputId": "5ef34e77-f307-48a7-e919-3c083c92c061"
      },
      "source": [
        "np.array([1,2,3]) * 2"
      ],
      "execution_count": 16,
      "outputs": [
        {
          "output_type": "execute_result",
          "data": {
            "text/plain": [
              "array([2, 4, 6])"
            ]
          },
          "metadata": {
            "tags": []
          },
          "execution_count": 16
        }
      ]
    },
    {
      "cell_type": "markdown",
      "metadata": {
        "id": "uEZv9uwfpQi7",
        "colab_type": "text"
      },
      "source": [
        "The above numpy array on the other hand as correctly multiplied 2 with each element in the array."
      ]
    },
    {
      "cell_type": "code",
      "metadata": {
        "id": "8LlxbP-WpY9x",
        "colab_type": "code",
        "colab": {
          "base_uri": "https://localhost:8080/",
          "height": 72
        },
        "outputId": "035543bc-b7a7-4548-edbf-df4be771e64d"
      },
      "source": [
        "# Multiplying 100 with each element of 3x3 array of all ones.\n",
        "\n",
        "np.ones((3,3)) * 100"
      ],
      "execution_count": 17,
      "outputs": [
        {
          "output_type": "execute_result",
          "data": {
            "text/plain": [
              "array([[100., 100., 100.],\n",
              "       [100., 100., 100.],\n",
              "       [100., 100., 100.]])"
            ]
          },
          "metadata": {
            "tags": []
          },
          "execution_count": 17
        }
      ]
    },
    {
      "cell_type": "markdown",
      "metadata": {
        "id": "GBFIxdGBpc8Q",
        "colab_type": "text"
      },
      "source": [
        "Create an evenly spaced array. The arguments are start, stop and number of elements."
      ]
    },
    {
      "cell_type": "code",
      "metadata": {
        "id": "dOUY2upbpnCA",
        "colab_type": "code",
        "colab": {
          "base_uri": "https://localhost:8080/",
          "height": 90
        },
        "outputId": "112ccf1d-880d-4701-b795-00677ae84d4a"
      },
      "source": [
        "np.linspace(0,10, num=20)"
      ],
      "execution_count": 18,
      "outputs": [
        {
          "output_type": "execute_result",
          "data": {
            "text/plain": [
              "array([ 0.        ,  0.52631579,  1.05263158,  1.57894737,  2.10526316,\n",
              "        2.63157895,  3.15789474,  3.68421053,  4.21052632,  4.73684211,\n",
              "        5.26315789,  5.78947368,  6.31578947,  6.84210526,  7.36842105,\n",
              "        7.89473684,  8.42105263,  8.94736842,  9.47368421, 10.        ])"
            ]
          },
          "metadata": {
            "tags": []
          },
          "execution_count": 18
        }
      ]
    },
    {
      "cell_type": "markdown",
      "metadata": {
        "id": "S4VisflxqQ0H",
        "colab_type": "text"
      },
      "source": [
        "Identity array."
      ]
    },
    {
      "cell_type": "code",
      "metadata": {
        "id": "V94cEdXspqU1",
        "colab_type": "code",
        "colab": {
          "base_uri": "https://localhost:8080/",
          "height": 109
        },
        "outputId": "f82187e1-f953-4e33-90fd-66d77d8964f4"
      },
      "source": [
        "np.eye(5)"
      ],
      "execution_count": 19,
      "outputs": [
        {
          "output_type": "execute_result",
          "data": {
            "text/plain": [
              "array([[1., 0., 0., 0., 0.],\n",
              "       [0., 1., 0., 0., 0.],\n",
              "       [0., 0., 1., 0., 0.],\n",
              "       [0., 0., 0., 1., 0.],\n",
              "       [0., 0., 0., 0., 1.]])"
            ]
          },
          "metadata": {
            "tags": []
          },
          "execution_count": 19
        }
      ]
    },
    {
      "cell_type": "markdown",
      "metadata": {
        "id": "qsKeyi4WqPWB",
        "colab_type": "text"
      },
      "source": [
        "Numpy random"
      ]
    },
    {
      "cell_type": "markdown",
      "metadata": {
        "id": "K8Jrj_BPqqO2",
        "colab_type": "text"
      },
      "source": [
        "Creating a uniform distribution. The below plot displays a uniform distribution of 300 random numbers between 0 and 1."
      ]
    },
    {
      "cell_type": "code",
      "metadata": {
        "id": "9ade3vOxqjBL",
        "colab_type": "code",
        "colab": {
          "base_uri": "https://localhost:8080/",
          "height": 265
        },
        "outputId": "82432e83-6b7c-4e0c-d7f9-0043a7c8804a"
      },
      "source": [
        "x = np.random.rand(300)\n",
        "plt.hist(x);"
      ],
      "execution_count": 20,
      "outputs": [
        {
          "output_type": "display_data",
          "data": {
            "image/png": "[encoded data removed]",
            "text/plain": [
              "<Figure size 432x288 with 1 Axes>"
            ]
          },
          "metadata": {
            "tags": []
          }
        }
      ]
    },
    {
      "cell_type": "markdown",
      "metadata": {
        "id": "MArABkYIqlwj",
        "colab_type": "text"
      },
      "source": [
        "Standard Normal Distribution. With mean 0 and standard deviation of 1."
      ]
    },
    {
      "cell_type": "code",
      "metadata": {
        "id": "Sbt1mXCtr7hS",
        "colab_type": "code",
        "colab": {
          "base_uri": "https://localhost:8080/",
          "height": 265
        },
        "outputId": "d75082fd-1f68-4d44-b82e-2677dfb306e8"
      },
      "source": [
        "x = np.random.randn(300)\n",
        "plt.hist(x);"
      ],
      "execution_count": 21,
      "outputs": [
        {
          "output_type": "display_data",
          "data": {
            "image/png": "[encoded data removed]",
            "text/plain": [
              "<Figure size 432x288 with 1 Axes>"
            ]
          },
          "metadata": {
            "tags": []
          }
        }
      ]
    },
    {
      "cell_type": "markdown",
      "metadata": {
        "id": "4kMnouOcsVil",
        "colab_type": "text"
      },
      "source": [
        "Normal Deviation with different mean and standard deviation."
      ]
    },
    {
      "cell_type": "code",
      "metadata": {
        "id": "fliOd-tpsFwx",
        "colab_type": "code",
        "colab": {
          "base_uri": "https://localhost:8080/",
          "height": 265
        },
        "outputId": "056d080d-d650-40eb-f25e-32ea3f18d835"
      },
      "source": [
        "x = np.random.normal(loc=30,scale=50,size = 1000)\n",
        "plt.hist(x);"
      ],
      "execution_count": 22,
      "outputs": [
        {
          "output_type": "display_data",
          "data": {
            "image/png": "[encoded data removed]",
            "text/plain": [
              "<Figure size 432x288 with 1 Axes>"
            ]
          },
          "metadata": {
            "tags": []
          }
        }
      ]
    },
    {
      "cell_type": "markdown",
      "metadata": {
        "id": "m93M4DO0twvW",
        "colab_type": "text"
      },
      "source": [
        "Uniform distribution between numbers provided by us."
      ]
    },
    {
      "cell_type": "code",
      "metadata": {
        "id": "pUuZCNRNsf3A",
        "colab_type": "code",
        "colab": {
          "base_uri": "https://localhost:8080/",
          "height": 265
        },
        "outputId": "b642f9dc-2104-4824-bbdd-c5a5754ca31a"
      },
      "source": [
        "x = np.random.randint(-30,50,size = 1000)\n",
        "plt.hist(x);"
      ],
      "execution_count": 23,
      "outputs": [
        {
          "output_type": "display_data",
          "data": {
            "image/png": "[encoded data removed]",
            "text/plain": [
              "<Figure size 432x288 with 1 Axes>"
            ]
          },
          "metadata": {
            "tags": []
          }
        }
      ]
    },
    {
      "cell_type": "markdown",
      "metadata": {
        "id": "VrH_ksc-tklw",
        "colab_type": "text"
      },
      "source": [
        "`np.random.seed(42)` will produce the same random numbers regardless which machine this code is ran on."
      ]
    },
    {
      "cell_type": "markdown",
      "metadata": {
        "id": "uGicYziAuTfI",
        "colab_type": "text"
      },
      "source": [
        "Shaping the numpy arrays."
      ]
    },
    {
      "cell_type": "code",
      "metadata": {
        "id": "ARnczi9TuFCR",
        "colab_type": "code",
        "colab": {}
      },
      "source": [
        "arr = np.arange(25)\n",
        "random_arr = np.random.randint(0,50,10)"
      ],
      "execution_count": 0,
      "outputs": []
    },
    {
      "cell_type": "code",
      "metadata": {
        "id": "E9Bu7vebudTV",
        "colab_type": "code",
        "colab": {
          "base_uri": "https://localhost:8080/",
          "height": 54
        },
        "outputId": "95799e56-c7d8-41f4-ec95-5bbf06725abd"
      },
      "source": [
        "arr"
      ],
      "execution_count": 25,
      "outputs": [
        {
          "output_type": "execute_result",
          "data": {
            "text/plain": [
              "array([ 0,  1,  2,  3,  4,  5,  6,  7,  8,  9, 10, 11, 12, 13, 14, 15, 16,\n",
              "       17, 18, 19, 20, 21, 22, 23, 24])"
            ]
          },
          "metadata": {
            "tags": []
          },
          "execution_count": 25
        }
      ]
    },
    {
      "cell_type": "code",
      "metadata": {
        "id": "By_UZ83Aud0o",
        "colab_type": "code",
        "colab": {
          "base_uri": "https://localhost:8080/",
          "height": 35
        },
        "outputId": "7c445707-e53a-4fe9-fd4b-e49097a234ac"
      },
      "source": [
        "random_arr"
      ],
      "execution_count": 26,
      "outputs": [
        {
          "output_type": "execute_result",
          "data": {
            "text/plain": [
              "array([ 1, 47,  5, 42, 27, 29, 22,  8, 12, 40])"
            ]
          },
          "metadata": {
            "tags": []
          },
          "execution_count": 26
        }
      ]
    },
    {
      "cell_type": "code",
      "metadata": {
        "id": "W7yGckcjuf8P",
        "colab_type": "code",
        "colab": {
          "base_uri": "https://localhost:8080/",
          "height": 109
        },
        "outputId": "a56485c9-c1a3-4e6b-978a-00cea4a084d8"
      },
      "source": [
        "arr.reshape(5,5)"
      ],
      "execution_count": 27,
      "outputs": [
        {
          "output_type": "execute_result",
          "data": {
            "text/plain": [
              "array([[ 0,  1,  2,  3,  4],\n",
              "       [ 5,  6,  7,  8,  9],\n",
              "       [10, 11, 12, 13, 14],\n",
              "       [15, 16, 17, 18, 19],\n",
              "       [20, 21, 22, 23, 24]])"
            ]
          },
          "metadata": {
            "tags": []
          },
          "execution_count": 27
        }
      ]
    },
    {
      "cell_type": "markdown",
      "metadata": {
        "id": "tlm5eKW8ulHv",
        "colab_type": "text"
      },
      "source": [
        "Finding the Minimum and Maximum from an array of data."
      ]
    },
    {
      "cell_type": "code",
      "metadata": {
        "id": "fzu2pydOuyYi",
        "colab_type": "code",
        "colab": {
          "base_uri": "https://localhost:8080/",
          "height": 35
        },
        "outputId": "c0c18e32-7961-491d-dbdf-9d27906ab15e"
      },
      "source": [
        "random_arr.max()"
      ],
      "execution_count": 28,
      "outputs": [
        {
          "output_type": "execute_result",
          "data": {
            "text/plain": [
              "47"
            ]
          },
          "metadata": {
            "tags": []
          },
          "execution_count": 28
        }
      ]
    },
    {
      "cell_type": "code",
      "metadata": {
        "id": "qWhtmiQmu0YZ",
        "colab_type": "code",
        "colab": {
          "base_uri": "https://localhost:8080/",
          "height": 35
        },
        "outputId": "5de86b12-7369-4d52-8458-a610079fad8e"
      },
      "source": [
        "random_arr.min()"
      ],
      "execution_count": 29,
      "outputs": [
        {
          "output_type": "execute_result",
          "data": {
            "text/plain": [
              "1"
            ]
          },
          "metadata": {
            "tags": []
          },
          "execution_count": 29
        }
      ]
    },
    {
      "cell_type": "markdown",
      "metadata": {
        "id": "dPrmfPr4u2Yh",
        "colab_type": "text"
      },
      "source": [
        "Finding the location where the min/max values are located."
      ]
    },
    {
      "cell_type": "code",
      "metadata": {
        "id": "DMmjPgttu7sW",
        "colab_type": "code",
        "colab": {
          "base_uri": "https://localhost:8080/",
          "height": 35
        },
        "outputId": "2dbd8c1e-0799-4bec-ae4e-0842cef74585"
      },
      "source": [
        "random_arr.argmax()"
      ],
      "execution_count": 30,
      "outputs": [
        {
          "output_type": "execute_result",
          "data": {
            "text/plain": [
              "1"
            ]
          },
          "metadata": {
            "tags": []
          },
          "execution_count": 30
        }
      ]
    },
    {
      "cell_type": "code",
      "metadata": {
        "id": "KqN-xDeDu9mF",
        "colab_type": "code",
        "colab": {
          "base_uri": "https://localhost:8080/",
          "height": 35
        },
        "outputId": "61996c68-d4b6-470b-ccf8-ea515de97656"
      },
      "source": [
        "random_arr.argmin()"
      ],
      "execution_count": 31,
      "outputs": [
        {
          "output_type": "execute_result",
          "data": {
            "text/plain": [
              "0"
            ]
          },
          "metadata": {
            "tags": []
          },
          "execution_count": 31
        }
      ]
    },
    {
      "cell_type": "code",
      "metadata": {
        "id": "lJbFEQmKvAWg",
        "colab_type": "code",
        "colab": {
          "base_uri": "https://localhost:8080/",
          "height": 35
        },
        "outputId": "e25f0656-f098-44a6-9a11-4ee7f07329b4"
      },
      "source": [
        "random_arr"
      ],
      "execution_count": 32,
      "outputs": [
        {
          "output_type": "execute_result",
          "data": {
            "text/plain": [
              "array([ 1, 47,  5, 42, 27, 29, 22,  8, 12, 40])"
            ]
          },
          "metadata": {
            "tags": []
          },
          "execution_count": 32
        }
      ]
    },
    {
      "cell_type": "markdown",
      "metadata": {
        "id": "s258-y3xvB1H",
        "colab_type": "text"
      },
      "source": [
        "We can see that the maximum value is located at index location 6 and the minimum value is located at the index location 5."
      ]
    },
    {
      "cell_type": "code",
      "metadata": {
        "id": "mN4pYMtXvMKE",
        "colab_type": "code",
        "colab": {}
      },
      "source": [
        ""
      ],
      "execution_count": 0,
      "outputs": []
    }
  ]
}