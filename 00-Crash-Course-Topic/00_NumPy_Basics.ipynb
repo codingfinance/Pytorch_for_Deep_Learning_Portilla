{
  "nbformat": 4,
  "nbformat_minor": 0,
  "metadata": {
    "colab": {
      "name": "00-NumPy-Arrays.ipynb",
      "provenance": [],
      "collapsed_sections": []
    },
    "kernelspec": {
      "name": "python3",
      "display_name": "Python 3"
    }
  },
  "cells": [
    {
      "cell_type": "markdown",
      "metadata": {
        "id": "UKi8YWg_dm5Z",
        "colab_type": "text"
      },
      "source": [
        "## Numpy Practice\n",
        "\n",
        "This lecture is a practice for Numpy."
      ]
    },
    {
      "cell_type": "code",
      "metadata": {
        "id": "8POLxIeLduVE",
        "colab_type": "code",
        "colab": {}
      },
      "source": [
        "import numpy as np\n",
        "import matplotlib.pyplot as plt\n",
        "import seaborn as sns\n",
        "sns.set_style('whitegrid')"
      ],
      "execution_count": 0,
      "outputs": []
    },
    {
      "cell_type": "markdown",
      "metadata": {
        "id": "SkUeLPY_eMFX",
        "colab_type": "text"
      },
      "source": [
        "Creating a numpy array."
      ]
    },
    {
      "cell_type": "code",
      "metadata": {
        "id": "s1h7cRZidvee",
        "colab_type": "code",
        "colab": {}
      },
      "source": [
        "mylist = [1,2,3]"
      ],
      "execution_count": 0,
      "outputs": []
    },
    {
      "cell_type": "code",
      "metadata": {
        "id": "sxd_rzuCd1ZB",
        "colab_type": "code",
        "colab": {
          "base_uri": "https://localhost:8080/",
          "height": 35
        },
        "outputId": "34fd4c3b-8017-4830-94b5-30046e7faa7c"
      },
      "source": [
        "type(mylist)"
      ],
      "execution_count": 3,
      "outputs": [
        {
          "output_type": "execute_result",
          "data": {
            "text/plain": [
              "list"
            ]
          },
          "metadata": {
            "tags": []
          },
          "execution_count": 3
        }
      ]
    },
    {
      "cell_type": "code",
      "metadata": {
        "id": "fEM4upiad3NI",
        "colab_type": "code",
        "colab": {}
      },
      "source": [
        "arr = np.array(mylist)"
      ],
      "execution_count": 0,
      "outputs": []
    },
    {
      "cell_type": "code",
      "metadata": {
        "id": "1W2HTWCBd7eg",
        "colab_type": "code",
        "colab": {
          "base_uri": "https://localhost:8080/",
          "height": 35
        },
        "outputId": "361af789-5b53-4c85-ba50-61c8ff875804"
      },
      "source": [
        "type(arr)"
      ],
      "execution_count": 5,
      "outputs": [
        {
          "output_type": "execute_result",
          "data": {
            "text/plain": [
              "numpy.ndarray"
            ]
          },
          "metadata": {
            "tags": []
          },
          "execution_count": 5
        }
      ]
    },
    {
      "cell_type": "markdown",
      "metadata": {
        "id": "Dqh8OgdUmNoK",
        "colab_type": "text"
      },
      "source": [
        "Nested arrays."
      ]
    },
    {
      "cell_type": "code",
      "metadata": {
        "id": "xy6GYpGZm0p-",
        "colab_type": "code",
        "colab": {}
      },
      "source": [
        "mylist = [[1,2,3], [4,5,6], [7,8,9]]"
      ],
      "execution_count": 0,
      "outputs": []
    },
    {
      "cell_type": "code",
      "metadata": {
        "id": "ZWBpu9-Rm4Z_",
        "colab_type": "code",
        "colab": {
          "base_uri": "https://localhost:8080/",
          "height": 72
        },
        "outputId": "a65f0f2b-fd21-40e1-99e7-8384ae9093cd"
      },
      "source": [
        "np.array(mylist)"
      ],
      "execution_count": 7,
      "outputs": [
        {
          "output_type": "execute_result",
          "data": {
            "text/plain": [
              "array([[1, 2, 3],\n",
              "       [4, 5, 6],\n",
              "       [7, 8, 9]])"
            ]
          },
          "metadata": {
            "tags": []
          },
          "execution_count": 7
        }
      ]
    },
    {
      "cell_type": "markdown",
      "metadata": {
        "id": "9H3t9279ngwT",
        "colab_type": "text"
      },
      "source": [
        "We can check the shape of the matrix."
      ]
    },
    {
      "cell_type": "code",
      "metadata": {
        "id": "OpCUVdkWm6x8",
        "colab_type": "code",
        "colab": {}
      },
      "source": [
        "mymatrix = np.array(mylist)"
      ],
      "execution_count": 0,
      "outputs": []
    },
    {
      "cell_type": "code",
      "metadata": {
        "id": "yESD4MXuncGC",
        "colab_type": "code",
        "colab": {
          "base_uri": "https://localhost:8080/",
          "height": 35
        },
        "outputId": "37b45c67-f37f-467e-a133-4eb83fad50c7"
      },
      "source": [
        "mymatrix.shape"
      ],
      "execution_count": 9,
      "outputs": [
        {
          "output_type": "execute_result",
          "data": {
            "text/plain": [
              "(3, 3)"
            ]
          },
          "metadata": {
            "tags": []
          },
          "execution_count": 9
        }
      ]
    },
    {
      "cell_type": "markdown",
      "metadata": {
        "id": "U2-Oa-NNndEI",
        "colab_type": "text"
      },
      "source": [
        "Next we will look at the following\n",
        "- `np.arange()`\n",
        "- `np.zeros()`\n",
        "- `np.linspace()`\n",
        "- `np.random.`"
      ]
    },
    {
      "cell_type": "code",
      "metadata": {
        "id": "ZQLzvAkEno_d",
        "colab_type": "code",
        "colab": {
          "base_uri": "https://localhost:8080/",
          "height": 35
        },
        "outputId": "52315ca2-fb60-4d5e-8278-5a72110250fa"
      },
      "source": [
        "# start at 0\n",
        "# go upto 10 (no including 10)\n",
        "np.arange(0,10)"
      ],
      "execution_count": 10,
      "outputs": [
        {
          "output_type": "execute_result",
          "data": {
            "text/plain": [
              "array([0, 1, 2, 3, 4, 5, 6, 7, 8, 9])"
            ]
          },
          "metadata": {
            "tags": []
          },
          "execution_count": 10
        }
      ]
    },
    {
      "cell_type": "code",
      "metadata": {
        "id": "7lIxM8fDn_uS",
        "colab_type": "code",
        "colab": {
          "base_uri": "https://localhost:8080/",
          "height": 35
        },
        "outputId": "b7f74359-6761-4dbc-e496-1ee64f20cea4"
      },
      "source": [
        "# This will create an array of 5 zeros\n",
        "np.zeros(5)"
      ],
      "execution_count": 11,
      "outputs": [
        {
          "output_type": "execute_result",
          "data": {
            "text/plain": [
              "array([0., 0., 0., 0., 0.])"
            ]
          },
          "metadata": {
            "tags": []
          },
          "execution_count": 11
        }
      ]
    },
    {
      "cell_type": "code",
      "metadata": {
        "id": "HVzIGJCDoG6h",
        "colab_type": "code",
        "colab": {
          "base_uri": "https://localhost:8080/",
          "height": 90
        },
        "outputId": "b52c8a3f-8200-4813-a019-5856a1058548"
      },
      "source": [
        "# 4x10 zeros (4 rows and 10 columns)\n",
        "np.zeros((4,10))"
      ],
      "execution_count": 12,
      "outputs": [
        {
          "output_type": "execute_result",
          "data": {
            "text/plain": [
              "array([[0., 0., 0., 0., 0., 0., 0., 0., 0., 0.],\n",
              "       [0., 0., 0., 0., 0., 0., 0., 0., 0., 0.],\n",
              "       [0., 0., 0., 0., 0., 0., 0., 0., 0., 0.],\n",
              "       [0., 0., 0., 0., 0., 0., 0., 0., 0., 0.]])"
            ]
          },
          "metadata": {
            "tags": []
          },
          "execution_count": 12
        }
      ]
    },
    {
      "cell_type": "code",
      "metadata": {
        "id": "42CxeIQCoSbs",
        "colab_type": "code",
        "colab": {
          "base_uri": "https://localhost:8080/",
          "height": 109
        },
        "outputId": "f129b596-068d-43e4-9652-f10f6e6aef38"
      },
      "source": [
        "# 5x5 ones (5 rows and 5 columns)\n",
        "np.ones((5,5))"
      ],
      "execution_count": 13,
      "outputs": [
        {
          "output_type": "execute_result",
          "data": {
            "text/plain": [
              "array([[1., 1., 1., 1., 1.],\n",
              "       [1., 1., 1., 1., 1.],\n",
              "       [1., 1., 1., 1., 1.],\n",
              "       [1., 1., 1., 1., 1.],\n",
              "       [1., 1., 1., 1., 1.]])"
            ]
          },
          "metadata": {
            "tags": []
          },
          "execution_count": 13
        }
      ]
    },
    {
      "cell_type": "code",
      "metadata": {
        "id": "HX9UiQsqoewG",
        "colab_type": "code",
        "colab": {
          "base_uri": "https://localhost:8080/",
          "height": 54
        },
        "outputId": "1702f5ea-c495-43f1-8cf5-937dca0d7c8a"
      },
      "source": [
        "# empty 2x2 array\n",
        "np.empty((2,2))"
      ],
      "execution_count": 14,
      "outputs": [
        {
          "output_type": "execute_result",
          "data": {
            "text/plain": [
              "array([[1., 1.],\n",
              "       [1., 0.]])"
            ]
          },
          "metadata": {
            "tags": []
          },
          "execution_count": 14
        }
      ]
    },
    {
      "cell_type": "markdown",
      "metadata": {
        "id": "05DjOvw7ohDU",
        "colab_type": "text"
      },
      "source": [
        "Broadcasting operation"
      ]
    },
    {
      "cell_type": "code",
      "metadata": {
        "id": "3XZbOBefovQv",
        "colab_type": "code",
        "colab": {
          "base_uri": "https://localhost:8080/",
          "height": 35
        },
        "outputId": "eb965efc-00d7-4eec-bfb8-815ab98b8fe2"
      },
      "source": [
        "#Python list will behave as expected\n",
        "\n",
        "[1,2,3] * 2"
      ],
      "execution_count": 15,
      "outputs": [
        {
          "output_type": "execute_result",
          "data": {
            "text/plain": [
              "[1, 2, 3, 1, 2, 3]"
            ]
          },
          "metadata": {
            "tags": []
          },
          "execution_count": 15
        }
      ]
    },
    {
      "cell_type": "markdown",
      "metadata": {
        "id": "rQ80cCB7o34P",
        "colab_type": "text"
      },
      "source": [
        "The above code just created 2 lists and concatenated them with the same elements."
      ]
    },
    {
      "cell_type": "code",
      "metadata": {
        "id": "EpDJQuB6pNuT",
        "colab_type": "code",
        "colab": {
          "base_uri": "https://localhost:8080/",
          "height": 35
        },
        "outputId": "ba06774a-8b3a-4fa9-bf72-de560a996d03"
      },
      "source": [
        "np.array([1,2,3]) * 2"
      ],
      "execution_count": 16,
      "outputs": [
        {
          "output_type": "execute_result",
          "data": {
            "text/plain": [
              "array([2, 4, 6])"
            ]
          },
          "metadata": {
            "tags": []
          },
          "execution_count": 16
        }
      ]
    },
    {
      "cell_type": "markdown",
      "metadata": {
        "id": "uEZv9uwfpQi7",
        "colab_type": "text"
      },
      "source": [
        "The above numpy array on the other hand as correctly multiplied 2 with each element in the array."
      ]
    },
    {
      "cell_type": "code",
      "metadata": {
        "id": "8LlxbP-WpY9x",
        "colab_type": "code",
        "colab": {
          "base_uri": "https://localhost:8080/",
          "height": 72
        },
        "outputId": "3d78106b-718a-45c8-c106-12e5f6bc29d0"
      },
      "source": [
        "# Multiplying 100 with each element of 3x3 array of all ones.\n",
        "\n",
        "np.ones((3,3)) * 100"
      ],
      "execution_count": 17,
      "outputs": [
        {
          "output_type": "execute_result",
          "data": {
            "text/plain": [
              "array([[100., 100., 100.],\n",
              "       [100., 100., 100.],\n",
              "       [100., 100., 100.]])"
            ]
          },
          "metadata": {
            "tags": []
          },
          "execution_count": 17
        }
      ]
    },
    {
      "cell_type": "markdown",
      "metadata": {
        "id": "GBFIxdGBpc8Q",
        "colab_type": "text"
      },
      "source": [
        "Create an evenly spaced array. The arguments are start, stop and number of elements."
      ]
    },
    {
      "cell_type": "code",
      "metadata": {
        "id": "dOUY2upbpnCA",
        "colab_type": "code",
        "colab": {
          "base_uri": "https://localhost:8080/",
          "height": 90
        },
        "outputId": "900e86f2-d487-45dd-b6fd-490f0fcbb721"
      },
      "source": [
        "np.linspace(0,10, num=20)"
      ],
      "execution_count": 18,
      "outputs": [
        {
          "output_type": "execute_result",
          "data": {
            "text/plain": [
              "array([ 0.        ,  0.52631579,  1.05263158,  1.57894737,  2.10526316,\n",
              "        2.63157895,  3.15789474,  3.68421053,  4.21052632,  4.73684211,\n",
              "        5.26315789,  5.78947368,  6.31578947,  6.84210526,  7.36842105,\n",
              "        7.89473684,  8.42105263,  8.94736842,  9.47368421, 10.        ])"
            ]
          },
          "metadata": {
            "tags": []
          },
          "execution_count": 18
        }
      ]
    },
    {
      "cell_type": "markdown",
      "metadata": {
        "id": "S4VisflxqQ0H",
        "colab_type": "text"
      },
      "source": [
        "Identity array."
      ]
    },
    {
      "cell_type": "code",
      "metadata": {
        "id": "V94cEdXspqU1",
        "colab_type": "code",
        "colab": {
          "base_uri": "https://localhost:8080/",
          "height": 109
        },
        "outputId": "3d31a9cc-cc33-4fc2-fa59-cfb7b4bb1599"
      },
      "source": [
        "np.eye(5)"
      ],
      "execution_count": 19,
      "outputs": [
        {
          "output_type": "execute_result",
          "data": {
            "text/plain": [
              "array([[1., 0., 0., 0., 0.],\n",
              "       [0., 1., 0., 0., 0.],\n",
              "       [0., 0., 1., 0., 0.],\n",
              "       [0., 0., 0., 1., 0.],\n",
              "       [0., 0., 0., 0., 1.]])"
            ]
          },
          "metadata": {
            "tags": []
          },
          "execution_count": 19
        }
      ]
    },
    {
      "cell_type": "markdown",
      "metadata": {
        "id": "qsKeyi4WqPWB",
        "colab_type": "text"
      },
      "source": [
        "---\n",
        "Numpy random"
      ]
    },
    {
      "cell_type": "markdown",
      "metadata": {
        "id": "K8Jrj_BPqqO2",
        "colab_type": "text"
      },
      "source": [
        "Creating a uniform distribution. The below plot displays a uniform distribution of 300 random numbers between 0 and 1."
      ]
    },
    {
      "cell_type": "code",
      "metadata": {
        "id": "9ade3vOxqjBL",
        "colab_type": "code",
        "colab": {
          "base_uri": "https://localhost:8080/",
          "height": 265
        },
        "outputId": "14407266-7567-4ca1-e638-c8e09786644a"
      },
      "source": [
        "x = np.random.rand(300)\n",
        "plt.hist(x);"
      ],
      "execution_count": 20,
      "outputs": [
        {
          "output_type": "display_data",
          "data": {
            "image/png": "[encoded data removed]",
            "text/plain": [
              "<Figure size 432x288 with 1 Axes>"
            ]
          },
          "metadata": {
            "tags": []
          }
        }
      ]
    },
    {
      "cell_type": "markdown",
      "metadata": {
        "id": "MArABkYIqlwj",
        "colab_type": "text"
      },
      "source": [
        "Standard Normal Distribution. With mean 0 and standard deviation of 1."
      ]
    },
    {
      "cell_type": "code",
      "metadata": {
        "id": "Sbt1mXCtr7hS",
        "colab_type": "code",
        "colab": {
          "base_uri": "https://localhost:8080/",
          "height": 265
        },
        "outputId": "54c5f711-3f57-4822-fb3e-df0f33248b71"
      },
      "source": [
        "x = np.random.randn(300)\n",
        "plt.hist(x);"
      ],
      "execution_count": 21,
      "outputs": [
        {
          "output_type": "display_data",
          "data": {
            "image/png": "[encoded data removed]",
            "text/plain": [
              "<Figure size 432x288 with 1 Axes>"
            ]
          },
          "metadata": {
            "tags": []
          }
        }
      ]
    },
    {
      "cell_type": "markdown",
      "metadata": {
        "id": "4kMnouOcsVil",
        "colab_type": "text"
      },
      "source": [
        "Normal Deviation with different mean and standard deviation."
      ]
    },
    {
      "cell_type": "code",
      "metadata": {
        "id": "fliOd-tpsFwx",
        "colab_type": "code",
        "colab": {
          "base_uri": "https://localhost:8080/",
          "height": 265
        },
        "outputId": "6a875454-bbac-49c9-d3f8-880858ad0eaa"
      },
      "source": [
        "x = np.random.normal(loc=30,scale=50,size = 1000)\n",
        "plt.hist(x);"
      ],
      "execution_count": 22,
      "outputs": [
        {
          "output_type": "display_data",
          "data": {
            "image/png": "[encoded data removed]",
            "text/plain": [
              "<Figure size 432x288 with 1 Axes>"
            ]
          },
          "metadata": {
            "tags": []
          }
        }
      ]
    },
    {
      "cell_type": "markdown",
      "metadata": {
        "id": "m93M4DO0twvW",
        "colab_type": "text"
      },
      "source": [
        "Uniform distribution between numbers provided by us."
      ]
    },
    {
      "cell_type": "code",
      "metadata": {
        "id": "pUuZCNRNsf3A",
        "colab_type": "code",
        "colab": {
          "base_uri": "https://localhost:8080/",
          "height": 268
        },
        "outputId": "6c614392-ad9d-4e1f-aff9-614ce41ecad3"
      },
      "source": [
        "x = np.random.randint(-30,50,size = 1000)\n",
        "plt.hist(x);"
      ],
      "execution_count": 23,
      "outputs": [
        {
          "output_type": "display_data",
          "data": {
            "image/png": "[encoded data removed]",
            "text/plain": [
              "<Figure size 432x288 with 1 Axes>"
            ]
          },
          "metadata": {
            "tags": []
          }
        }
      ]
    },
    {
      "cell_type": "markdown",
      "metadata": {
        "id": "VrH_ksc-tklw",
        "colab_type": "text"
      },
      "source": [
        "`np.random.seed(42)` will produce the same random numbers regardless which machine this code is ran on."
      ]
    },
    {
      "cell_type": "markdown",
      "metadata": {
        "id": "uGicYziAuTfI",
        "colab_type": "text"
      },
      "source": [
        "Shaping the numpy arrays."
      ]
    },
    {
      "cell_type": "code",
      "metadata": {
        "id": "ARnczi9TuFCR",
        "colab_type": "code",
        "colab": {}
      },
      "source": [
        "arr = np.arange(25)\n",
        "random_arr = np.random.randint(0,50,10)"
      ],
      "execution_count": 0,
      "outputs": []
    },
    {
      "cell_type": "code",
      "metadata": {
        "id": "E9Bu7vebudTV",
        "colab_type": "code",
        "colab": {
          "base_uri": "https://localhost:8080/",
          "height": 54
        },
        "outputId": "8bba9f5c-2683-4d53-8e9b-f149542163a0"
      },
      "source": [
        "arr"
      ],
      "execution_count": 25,
      "outputs": [
        {
          "output_type": "execute_result",
          "data": {
            "text/plain": [
              "array([ 0,  1,  2,  3,  4,  5,  6,  7,  8,  9, 10, 11, 12, 13, 14, 15, 16,\n",
              "       17, 18, 19, 20, 21, 22, 23, 24])"
            ]
          },
          "metadata": {
            "tags": []
          },
          "execution_count": 25
        }
      ]
    },
    {
      "cell_type": "code",
      "metadata": {
        "id": "By_UZ83Aud0o",
        "colab_type": "code",
        "colab": {
          "base_uri": "https://localhost:8080/",
          "height": 35
        },
        "outputId": "a108ade5-77bc-4da7-9489-275e5617be78"
      },
      "source": [
        "random_arr"
      ],
      "execution_count": 26,
      "outputs": [
        {
          "output_type": "execute_result",
          "data": {
            "text/plain": [
              "array([20, 15, 23, 33, 17,  5, 19,  8, 22, 21])"
            ]
          },
          "metadata": {
            "tags": []
          },
          "execution_count": 26
        }
      ]
    },
    {
      "cell_type": "code",
      "metadata": {
        "id": "W7yGckcjuf8P",
        "colab_type": "code",
        "colab": {
          "base_uri": "https://localhost:8080/",
          "height": 109
        },
        "outputId": "b5ee8487-33f6-4290-c3ff-5b864f69acb1"
      },
      "source": [
        "arr.reshape(5,5)"
      ],
      "execution_count": 27,
      "outputs": [
        {
          "output_type": "execute_result",
          "data": {
            "text/plain": [
              "array([[ 0,  1,  2,  3,  4],\n",
              "       [ 5,  6,  7,  8,  9],\n",
              "       [10, 11, 12, 13, 14],\n",
              "       [15, 16, 17, 18, 19],\n",
              "       [20, 21, 22, 23, 24]])"
            ]
          },
          "metadata": {
            "tags": []
          },
          "execution_count": 27
        }
      ]
    },
    {
      "cell_type": "markdown",
      "metadata": {
        "id": "tlm5eKW8ulHv",
        "colab_type": "text"
      },
      "source": [
        "Finding the Minimum and Maximum from an array of data."
      ]
    },
    {
      "cell_type": "code",
      "metadata": {
        "id": "fzu2pydOuyYi",
        "colab_type": "code",
        "colab": {
          "base_uri": "https://localhost:8080/",
          "height": 35
        },
        "outputId": "e22b48a1-65a4-42e1-96ae-db4503d0abf5"
      },
      "source": [
        "random_arr.max()"
      ],
      "execution_count": 28,
      "outputs": [
        {
          "output_type": "execute_result",
          "data": {
            "text/plain": [
              "33"
            ]
          },
          "metadata": {
            "tags": []
          },
          "execution_count": 28
        }
      ]
    },
    {
      "cell_type": "code",
      "metadata": {
        "id": "qWhtmiQmu0YZ",
        "colab_type": "code",
        "colab": {
          "base_uri": "https://localhost:8080/",
          "height": 35
        },
        "outputId": "3734e19a-8c43-42d4-c911-84c4f45900ec"
      },
      "source": [
        "random_arr.min()"
      ],
      "execution_count": 29,
      "outputs": [
        {
          "output_type": "execute_result",
          "data": {
            "text/plain": [
              "5"
            ]
          },
          "metadata": {
            "tags": []
          },
          "execution_count": 29
        }
      ]
    },
    {
      "cell_type": "markdown",
      "metadata": {
        "id": "dPrmfPr4u2Yh",
        "colab_type": "text"
      },
      "source": [
        "Finding the location where the min/max values are located."
      ]
    },
    {
      "cell_type": "code",
      "metadata": {
        "id": "DMmjPgttu7sW",
        "colab_type": "code",
        "colab": {
          "base_uri": "https://localhost:8080/",
          "height": 35
        },
        "outputId": "a32f776a-d5bf-46d5-e6f8-4c445b97b312"
      },
      "source": [
        "random_arr.argmax()"
      ],
      "execution_count": 30,
      "outputs": [
        {
          "output_type": "execute_result",
          "data": {
            "text/plain": [
              "3"
            ]
          },
          "metadata": {
            "tags": []
          },
          "execution_count": 30
        }
      ]
    },
    {
      "cell_type": "code",
      "metadata": {
        "id": "KqN-xDeDu9mF",
        "colab_type": "code",
        "colab": {
          "base_uri": "https://localhost:8080/",
          "height": 35
        },
        "outputId": "14fc5999-5d9a-40ce-934d-9cb13e133dc4"
      },
      "source": [
        "random_arr.argmin()"
      ],
      "execution_count": 31,
      "outputs": [
        {
          "output_type": "execute_result",
          "data": {
            "text/plain": [
              "5"
            ]
          },
          "metadata": {
            "tags": []
          },
          "execution_count": 31
        }
      ]
    },
    {
      "cell_type": "code",
      "metadata": {
        "id": "Vyx9gxb0wF2r",
        "colab_type": "code",
        "colab": {
          "base_uri": "https://localhost:8080/",
          "height": 35
        },
        "outputId": "9e5116d7-993a-4a3a-af8e-482862e78e34"
      },
      "source": [
        "print(f\"We can see that the maximum value is located at index location {random_arr.argmax()} and the minimum value is located at {random_arr.argmin()}.\")"
      ],
      "execution_count": 32,
      "outputs": [
        {
          "output_type": "stream",
          "text": [
            "We can see that the maximum value is located at index location 3 and the minimum value is located at 5.\n"
          ],
          "name": "stdout"
        }
      ]
    },
    {
      "cell_type": "code",
      "metadata": {
        "id": "lJbFEQmKvAWg",
        "colab_type": "code",
        "colab": {
          "base_uri": "https://localhost:8080/",
          "height": 35
        },
        "outputId": "8a8b0042-def9-4ca0-8bec-c68eeea3c0f4"
      },
      "source": [
        "random_arr"
      ],
      "execution_count": 33,
      "outputs": [
        {
          "output_type": "execute_result",
          "data": {
            "text/plain": [
              "array([20, 15, 23, 33, 17,  5, 19,  8, 22, 21])"
            ]
          },
          "metadata": {
            "tags": []
          },
          "execution_count": 33
        }
      ]
    },
    {
      "cell_type": "markdown",
      "metadata": {
        "id": "mN4pYMtXvMKE",
        "colab_type": "text"
      },
      "source": [
        "---\n",
        "Changing array values accidentally."
      ]
    },
    {
      "cell_type": "code",
      "metadata": {
        "id": "p-o88nXev7HN",
        "colab_type": "code",
        "colab": {}
      },
      "source": [
        "arr = np.arange(0,11)"
      ],
      "execution_count": 0,
      "outputs": []
    },
    {
      "cell_type": "code",
      "metadata": {
        "id": "gYwk9tVRwq-m",
        "colab_type": "code",
        "colab": {
          "base_uri": "https://localhost:8080/",
          "height": 35
        },
        "outputId": "26a783cf-13dc-49e5-fec3-18d3a658d3e6"
      },
      "source": [
        "arr"
      ],
      "execution_count": 35,
      "outputs": [
        {
          "output_type": "execute_result",
          "data": {
            "text/plain": [
              "array([ 0,  1,  2,  3,  4,  5,  6,  7,  8,  9, 10])"
            ]
          },
          "metadata": {
            "tags": []
          },
          "execution_count": 35
        }
      ]
    },
    {
      "cell_type": "code",
      "metadata": {
        "id": "zCpF6VTnwoPu",
        "colab_type": "code",
        "colab": {
          "base_uri": "https://localhost:8080/",
          "height": 35
        },
        "outputId": "9d4353cf-ec95-4759-b942-55a2795ea224"
      },
      "source": [
        "# Finding the 8th element in the array\n",
        "arr[8]"
      ],
      "execution_count": 36,
      "outputs": [
        {
          "output_type": "execute_result",
          "data": {
            "text/plain": [
              "8"
            ]
          },
          "metadata": {
            "tags": []
          },
          "execution_count": 36
        }
      ]
    },
    {
      "cell_type": "code",
      "metadata": {
        "id": "ktKNcUQLwpqM",
        "colab_type": "code",
        "colab": {
          "base_uri": "https://localhost:8080/",
          "height": 35
        },
        "outputId": "143cb9e4-4f89-4ced-886c-c78f852ebbf3"
      },
      "source": [
        "# This starts at 1 and goes upto 5 not including\n",
        "arr[1:5]"
      ],
      "execution_count": 37,
      "outputs": [
        {
          "output_type": "execute_result",
          "data": {
            "text/plain": [
              "array([1, 2, 3, 4])"
            ]
          },
          "metadata": {
            "tags": []
          },
          "execution_count": 37
        }
      ]
    },
    {
      "cell_type": "code",
      "metadata": {
        "id": "1srk6-gbwxqC",
        "colab_type": "code",
        "colab": {
          "base_uri": "https://localhost:8080/",
          "height": 35
        },
        "outputId": "b0a3a9cd-6684-4630-a1c4-eec075baff8a"
      },
      "source": [
        "# Start at 5 and got till the end\n",
        "arr[5:]"
      ],
      "execution_count": 38,
      "outputs": [
        {
          "output_type": "execute_result",
          "data": {
            "text/plain": [
              "array([ 5,  6,  7,  8,  9, 10])"
            ]
          },
          "metadata": {
            "tags": []
          },
          "execution_count": 38
        }
      ]
    },
    {
      "cell_type": "code",
      "metadata": {
        "id": "IeF3V1Kiw6dH",
        "colab_type": "code",
        "colab": {
          "base_uri": "https://localhost:8080/",
          "height": 35
        },
        "outputId": "5d4a22b7-9d3c-42db-bfdf-dc4ea6f80bf6"
      },
      "source": [
        "# Braodcasting\n",
        "arr + 100"
      ],
      "execution_count": 39,
      "outputs": [
        {
          "output_type": "execute_result",
          "data": {
            "text/plain": [
              "array([100, 101, 102, 103, 104, 105, 106, 107, 108, 109, 110])"
            ]
          },
          "metadata": {
            "tags": []
          },
          "execution_count": 39
        }
      ]
    },
    {
      "cell_type": "markdown",
      "metadata": {
        "id": "VYlfPMruxAPB",
        "colab_type": "text"
      },
      "source": [
        "Be careful as some operations will change the original array. See below example."
      ]
    },
    {
      "cell_type": "code",
      "metadata": {
        "id": "XDbLfBjLxdgY",
        "colab_type": "code",
        "colab": {
          "base_uri": "https://localhost:8080/",
          "height": 35
        },
        "outputId": "58cf78f2-d3c9-4202-ba6e-9d0e27087679"
      },
      "source": [
        "# Original array\n",
        "arr"
      ],
      "execution_count": 40,
      "outputs": [
        {
          "output_type": "execute_result",
          "data": {
            "text/plain": [
              "array([ 0,  1,  2,  3,  4,  5,  6,  7,  8,  9, 10])"
            ]
          },
          "metadata": {
            "tags": []
          },
          "execution_count": 40
        }
      ]
    },
    {
      "cell_type": "code",
      "metadata": {
        "id": "H-IAoZHWxevB",
        "colab_type": "code",
        "colab": {
          "base_uri": "https://localhost:8080/",
          "height": 35
        },
        "outputId": "ce8fab2a-f544-4c08-9306-c5a86ec09343"
      },
      "source": [
        "# New array created by slicing old array\n",
        "\n",
        "new_arr = arr[0:4]\n",
        "new_arr"
      ],
      "execution_count": 41,
      "outputs": [
        {
          "output_type": "execute_result",
          "data": {
            "text/plain": [
              "array([0, 1, 2, 3])"
            ]
          },
          "metadata": {
            "tags": []
          },
          "execution_count": 41
        }
      ]
    },
    {
      "cell_type": "code",
      "metadata": {
        "id": "d1iX36vvxm19",
        "colab_type": "code",
        "colab": {}
      },
      "source": [
        "# Assigning a new value to new array\n",
        "\n",
        "new_arr[:] = 120"
      ],
      "execution_count": 0,
      "outputs": []
    },
    {
      "cell_type": "code",
      "metadata": {
        "id": "UgYU5F7exvWp",
        "colab_type": "code",
        "colab": {
          "base_uri": "https://localhost:8080/",
          "height": 35
        },
        "outputId": "39e82c6a-726a-4419-9418-7e820d12b287"
      },
      "source": [
        "# Changed the value of new array\n",
        "new_arr"
      ],
      "execution_count": 43,
      "outputs": [
        {
          "output_type": "execute_result",
          "data": {
            "text/plain": [
              "array([120, 120, 120, 120])"
            ]
          },
          "metadata": {
            "tags": []
          },
          "execution_count": 43
        }
      ]
    },
    {
      "cell_type": "markdown",
      "metadata": {
        "id": "JDgri9mCyL1B",
        "colab_type": "text"
      },
      "source": [
        "But this has also changed the original array.\n"
      ]
    },
    {
      "cell_type": "code",
      "metadata": {
        "id": "t11mq8xSxwfG",
        "colab_type": "code",
        "colab": {
          "base_uri": "https://localhost:8080/",
          "height": 35
        },
        "outputId": "9839f6a9-c69c-4ca8-87dd-906ea703d805"
      },
      "source": [
        "arr"
      ],
      "execution_count": 44,
      "outputs": [
        {
          "output_type": "execute_result",
          "data": {
            "text/plain": [
              "array([120, 120, 120, 120,   4,   5,   6,   7,   8,   9,  10])"
            ]
          },
          "metadata": {
            "tags": []
          },
          "execution_count": 44
        }
      ]
    },
    {
      "cell_type": "markdown",
      "metadata": {
        "id": "B78a5i2bxz4p",
        "colab_type": "text"
      },
      "source": [
        "We should be careful when slicing and saving the array. Its best to save a copy of the array, as shown below."
      ]
    },
    {
      "cell_type": "code",
      "metadata": {
        "id": "nsTOITr0zp1g",
        "colab_type": "code",
        "colab": {}
      },
      "source": [
        "arr = np.arange(0,11)\n",
        "new_arr = arr.copy()"
      ],
      "execution_count": 0,
      "outputs": []
    },
    {
      "cell_type": "code",
      "metadata": {
        "id": "O_zgUB3Uzry_",
        "colab_type": "code",
        "colab": {
          "base_uri": "https://localhost:8080/",
          "height": 35
        },
        "outputId": "e654fb13-815a-4639-c04f-a876a94e380e"
      },
      "source": [
        "new_arr"
      ],
      "execution_count": 46,
      "outputs": [
        {
          "output_type": "execute_result",
          "data": {
            "text/plain": [
              "array([ 0,  1,  2,  3,  4,  5,  6,  7,  8,  9, 10])"
            ]
          },
          "metadata": {
            "tags": []
          },
          "execution_count": 46
        }
      ]
    },
    {
      "cell_type": "code",
      "metadata": {
        "id": "cDr3gZ7YzsqP",
        "colab_type": "code",
        "colab": {
          "base_uri": "https://localhost:8080/",
          "height": 35
        },
        "outputId": "c089cb6a-68d2-438e-826e-bf9f77e56398"
      },
      "source": [
        "new_arr[:] = 120\n",
        "new_arr\n",
        "# New array values have changed"
      ],
      "execution_count": 47,
      "outputs": [
        {
          "output_type": "execute_result",
          "data": {
            "text/plain": [
              "array([120, 120, 120, 120, 120, 120, 120, 120, 120, 120, 120])"
            ]
          },
          "metadata": {
            "tags": []
          },
          "execution_count": 47
        }
      ]
    },
    {
      "cell_type": "code",
      "metadata": {
        "id": "yL8T-OZIzzKp",
        "colab_type": "code",
        "colab": {
          "base_uri": "https://localhost:8080/",
          "height": 35
        },
        "outputId": "1ffe4c8e-0a09-4bc0-bba2-d24c979dad7b"
      },
      "source": [
        "# Old array still has the original values.\n",
        "arr"
      ],
      "execution_count": 48,
      "outputs": [
        {
          "output_type": "execute_result",
          "data": {
            "text/plain": [
              "array([ 0,  1,  2,  3,  4,  5,  6,  7,  8,  9, 10])"
            ]
          },
          "metadata": {
            "tags": []
          },
          "execution_count": 48
        }
      ]
    },
    {
      "cell_type": "markdown",
      "metadata": {
        "id": "x1WZC1oOzzpf",
        "colab_type": "text"
      },
      "source": [
        "---\n",
        "Indexing"
      ]
    },
    {
      "cell_type": "code",
      "metadata": {
        "id": "5KtgzGbB1rw5",
        "colab_type": "code",
        "colab": {}
      },
      "source": [
        "arr_2d = np.array([[5,10,0,35],[20,np.nan,30,60],[0,40,45,np.nan]])"
      ],
      "execution_count": 0,
      "outputs": []
    },
    {
      "cell_type": "code",
      "metadata": {
        "id": "120z3ynP10zL",
        "colab_type": "code",
        "colab": {
          "base_uri": "https://localhost:8080/",
          "height": 72
        },
        "outputId": "e62f7fbd-bad7-4290-a2d0-0f3cbcba21ce"
      },
      "source": [
        "arr_2d"
      ],
      "execution_count": 50,
      "outputs": [
        {
          "output_type": "execute_result",
          "data": {
            "text/plain": [
              "array([[ 5., 10.,  0., 35.],\n",
              "       [20., nan, 30., 60.],\n",
              "       [ 0., 40., 45., nan]])"
            ]
          },
          "metadata": {
            "tags": []
          },
          "execution_count": 50
        }
      ]
    },
    {
      "cell_type": "code",
      "metadata": {
        "id": "dd2dzIqB13Uu",
        "colab_type": "code",
        "colab": {
          "base_uri": "https://localhost:8080/",
          "height": 35
        },
        "outputId": "361c5f90-f8a1-4798-e8e1-d5b5bde4c134"
      },
      "source": [
        "arr_2d.shape"
      ],
      "execution_count": 51,
      "outputs": [
        {
          "output_type": "execute_result",
          "data": {
            "text/plain": [
              "(3, 4)"
            ]
          },
          "metadata": {
            "tags": []
          },
          "execution_count": 51
        }
      ]
    },
    {
      "cell_type": "markdown",
      "metadata": {
        "id": "H2FzpzwS2XHZ",
        "colab_type": "text"
      },
      "source": [
        "Selecting the `nan` value in the second row. Since the indexing starts at 0, the value is in row 1 and column 1"
      ]
    },
    {
      "cell_type": "code",
      "metadata": {
        "id": "gQgICpf916Wq",
        "colab_type": "code",
        "colab": {
          "base_uri": "https://localhost:8080/",
          "height": 35
        },
        "outputId": "beb6cec1-0d6c-4adc-d0a3-e6a89adf6829"
      },
      "source": [
        "arr_2d[1,1]"
      ],
      "execution_count": 52,
      "outputs": [
        {
          "output_type": "execute_result",
          "data": {
            "text/plain": [
              "nan"
            ]
          },
          "metadata": {
            "tags": []
          },
          "execution_count": 52
        }
      ]
    },
    {
      "cell_type": "markdown",
      "metadata": {
        "id": "91-XNCWQ2dOA",
        "colab_type": "text"
      },
      "source": [
        "Selecting the all the elements int the 3rd row."
      ]
    },
    {
      "cell_type": "code",
      "metadata": {
        "id": "i71ywn1J37t6",
        "colab_type": "code",
        "colab": {
          "base_uri": "https://localhost:8080/",
          "height": 35
        },
        "outputId": "c8a33b5f-c508-4d66-c012-be0ab5b868de"
      },
      "source": [
        "arr_2d[2,:]"
      ],
      "execution_count": 53,
      "outputs": [
        {
          "output_type": "execute_result",
          "data": {
            "text/plain": [
              "array([ 0., 40., 45., nan])"
            ]
          },
          "metadata": {
            "tags": []
          },
          "execution_count": 53
        }
      ]
    },
    {
      "cell_type": "markdown",
      "metadata": {
        "id": "2NwdfvqE4A2d",
        "colab_type": "text"
      },
      "source": [
        "Selecting just `45` from the last row."
      ]
    },
    {
      "cell_type": "code",
      "metadata": {
        "id": "ykhLiTpc4FCs",
        "colab_type": "code",
        "colab": {
          "base_uri": "https://localhost:8080/",
          "height": 35
        },
        "outputId": "cfe0f8bc-92eb-471b-86f4-f31aba8af93b"
      },
      "source": [
        "arr_2d[2,2]"
      ],
      "execution_count": 54,
      "outputs": [
        {
          "output_type": "execute_result",
          "data": {
            "text/plain": [
              "45.0"
            ]
          },
          "metadata": {
            "tags": []
          },
          "execution_count": 54
        }
      ]
    },
    {
      "cell_type": "code",
      "metadata": {
        "id": "w_eu819c4RWB",
        "colab_type": "code",
        "colab": {
          "base_uri": "https://localhost:8080/",
          "height": 72
        },
        "outputId": "0459c928-acd9-40c9-dea5-25a91078fb8e"
      },
      "source": [
        "arr_2d"
      ],
      "execution_count": 55,
      "outputs": [
        {
          "output_type": "execute_result",
          "data": {
            "text/plain": [
              "array([[ 5., 10.,  0., 35.],\n",
              "       [20., nan, 30., 60.],\n",
              "       [ 0., 40., 45., nan]])"
            ]
          },
          "metadata": {
            "tags": []
          },
          "execution_count": 55
        }
      ]
    },
    {
      "cell_type": "markdown",
      "metadata": {
        "id": "SFRulBkn42Dz",
        "colab_type": "text"
      },
      "source": [
        "Selecting `nan, 30, 60` from the middle row and `40,45,nan` from the last row."
      ]
    },
    {
      "cell_type": "code",
      "metadata": {
        "id": "nVkO32xc480K",
        "colab_type": "code",
        "colab": {
          "base_uri": "https://localhost:8080/",
          "height": 54
        },
        "outputId": "67f75025-f7c5-412b-8a1b-57cbe543eaa5"
      },
      "source": [
        "arr_2d[1:,1:]"
      ],
      "execution_count": 56,
      "outputs": [
        {
          "output_type": "execute_result",
          "data": {
            "text/plain": [
              "array([[nan, 30., 60.],\n",
              "       [40., 45., nan]])"
            ]
          },
          "metadata": {
            "tags": []
          },
          "execution_count": 56
        }
      ]
    },
    {
      "cell_type": "markdown",
      "metadata": {
        "id": "81Cm67e55D9w",
        "colab_type": "text"
      },
      "source": [
        "---\n",
        "Conditional selection"
      ]
    },
    {
      "cell_type": "code",
      "metadata": {
        "id": "wukXg0cK5dsE",
        "colab_type": "code",
        "colab": {
          "base_uri": "https://localhost:8080/",
          "height": 35
        },
        "outputId": "daf9a277-cc15-4760-b668-baf8d79718ec"
      },
      "source": [
        "arr"
      ],
      "execution_count": 57,
      "outputs": [
        {
          "output_type": "execute_result",
          "data": {
            "text/plain": [
              "array([ 0,  1,  2,  3,  4,  5,  6,  7,  8,  9, 10])"
            ]
          },
          "metadata": {
            "tags": []
          },
          "execution_count": 57
        }
      ]
    },
    {
      "cell_type": "markdown",
      "metadata": {
        "id": "LFYudiZu5pjd",
        "colab_type": "text"
      },
      "source": [
        "Suppose we want to return all the elements greater than 4.\n"
      ]
    },
    {
      "cell_type": "code",
      "metadata": {
        "id": "RjwWp71G5e3t",
        "colab_type": "code",
        "colab": {
          "base_uri": "https://localhost:8080/",
          "height": 54
        },
        "outputId": "4daa169b-174c-411d-d785-dc70780f3a40"
      },
      "source": [
        "# Returns the boolean output\n",
        "arr > 4"
      ],
      "execution_count": 58,
      "outputs": [
        {
          "output_type": "execute_result",
          "data": {
            "text/plain": [
              "array([False, False, False, False, False,  True,  True,  True,  True,\n",
              "        True,  True])"
            ]
          },
          "metadata": {
            "tags": []
          },
          "execution_count": 58
        }
      ]
    },
    {
      "cell_type": "code",
      "metadata": {
        "id": "PERCJnby5f5a",
        "colab_type": "code",
        "colab": {
          "base_uri": "https://localhost:8080/",
          "height": 35
        },
        "outputId": "5cc34075-d16b-4c29-ee3e-df05c54f9ae5"
      },
      "source": [
        "bool_arr = arr > 4\n",
        "\n",
        "arr[bool_arr]"
      ],
      "execution_count": 59,
      "outputs": [
        {
          "output_type": "execute_result",
          "data": {
            "text/plain": [
              "array([ 5,  6,  7,  8,  9, 10])"
            ]
          },
          "metadata": {
            "tags": []
          },
          "execution_count": 59
        }
      ]
    },
    {
      "cell_type": "markdown",
      "metadata": {
        "id": "aYiDsjdS5nox",
        "colab_type": "text"
      },
      "source": [
        "Suppose we want to return all the elements greater than 4 but less than 8."
      ]
    },
    {
      "cell_type": "code",
      "metadata": {
        "id": "6rOyITpM6LHb",
        "colab_type": "code",
        "colab": {
          "base_uri": "https://localhost:8080/",
          "height": 35
        },
        "outputId": "a8131c54-f5c5-44d0-d0d2-2324558afa40"
      },
      "source": [
        "arr"
      ],
      "execution_count": 60,
      "outputs": [
        {
          "output_type": "execute_result",
          "data": {
            "text/plain": [
              "array([ 0,  1,  2,  3,  4,  5,  6,  7,  8,  9, 10])"
            ]
          },
          "metadata": {
            "tags": []
          },
          "execution_count": 60
        }
      ]
    },
    {
      "cell_type": "code",
      "metadata": {
        "id": "qUIxoEo7526W",
        "colab_type": "code",
        "colab": {
          "base_uri": "https://localhost:8080/",
          "height": 35
        },
        "outputId": "055800bf-05ce-4ba3-9ff0-138bd6e74873"
      },
      "source": [
        "arr[(arr > 4) & (arr < 8)]"
      ],
      "execution_count": 61,
      "outputs": [
        {
          "output_type": "execute_result",
          "data": {
            "text/plain": [
              "array([5, 6, 7])"
            ]
          },
          "metadata": {
            "tags": []
          },
          "execution_count": 61
        }
      ]
    },
    {
      "cell_type": "markdown",
      "metadata": {
        "id": "0rWQRKx-53il",
        "colab_type": "text"
      },
      "source": [
        "---\n",
        "Performing Operations on arrays"
      ]
    },
    {
      "cell_type": "code",
      "metadata": {
        "id": "EchJEVNA6bAU",
        "colab_type": "code",
        "colab": {
          "base_uri": "https://localhost:8080/",
          "height": 35
        },
        "outputId": "e117fdbf-a879-4693-f936-0a1c9d2c1fdf"
      },
      "source": [
        "arr"
      ],
      "execution_count": 62,
      "outputs": [
        {
          "output_type": "execute_result",
          "data": {
            "text/plain": [
              "array([ 0,  1,  2,  3,  4,  5,  6,  7,  8,  9, 10])"
            ]
          },
          "metadata": {
            "tags": []
          },
          "execution_count": 62
        }
      ]
    },
    {
      "cell_type": "code",
      "metadata": {
        "id": "oRH824xZ6buC",
        "colab_type": "code",
        "colab": {
          "base_uri": "https://localhost:8080/",
          "height": 35
        },
        "outputId": "a98499f7-f569-456e-e3f7-fdf7bbddea92"
      },
      "source": [
        "# Adding 100 to all\n",
        "arr + 100"
      ],
      "execution_count": 63,
      "outputs": [
        {
          "output_type": "execute_result",
          "data": {
            "text/plain": [
              "array([100, 101, 102, 103, 104, 105, 106, 107, 108, 109, 110])"
            ]
          },
          "metadata": {
            "tags": []
          },
          "execution_count": 63
        }
      ]
    },
    {
      "cell_type": "code",
      "metadata": {
        "id": "iQNYAuSN6cpj",
        "colab_type": "code",
        "colab": {
          "base_uri": "https://localhost:8080/",
          "height": 35
        },
        "outputId": "9d8613bf-426e-460b-b1e5-6a17a20ed21f"
      },
      "source": [
        "arr + arr"
      ],
      "execution_count": 64,
      "outputs": [
        {
          "output_type": "execute_result",
          "data": {
            "text/plain": [
              "array([ 0,  2,  4,  6,  8, 10, 12, 14, 16, 18, 20])"
            ]
          },
          "metadata": {
            "tags": []
          },
          "execution_count": 64
        }
      ]
    },
    {
      "cell_type": "code",
      "metadata": {
        "id": "mVcI_QV76iBP",
        "colab_type": "code",
        "colab": {
          "base_uri": "https://localhost:8080/",
          "height": 109
        },
        "outputId": "5d1cbebe-8784-4aab-ccd1-1deef0e3b1f1"
      },
      "source": [
        "# Divide by zero, numpy wont give an error, but just give warning an Inf value.\n",
        "1/arr"
      ],
      "execution_count": 65,
      "outputs": [
        {
          "output_type": "stream",
          "text": [
            "/usr/local/lib/python3.6/dist-packages/ipykernel_launcher.py:1: RuntimeWarning: divide by zero encountered in true_divide\n",
            "  \"\"\"Entry point for launching an IPython kernel.\n"
          ],
          "name": "stderr"
        },
        {
          "output_type": "execute_result",
          "data": {
            "text/plain": [
              "array([       inf, 1.        , 0.5       , 0.33333333, 0.25      ,\n",
              "       0.2       , 0.16666667, 0.14285714, 0.125     , 0.11111111,\n",
              "       0.1       ])"
            ]
          },
          "metadata": {
            "tags": []
          },
          "execution_count": 65
        }
      ]
    },
    {
      "cell_type": "code",
      "metadata": {
        "id": "bfV4FgVP6lSL",
        "colab_type": "code",
        "colab": {
          "base_uri": "https://localhost:8080/",
          "height": 72
        },
        "outputId": "cfec2f7e-c514-484c-f4e1-ce5b5ab3c04e"
      },
      "source": [
        "# Taking the square root of all \n",
        "np.sqrt(arr)"
      ],
      "execution_count": 66,
      "outputs": [
        {
          "output_type": "execute_result",
          "data": {
            "text/plain": [
              "array([0.        , 1.        , 1.41421356, 1.73205081, 2.        ,\n",
              "       2.23606798, 2.44948974, 2.64575131, 2.82842712, 3.        ,\n",
              "       3.16227766])"
            ]
          },
          "metadata": {
            "tags": []
          },
          "execution_count": 66
        }
      ]
    },
    {
      "cell_type": "code",
      "metadata": {
        "id": "NSPOPiQB62lF",
        "colab_type": "code",
        "colab": {
          "base_uri": "https://localhost:8080/",
          "height": 35
        },
        "outputId": "f8f8a189-9407-4c55-8534-c5f6697e83a1"
      },
      "source": [
        "# Square every element\n",
        "np.square(arr)"
      ],
      "execution_count": 67,
      "outputs": [
        {
          "output_type": "execute_result",
          "data": {
            "text/plain": [
              "array([  0,   1,   4,   9,  16,  25,  36,  49,  64,  81, 100])"
            ]
          },
          "metadata": {
            "tags": []
          },
          "execution_count": 67
        }
      ]
    },
    {
      "cell_type": "code",
      "metadata": {
        "id": "_P7XfvdL64uk",
        "colab_type": "code",
        "colab": {
          "base_uri": "https://localhost:8080/",
          "height": 35
        },
        "outputId": "98209f89-af2e-4b5b-e907-b146458aa429"
      },
      "source": [
        "# Cumulative sum of all elements\n",
        "arr.sum()"
      ],
      "execution_count": 68,
      "outputs": [
        {
          "output_type": "execute_result",
          "data": {
            "text/plain": [
              "55"
            ]
          },
          "metadata": {
            "tags": []
          },
          "execution_count": 68
        }
      ]
    },
    {
      "cell_type": "code",
      "metadata": {
        "id": "Z-eLR_x36-Ur",
        "colab_type": "code",
        "colab": {}
      },
      "source": [
        "arr_2d = np.random.randint(0,10,(3,4))"
      ],
      "execution_count": 0,
      "outputs": []
    },
    {
      "cell_type": "code",
      "metadata": {
        "id": "mYFTXbnE7qii",
        "colab_type": "code",
        "colab": {
          "base_uri": "https://localhost:8080/",
          "height": 72
        },
        "outputId": "e49426db-b2f2-49ed-c663-99dbda23b12f"
      },
      "source": [
        "arr_2d"
      ],
      "execution_count": 70,
      "outputs": [
        {
          "output_type": "execute_result",
          "data": {
            "text/plain": [
              "array([[8, 2, 4, 9],\n",
              "       [6, 9, 3, 5],\n",
              "       [9, 8, 0, 3]])"
            ]
          },
          "metadata": {
            "tags": []
          },
          "execution_count": 70
        }
      ]
    },
    {
      "cell_type": "code",
      "metadata": {
        "id": "F5nyp_AN7a5A",
        "colab_type": "code",
        "colab": {
          "base_uri": "https://localhost:8080/",
          "height": 35
        },
        "outputId": "ca4d410b-509e-4c1f-8dec-dbabf6f45fac"
      },
      "source": [
        "# Sum all\n",
        "arr_2d.sum()"
      ],
      "execution_count": 71,
      "outputs": [
        {
          "output_type": "execute_result",
          "data": {
            "text/plain": [
              "66"
            ]
          },
          "metadata": {
            "tags": []
          },
          "execution_count": 71
        }
      ]
    },
    {
      "cell_type": "code",
      "metadata": {
        "id": "jiuZoki77d2P",
        "colab_type": "code",
        "colab": {
          "base_uri": "https://localhost:8080/",
          "height": 35
        },
        "outputId": "3e124f8d-a620-4059-d68b-c960e88fa7f9"
      },
      "source": [
        "# Sum by rows\n",
        "arr_2d.sum(axis=1)"
      ],
      "execution_count": 72,
      "outputs": [
        {
          "output_type": "execute_result",
          "data": {
            "text/plain": [
              "array([23, 23, 20])"
            ]
          },
          "metadata": {
            "tags": []
          },
          "execution_count": 72
        }
      ]
    },
    {
      "cell_type": "code",
      "metadata": {
        "id": "ajqZX-H67xTO",
        "colab_type": "code",
        "colab": {
          "base_uri": "https://localhost:8080/",
          "height": 35
        },
        "outputId": "d2c23cf6-f6dd-4cf5-d38e-ef2b8cdc62ab"
      },
      "source": [
        "# Sum by columns\n",
        "arr_2d.sum(axis=0)"
      ],
      "execution_count": 73,
      "outputs": [
        {
          "output_type": "execute_result",
          "data": {
            "text/plain": [
              "array([23, 19,  7, 17])"
            ]
          },
          "metadata": {
            "tags": []
          },
          "execution_count": 73
        }
      ]
    },
    {
      "cell_type": "code",
      "metadata": {
        "id": "1UjnqAcw7-9p",
        "colab_type": "code",
        "colab": {}
      },
      "source": [
        ""
      ],
      "execution_count": 0,
      "outputs": []
    }
  ]
}